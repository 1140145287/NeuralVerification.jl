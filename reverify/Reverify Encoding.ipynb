{
 "cells": [
  {
   "cell_type": "code",
   "execution_count": 6,
   "metadata": {},
   "outputs": [
    {
     "name": "stderr",
     "output_type": "stream",
     "text": [
      "\u001b[1m\u001b[36mINFO: \u001b[39m\u001b[22m\u001b[36mUpdating METADATA...\n",
      "\u001b[39m\u001b[1m\u001b[36mINFO: \u001b[39m\u001b[22m\u001b[36mComputing changes...\n",
      "\u001b[39m\u001b[1m\u001b[36mINFO: \u001b[39m\u001b[22m\u001b[36mNo packages to install, update or remove\n",
      "\u001b[39m\u001b[1m\u001b[36mINFO: \u001b[39m\u001b[22m\u001b[36mPackage JuMP is already installed\n",
      "\u001b[39m"
     ]
    }
   ],
   "source": [
    "Pkg.update() \n",
    "Pkg.add(\"JuMP\")\n",
    "Pkg.add(\"GLPKMathProgInterface\")"
   ]
  },
  {
   "cell_type": "code",
   "execution_count": 7,
   "metadata": {},
   "outputs": [],
   "source": [
    "using JuMP\n",
    "using MathProgBase\n",
    "using GLPKMathProgInterface"
   ]
  },
  {
   "cell_type": "code",
   "execution_count": 32,
   "metadata": {},
   "outputs": [],
   "source": [
    "include(\"../utils/util.jl\")\n",
    "include(\"../utils/problem.jl\")"
   ]
  },
  {
   "cell_type": "code",
   "execution_count": 33,
   "metadata": {},
   "outputs": [
    {
     "data": {
      "text/plain": [
       "Network(Layer[Layer([1.0; 1.0], [1.5, 1.5]), Layer([2.0 2.0; 2.0 2.0], [2.5, 2.5]), Layer([3.0 3.0], [3.5])])"
      ]
     },
     "execution_count": 33,
     "metadata": {},
     "output_type": "execute_result"
    }
   ],
   "source": [
    "small_nnet = read_nnet(\"small_nnet.txt\")"
   ]
  },
  {
   "cell_type": "markdown",
   "metadata": {},
   "source": [
    "* Input and output constraints in helper file\n",
    "* call function encode - aim is to transform a network, input constraints, and output constraints into a MIP\n",
    "* encode(network, input_constraints, output_constraints) - return MIP"
   ]
  },
  {
   "cell_type": "code",
   "execution_count": 45,
   "metadata": {},
   "outputs": [
    {
     "data": {
      "text/plain": [
       "Problem(Network(Layer[Layer([1.0; 1.0], [1.5, 1.5]), Layer([2.0 2.0; 2.0 2.0], [2.5, 2.5]), Layer([3.0 3.0], [3.5])]), Constraints([0.0], [0.0], [0.0], [0.0]), Constraints([0.0; 0.0], [0.0], [100.0], [0.0]))"
      ]
     },
     "execution_count": 45,
     "metadata": {},
     "output_type": "execute_result"
    }
   ],
   "source": [
    "#=\n",
    "Create example problem using small_nnet and the input/output constraitns in Reverify.ipynb\n",
    "=#\n",
    "small_nnet = read_nnet(\"small_nnet.txt\")\n",
    "input = Constraints(zeros(1,1), zeros(1), [0.0], [0.0])\n",
    "output = Constraints(zeros(2,1), zeros(1), [100.0], [0.0])\n",
    "problem = Problem(small_nnet, input, output)"
   ]
  },
  {
   "cell_type": "code",
   "execution_count": 46,
   "metadata": {},
   "outputs": [
    {
     "data": {
      "text/plain": [
       "init_nnet_vars (generic function with 1 method)"
      ]
     },
     "execution_count": 46,
     "metadata": {},
     "output_type": "execute_result"
    }
   ],
   "source": [
    "#=\n",
    "Helper function to initialize JuMP variables associated w neurons of nnet\n",
    "=#\n",
    "function init_nnet_vars(model, problem)\n",
    "    layers = problem.network.layers\n",
    "    neurons = Array{Array{Variable}}(length(layers) + 1) # include neurons & deltas for input layer\n",
    "    deltas = Array{Array{Variable}}(length(layers) + 1)\n",
    "    \n",
    "    # initialize variables for first layer\n",
    "    n_inputs = size(layers[1].weights)[2]\n",
    "    neurons[1] = @variable(model,[1:n_inputs])\n",
    "    deltas[1] = @variable(model,[1:n_inputs])\n",
    "    \n",
    "    for (i,layer) in enumerate(layers)\n",
    "        neurons[i+1] = @variable(model, [1:length(layers[i].bias)])\n",
    "        deltas[i+1] = @variable(model, [1:length(layers[i].bias)], Bin)\n",
    "    end\n",
    "    \n",
    "    return neurons, deltas\n",
    "end"
   ]
  },
  {
   "cell_type": "code",
   "execution_count": 47,
   "metadata": {},
   "outputs": [
    {
     "data": {
      "text/plain": [
       "add_io_constraints (generic function with 1 method)"
      ]
     },
     "execution_count": 47,
     "metadata": {},
     "output_type": "execute_result"
    }
   ],
   "source": [
    "#=\n",
    "Helper function for adding input/output constraints to model\n",
    "=#\n",
    "function add_io_constraints(model, problem, neuron_vars, delta_vars)\n",
    "    add_constraints(model, neuron_vars[1], problem.input)\n",
    "    add_constraints(model, neuron_vars[length(problem.network.layers)], problem.output)\n",
    "end"
   ]
  },
  {
   "cell_type": "code",
   "execution_count": 48,
   "metadata": {},
   "outputs": [
    {
     "data": {
      "text/plain": [
       "encode (generic function with 1 method)"
      ]
     },
     "execution_count": 48,
     "metadata": {},
     "output_type": "execute_result"
    }
   ],
   "source": [
    "#=\n",
    "Encode problem using Reverify algorithm\n",
    "=#\n",
    "function encode(problem)\n",
    "    model = Model(solver=GLPKSolverMIP())\n",
    "    neuron_vars, delta_vars = init_nnet_vars(model, problem) \n",
    "    add_io_constraints(model, problem, neuron_vars, delta_vars)\n",
    "    \n",
    "end"
   ]
  },
  {
   "cell_type": "code",
   "execution_count": 49,
   "metadata": {},
   "outputs": [
    {
     "ename": "LoadError",
     "evalue": "\u001b[91mIncompatible sizes\u001b[39m",
     "output_type": "error",
     "traceback": [
      "\u001b[91mIncompatible sizes\u001b[39m",
      "",
      "Stacktrace:",
      " [1] \u001b[1m_matmul\u001b[22m\u001b[22m\u001b[1m(\u001b[22m\u001b[22m::Array{Float64,2}, ::Array{JuMP.Variable,1}\u001b[1m)\u001b[22m\u001b[22m at \u001b[1m/home/amelia/anaconda3/share/julia/site/v0.6/JuMP/src/operators.jl:467\u001b[22m\u001b[22m",
      " [2] \u001b[1mmacro expansion\u001b[22m\u001b[22m at \u001b[1m/home/amelia/anaconda3/share/julia/site/v0.6/JuMP/src/macros.jl:422\u001b[22m\u001b[22m [inlined]",
      " [3] \u001b[1madd_constraints\u001b[22m\u001b[22m\u001b[1m(\u001b[22m\u001b[22m::JuMP.Model, ::Array{JuMP.Variable,1}, ::Constraints\u001b[1m)\u001b[22m\u001b[22m at \u001b[1m/home/amelia/dnn_safety/utils/util.jl:78\u001b[22m\u001b[22m",
      " [4] \u001b[1mencode\u001b[22m\u001b[22m\u001b[1m(\u001b[22m\u001b[22m::Problem\u001b[1m)\u001b[22m\u001b[22m at \u001b[1m./In[48]:7\u001b[22m\u001b[22m"
     ]
    }
   ],
   "source": [
    "encode(problem)"
   ]
  },
  {
   "cell_type": "code",
   "execution_count": null,
   "metadata": {},
   "outputs": [],
   "source": []
  }
 ],
 "metadata": {
  "kernelspec": {
   "display_name": "Julia 0.6.1",
   "language": "julia",
   "name": "julia-0.6"
  },
  "language_info": {
   "file_extension": ".jl",
   "mimetype": "application/julia",
   "name": "julia",
   "version": "0.6.1"
  }
 },
 "nbformat": 4,
 "nbformat_minor": 2
}
