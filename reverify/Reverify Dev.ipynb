{
 "cells": [
  {
   "cell_type": "markdown",
   "metadata": {},
   "source": [
    "### Notebook for testing and validating Reverify implementation"
   ]
  },
  {
   "cell_type": "code",
   "execution_count": 1,
   "metadata": {
    "scrolled": true
   },
   "outputs": [
    {
     "name": "stderr",
     "output_type": "stream",
     "text": [
      "\u001b[1m\u001b[36mINFO: \u001b[39m\u001b[22m\u001b[36mUpdating METADATA...\n",
      "\u001b[39m\u001b[1m\u001b[36mINFO: \u001b[39m\u001b[22m\u001b[36mComputing changes...\n",
      "\u001b[39m\u001b[1m\u001b[36mINFO: \u001b[39m\u001b[22m\u001b[36mNo packages to install, update or remove\n",
      "\u001b[39m\u001b[1m\u001b[36mINFO: \u001b[39m\u001b[22m\u001b[36mPackage JuMP is already installed\n",
      "\u001b[39m\u001b[1m\u001b[36mINFO: \u001b[39m\u001b[22m\u001b[36mPackage GLPKMathProgInterface is already installed\n",
      "\u001b[39m"
     ]
    }
   ],
   "source": [
    "Pkg.update() \n",
    "Pkg.add(\"JuMP\")\n",
    "Pkg.add(\"GLPKMathProgInterface\")"
   ]
  },
  {
   "cell_type": "code",
   "execution_count": 2,
   "metadata": {},
   "outputs": [],
   "source": [
    "using JuMP\n",
    "using MathProgBase\n",
    "using GLPKMathProgInterface"
   ]
  },
  {
   "cell_type": "code",
   "execution_count": 3,
   "metadata": {},
   "outputs": [
    {
     "data": {
      "text/plain": [
       "add_constraints (generic function with 1 method)"
      ]
     },
     "execution_count": 3,
     "metadata": {},
     "output_type": "execute_result"
    }
   ],
   "source": [
    "include(\"../utils/util.jl\")\n",
    "include(\"../utils/problem.jl\")"
   ]
  },
  {
   "cell_type": "code",
   "execution_count": 4,
   "metadata": {},
   "outputs": [
    {
     "data": {
      "text/plain": [
       "add_input_constraints (generic function with 2 methods)"
      ]
     },
     "execution_count": 4,
     "metadata": {},
     "output_type": "execute_result"
    }
   ],
   "source": [
    "function add_input_constraints(nnet::Network, m::Model, upperBounds::Vector{Float64}, lowerBounds::Vector{Float64}, \n",
    "                               A::Matrix{Float64} = [eye(length(upperBounds)); -eye(length(lowerBounds))])\n",
    "    n_inputs = size(nnet.layers[1].weights)[2]\n",
    "    b = [upperBounds; -lowerBounds]\n",
    "    x_in = @variable(m, [1:n_inputs])\n",
    "    @constraint(m, A*x_in .<= b)\n",
    "    return x_in\n",
    "end"
   ]
  },
  {
   "cell_type": "code",
   "execution_count": 5,
   "metadata": {},
   "outputs": [
    {
     "data": {
      "text/plain": [
       "add_output_constraints (generic function with 2 methods)"
      ]
     },
     "execution_count": 5,
     "metadata": {},
     "output_type": "execute_result"
    }
   ],
   "source": [
    "function add_output_constraints(nnet::Network, m::Model, upperBounds::Vector{Float64}, lowerBounds::Vector{Float64}, \n",
    "                                A::Matrix{Float64}=[eye(length(upperBounds)); -eye(length(lowerBounds))])\n",
    "    n_outputs = size(nnet.layers[length(nnet.layers)].weights)[1]\n",
    "    b = [upperBounds; -lowerBounds]\n",
    "    x_out = @variable(m, [1:n_outputs])\n",
    "    @constraint(m, A * x_out .<= b)\n",
    "    return x_out\n",
    "end"
   ]
  },
  {
   "cell_type": "code",
   "execution_count": 6,
   "metadata": {},
   "outputs": [
    {
     "data": {
      "text/plain": [
       "add_network_constraints (generic function with 1 method)"
      ]
     },
     "execution_count": 6,
     "metadata": {},
     "output_type": "execute_result"
    }
   ],
   "source": [
    "function add_network_constraints(nnet::Network, m::Model,  x_in::Array{JuMP.Variable,1}, \n",
    "                                 x_out::Array{JuMP.Variable,1}, M::Float64)\n",
    "    layers = nnet.layers\n",
    "    x_net = @variable(m, [i=1:length(layers) - 1, j=1:length(layers[i].bias)]) \n",
    "    deltas = @variable(m, [i=1:length(layers), j=1:length(layers[i].bias)], Bin) \n",
    "    \n",
    "    for i in 1:length(layers) - 1\n",
    "        weights = layers[i].weights\n",
    "        bias = layers[i].bias\n",
    "        for j in 1:length(bias)\n",
    "            if i == 1\n",
    "                dot_prod = @expression(m, [k=1:size(nnet.layers[1].weights)[2]], sum(weights[j,k] * x_in[k]))\n",
    "            else\n",
    "                dot_prod = @expression(m, [k=1:length(layers[i-1].bias)], sum(weights[j,k] * x_net[i-1,k]))\n",
    "            end\n",
    "            @constraint(m, x_net[i,j] .>= dot_prod + bias[j]) \n",
    "            @constraint(m, x_net[i,j] .<= dot_prod + bias[j] + M*deltas[i,j])\n",
    "            @constraint(m, x_net[i,j] >= 0)\n",
    "            @constraint(m, x_net[i,j] <= M*(1 - deltas[i,j]))\n",
    "        end\n",
    "    end\n",
    "    \n",
    "    i = length(layers)\n",
    "    weights = layers[i].weights\n",
    "    bias = layers[i].bias\n",
    "    for l in 1:length(bias)\n",
    "        k_upper = length(nnet.layers[i-1].bias)\n",
    "        dot_prod = @expression(m, [k=1:length(nnet.layers[i-1].bias)], sum(weights[l,k] * x_net[i-1,k]))\n",
    "        @constraint(m, x_out[l] .>= dot_prod + bias[l])\n",
    "        @constraint(m, x_out[l] .<= dot_prod + bias[l] + M*deltas[i,l])\n",
    "        @constraint(m, x_out[l] >= 0)\n",
    "        @constraint(m, x_out[l] <= M*(1 - deltas[i,l]))\n",
    "    end\n",
    "end"
   ]
  },
  {
   "cell_type": "markdown",
   "metadata": {},
   "source": [
    "## Small Network Example\n",
    "* small network has two hidden layers with 2 neurons and input and output layers with 1 neuron\n",
    "* for input 0.0, small_nnet should produce output 55.0 "
   ]
  },
  {
   "cell_type": "code",
   "execution_count": 7,
   "metadata": {},
   "outputs": [
    {
     "data": {
      "text/plain": [
       "Network(Layer[Layer([1.0; 1.0], [1.5, 1.5], GeneralAct(#undef)), Layer([2.0 2.0; 2.0 2.0], [2.5, 2.5], GeneralAct(#undef)), Layer([3.0 3.0], [3.5], GeneralAct(#undef))])"
      ]
     },
     "execution_count": 7,
     "metadata": {},
     "output_type": "execute_result"
    }
   ],
   "source": [
    "# Read in small_nnet\n",
    "small_nnet = read_nnet(\"../examples/networks/small_nnet.txt\")"
   ]
  },
  {
   "cell_type": "code",
   "execution_count": 8,
   "metadata": {},
   "outputs": [
    {
     "data": {
      "text/plain": [
       "1-element Array{Float64,1}:\n",
       " 54.5"
      ]
     },
     "execution_count": 8,
     "metadata": {},
     "output_type": "execute_result"
    }
   ],
   "source": [
    "input = [0.0]\n",
    "compute_output(small_nnet, input)"
   ]
  },
  {
   "cell_type": "code",
   "execution_count": 9,
   "metadata": {
    "scrolled": true
   },
   "outputs": [
    {
     "name": "stdout",
     "output_type": "stream",
     "text": [
      "Optimal\n"
     ]
    }
   ],
   "source": [
    "# Should return optimal\n",
    "test_model = Model(solver =GLPKSolverMIP())\n",
    "input_lower_bounds = [0.0]\n",
    "input_upper_bounds = [0.0]\n",
    "x_in = add_input_constraints(small_nnet, test_model, input_upper_bounds, input_lower_bounds)\n",
    "output_lower_bounds = [0.0]\n",
    "output_upper_bounds = [54.5]\n",
    "x_out = add_output_constraints(small_nnet, test_model, output_upper_bounds, output_lower_bounds)\n",
    "M = 55.0\n",
    "add_network_constraints(small_nnet, test_model, x_in, x_out, M)\n",
    "status = solve(test_model)\n",
    "println(status)"
   ]
  },
  {
   "cell_type": "code",
   "execution_count": 10,
   "metadata": {},
   "outputs": [
    {
     "name": "stdout",
     "output_type": "stream",
     "text": [
      "Infeasible\n"
     ]
    },
    {
     "name": "stderr",
     "output_type": "stream",
     "text": [
      "\u001b[1m\u001b[33mWARNING: \u001b[39m\u001b[22m\u001b[33mNot solved to optimality, status: Infeasible\u001b[39m\n",
      "\u001b[1m\u001b[33mWARNING: \u001b[39m\u001b[22m\u001b[33mInfeasibility ray (Farkas proof) not available\u001b[39m\n"
     ]
    }
   ],
   "source": [
    "# Should return infeasible\n",
    "test_model = Model(solver = GLPKSolverMIP())\n",
    "input_lower_bounds = [0.0]\n",
    "input_upper_bounds = [0.0]\n",
    "x_in = add_input_constraints(small_nnet, test_model, input_upper_bounds, input_lower_bounds)\n",
    "output_lower_bounds = [55.0]\n",
    "output_upper_bounds = [55.0]\n",
    "x_out = add_output_constraints(small_nnet, test_model, output_upper_bounds, output_lower_bounds)\n",
    "M = 55.0\n",
    "add_network_constraints(small_nnet, test_model, x_in, x_out, M)\n",
    "status = solve(test_model)\n",
    "println(status)"
   ]
  },
  {
   "cell_type": "markdown",
   "metadata": {},
   "source": [
    "## IPCP Example\n",
    "* IPCP network has three hidden layers of size 16\n",
    "* Input layer has 4 neurons and output layer has 2 neurons\n",
    "* The following test cases are those described by the Reverify paper\n",
    "* NOTE: validation is pending M values used by Lomuscio et al."
   ]
  },
  {
   "cell_type": "code",
   "execution_count": 11,
   "metadata": {},
   "outputs": [
    {
     "name": "stdout",
     "output_type": "stream",
     "text": [
      "Layer([-1.04327 -1.04327 -0.455724 0.192542; -0.0191024 -0.0191024 -0.969242 0.154406; -0.418161 -0.418161 0.37731 -0.341209; -0.576796 -0.576796 -0.503059 0.62542; 0.00491105 0.00491105 -0.359143 -0.177293; -0.508361 -0.508361 -0.335279 -0.179524; -0.218255 -0.218255 -0.288024 0.00792378; 0.0605804 0.0605804 -0.0435269 -0.305204; 0.685469 0.685469 2.4089 -1.51407; -0.488534 -0.488534 -1.14581 -1.74527; -2.32975 -2.32975 -1.76154 0.817765; 0.801403 0.801403 -1.36655 -1.20426; 0.197374 0.197374 0.459956 -0.342471; -0.189495 -0.189495 -0.277776 -0.40308; -0.0467679 -0.0467679 -0.482105 0.119671; 0.0445579 0.0445579 -0.290073 -0.389191], [-0.138894, 0.575987, -0.321108, 0.527086, 0.585529, 0.0175842, -0.359797, 0.612521, 0.547896, -0.44065, 0.444784, -0.333718, 0.509505, 0.541178, 0.427546, -0.0623751], GeneralAct(#undef))\n"
     ]
    }
   ],
   "source": [
    "# Read in ipcp_nnet from code provided by Professor Lomuscio\n",
    "ipcp_nnet = read_nnet(\"../examples/networks/cartpole_nnet.txt\")\n",
    "layers = ipcp_nnet.layers\n",
    "println(layers[1])"
   ]
  },
  {
   "cell_type": "code",
   "execution_count": 12,
   "metadata": {},
   "outputs": [
    {
     "data": {
      "text/plain": [
       "add_ipcp_output_constraints (generic function with 1 method)"
      ]
     },
     "execution_count": 12,
     "metadata": {},
     "output_type": "execute_result"
    }
   ],
   "source": [
    "function add_ipcp_output_constraints(ipcp_model, n)\n",
    "    x_out = @variable(ipcp_model, [1:2])\n",
    "    @constraint(ipcp_model, x_out[1] >= x_out[2] + n)\n",
    "    return x_out\n",
    "end"
   ]
  },
  {
   "cell_type": "code",
   "execution_count": 13,
   "metadata": {},
   "outputs": [
    {
     "name": "stdout",
     "output_type": "stream",
     "text": [
      "Infeasible\n"
     ]
    },
    {
     "name": "stderr",
     "output_type": "stream",
     "text": [
      "\u001b[1m\u001b[33mWARNING: \u001b[39m\u001b[22m\u001b[33mNot solved to optimality, status: Infeasible\u001b[39m\n",
      "\u001b[1m\u001b[33mWARNING: \u001b[39m\u001b[22m\u001b[33mInfeasibility ray (Farkas proof) not available\u001b[39m\n"
     ]
    }
   ],
   "source": [
    "# IPCP example one- should return Infeasible\n",
    "ipcp_model = Model(solver = GLPKSolverMIP())\n",
    "input_lower_bounds = [0.0, 0.0, -5.0, 0.0]\n",
    "input_upper_bounds = [0.0, 0.0, -5.0, 0.0]\n",
    "x_in = add_input_constraints(ipcp_nnet, ipcp_model, input_upper_bounds, input_lower_bounds)\n",
    "x_out = add_ipcp_output_constraints(ipcp_model, 100.0)\n",
    "M = 1000.0\n",
    "add_network_constraints(ipcp_nnet, ipcp_model, x_in, x_out, M)\n",
    "status = solve(ipcp_model)\n",
    "println(status)"
   ]
  },
  {
   "cell_type": "code",
   "execution_count": 14,
   "metadata": {},
   "outputs": [
    {
     "name": "stdout",
     "output_type": "stream",
     "text": [
      "Infeasible"
     ]
    },
    {
     "name": "stderr",
     "output_type": "stream",
     "text": [
      "\u001b[1m\u001b[33mWARNING: \u001b[39m\u001b[22m\u001b[33mNot solved to optimality, status: Infeasible\u001b[39m\n",
      "\u001b[1m\u001b[33mWARNING: \u001b[39m\u001b[22m\u001b[33mInfeasibility ray (Farkas proof) not available\u001b[39m\n"
     ]
    }
   ],
   "source": [
    "# IPCP example two - should return Infeasible\n",
    "ipcp_model = Model(solver = GLPKSolverMIP())\n",
    "input_lower_bounds = [-0.5,-0.2,-5,-0.1]\n",
    "input_upper_bounds = [0.5,0.2,-4.0,-0.1]\n",
    "x_in = add_input_constraints(ipcp_nnet, ipcp_model, input_upper_bounds, input_lower_bounds)\n",
    "x_out = add_ipcp_output_constraints(ipcp_model, 100.0)\n",
    "M = 1000.0\n",
    "add_network_constraints(ipcp_nnet, ipcp_model, x_in, x_out, M)\n",
    "status = solve(ipcp_model)\n",
    "print(status)"
   ]
  },
  {
   "cell_type": "code",
   "execution_count": 15,
   "metadata": {},
   "outputs": [
    {
     "name": "stdout",
     "output_type": "stream",
     "text": [
      "Infeasible\n"
     ]
    },
    {
     "name": "stderr",
     "output_type": "stream",
     "text": [
      "\u001b[1m\u001b[33mWARNING: \u001b[39m\u001b[22m\u001b[33mNot solved to optimality, status: Infeasible\u001b[39m\n",
      "\u001b[1m\u001b[33mWARNING: \u001b[39m\u001b[22m\u001b[33mInfeasibility ray (Farkas proof) not available\u001b[39m\n"
     ]
    }
   ],
   "source": [
    "# IPCP example three - should return Infeasible\n",
    "ipcp_model = Model(solver = GLPKSolverMIP())\n",
    "input_lower_bounds = [-2.0,-0.2,-2.0,-0.25]\n",
    "input_upper_bounds = [2.0,0.2,-1.5,0.25]\n",
    "x_in = add_input_constraints(ipcp_nnet, ipcp_model, input_upper_bounds, input_lower_bounds)\n",
    "x_out = add_ipcp_output_constraints(ipcp_model, 10.0)\n",
    "M = 1000.0\n",
    "add_network_constraints(ipcp_nnet, ipcp_model, x_in, x_out, M)\n",
    "status = solve(ipcp_model)\n",
    "println(status)"
   ]
  },
  {
   "cell_type": "code",
   "execution_count": 16,
   "metadata": {},
   "outputs": [
    {
     "name": "stdout",
     "output_type": "stream",
     "text": [
      "Infeasible\n"
     ]
    },
    {
     "name": "stderr",
     "output_type": "stream",
     "text": [
      "\u001b[1m\u001b[33mWARNING: \u001b[39m\u001b[22m\u001b[33mNot solved to optimality, status: Infeasible\u001b[39m\n",
      "\u001b[1m\u001b[33mWARNING: \u001b[39m\u001b[22m\u001b[33mInfeasibility ray (Farkas proof) not available\u001b[39m\n"
     ]
    }
   ],
   "source": [
    "# IPCP example four - should return Optimal\n",
    "ipcp_model = Model(solver = GLPKSolverMIP())\n",
    "input_lower_bounds = [-2.0,-0.4,-2.0,0.0]\n",
    "input_upper_bounds = [2.0,0.4,1.0,0.1]\n",
    "x_in = add_input_constraints(ipcp_nnet, ipcp_model, input_upper_bounds, input_lower_bounds)\n",
    "x_out = add_ipcp_output_constraints(ipcp_model, 10.0)\n",
    "M = 1000.0\n",
    "add_network_constraints(ipcp_nnet, ipcp_model, x_in, x_out, M)\n",
    "status = solve(ipcp_model)\n",
    "println(status)"
   ]
  },
  {
   "cell_type": "code",
   "execution_count": null,
   "metadata": {},
   "outputs": [],
   "source": []
  }
 ],
 "metadata": {
  "kernelspec": {
   "display_name": "Julia 0.6.1",
   "language": "julia",
   "name": "julia-0.6"
  },
  "language_info": {
   "file_extension": ".jl",
   "mimetype": "application/julia",
   "name": "julia",
   "version": "0.6.1"
  }
 },
 "nbformat": 4,
 "nbformat_minor": 2
}
