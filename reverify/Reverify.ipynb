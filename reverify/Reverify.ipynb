{
 "cells": [
  {
   "cell_type": "code",
   "execution_count": 19,
   "metadata": {
    "scrolled": true
   },
   "outputs": [
    {
     "name": "stderr",
     "output_type": "stream",
     "text": [
      "\u001b[1m\u001b[36mINFO: \u001b[39m\u001b[22m\u001b[36mUpdating METADATA...\n",
      "\u001b[39m\u001b[1m\u001b[36mINFO: \u001b[39m\u001b[22m\u001b[36mComputing changes...\n",
      "\u001b[39m\u001b[1m\u001b[36mINFO: \u001b[39m\u001b[22m\u001b[36mNo packages to install, update or remove\n",
      "\u001b[39m\u001b[1m\u001b[36mINFO: \u001b[39m\u001b[22m\u001b[36mPackage JuMP is already installed\n",
      "\u001b[39m"
     ]
    }
   ],
   "source": [
    "Pkg.update() \n",
    "Pkg.add(\"JuMP\")\n",
    "Pkg.add(\"GLPKMathProgInterface\")"
   ]
  },
  {
   "cell_type": "code",
   "execution_count": 20,
   "metadata": {},
   "outputs": [],
   "source": [
    "using JuMP\n",
    "using MathProgBase\n",
    "using GLPKMathProgInterface"
   ]
  },
  {
   "cell_type": "code",
   "execution_count": 21,
   "metadata": {},
   "outputs": [],
   "source": [
    "include(\"../utils/util.jl\")\n",
    "include(\"../utils/problem.jl\")"
   ]
  },
  {
   "cell_type": "code",
   "execution_count": 22,
   "metadata": {},
   "outputs": [
    {
     "data": {
      "text/plain": [
       "add_input_constraints (generic function with 2 methods)"
      ]
     },
     "execution_count": 22,
     "metadata": {},
     "output_type": "execute_result"
    }
   ],
   "source": [
    "function add_input_constraints(nnet::Network, m::Model, upperBounds::Vector{Float64}, lowerBounds::Vector{Float64}, \n",
    "                               A::Matrix{Float64} = [eye(length(upperBounds)); -eye(length(lowerBounds))])\n",
    "    n_inputs = size(nnet.layers[1].weights)[2]\n",
    "    b = [upperBounds; -lowerBounds]\n",
    "    x_in = @variable(m, [1:n_inputs])\n",
    "    @constraint(m, A*x_in .<= b)\n",
    "    return x_in\n",
    "end"
   ]
  },
  {
   "cell_type": "code",
   "execution_count": 23,
   "metadata": {},
   "outputs": [
    {
     "data": {
      "text/plain": [
       "add_output_constraints (generic function with 2 methods)"
      ]
     },
     "execution_count": 23,
     "metadata": {},
     "output_type": "execute_result"
    }
   ],
   "source": [
    "function add_output_constraints(nnet::Network, m::Model, upperBounds::Vector{Float64}, lowerBounds::Vector{Float64}, \n",
    "                                A::Matrix{Float64}=[eye(length(upperBounds)); -eye(length(lowerBounds))])\n",
    "    n_outputs = size(nnet.layers[length(nnet.layers)].weights)[1]\n",
    "    b = [upperBounds; -lowerBounds]\n",
    "    x_out = @variable(m, [1:n_outputs])\n",
    "    @constraint(m, A * x_out .<= b)\n",
    "    return x_out\n",
    "end"
   ]
  },
  {
   "cell_type": "code",
   "execution_count": 24,
   "metadata": {},
   "outputs": [
    {
     "data": {
      "text/plain": [
       "add_network_constraints (generic function with 1 method)"
      ]
     },
     "execution_count": 24,
     "metadata": {},
     "output_type": "execute_result"
    }
   ],
   "source": [
    "function add_network_constraints(nnet::Network, m::Model,  x_in::Array{JuMP.Variable,1}, \n",
    "                                 x_out::Array{JuMP.Variable,1}, M::Float64)\n",
    "    layers = nnet.layers\n",
    "    x_net = @variable(m, [i=1:length(layers) - 1, j=1:length(layers[i].bias)]) \n",
    "    deltas = @variable(m, [i=1:length(layers), j=1:length(layers[i].bias)], Bin) \n",
    "    \n",
    "    for i in 1:length(layers) - 1\n",
    "        weights = layers[i].weights\n",
    "        bias = layers[i].bias\n",
    "        for j in 1:length(bias)\n",
    "            if i == 1\n",
    "                dot_prod = @expression(m, [k=1:size(nnet.layers[1].weights)[2]], sum(weights[j,k] * x_in[k]))\n",
    "            else\n",
    "                dot_prod = @expression(m, [k=1:length(layers[i-1].bias)], sum(weights[j,k] * x_net[i-1,k]))\n",
    "            end\n",
    "            @constraint(m, x_net[i,j] .>= dot_prod + bias[j]) \n",
    "            @constraint(m, x_net[i,j] .<= dot_prod + bias[j] + M*deltas[i,j])\n",
    "            @constraint(m, x_net[i,j] >= 0)\n",
    "            @constraint(m, x_net[i,j] <= M*(1 - deltas[i,j]))\n",
    "        end\n",
    "    end\n",
    "    \n",
    "    i = length(layers)\n",
    "    weights = layers[i].weights\n",
    "    bias = layers[i].bias\n",
    "    for l in 1:length(bias)\n",
    "        k_upper = length(nnet.layers[i-1].bias)\n",
    "        dot_prod = @expression(m, [k=1:length(nnet.layers[i-1].bias)], sum(weights[l,k] * x_net[i-1,k]))\n",
    "        @constraint(m, x_out[l] .>= dot_prod + bias[l])\n",
    "        @constraint(m, x_out[l] .<= dot_prod + bias[l] + M*deltas[i,l])\n",
    "        @constraint(m, x_out[l] >= 0)\n",
    "        @constraint(m, x_out[l] <= M*(1 - deltas[i,l]))\n",
    "    end\n",
    "end"
   ]
  },
  {
   "cell_type": "markdown",
   "metadata": {},
   "source": [
    "## Small Network Example\n",
    "* small network has two hidden layers with 2 neurons and input and output layers with 1 neuron\n",
    "* for input 0.0, small_nnet should produce output 55.0 "
   ]
  },
  {
   "cell_type": "code",
   "execution_count": 25,
   "metadata": {},
   "outputs": [
    {
     "data": {
      "text/plain": [
       "Network(Layer[Layer([1.0; 1.0], [1.5, 1.5]), Layer([2.0 2.0; 2.0 2.0], [2.5, 2.5]), Layer([3.0 3.0], [3.5])])"
      ]
     },
     "execution_count": 25,
     "metadata": {},
     "output_type": "execute_result"
    }
   ],
   "source": [
    "# Read in small_nnet\n",
    "small_nnet = read_nnet(\"small_nnet.txt\")"
   ]
  },
  {
   "cell_type": "code",
   "execution_count": 26,
   "metadata": {},
   "outputs": [
    {
     "data": {
      "text/plain": [
       "1-element Array{Float64,1}:\n",
       " 54.5"
      ]
     },
     "execution_count": 26,
     "metadata": {},
     "output_type": "execute_result"
    },
    {
     "name": "stderr",
     "output_type": "stream",
     "text": [
      "\u001b[1m\u001b[36mINFO: \u001b[39m\u001b[22m\u001b[36mPackage GLPKMathProgInterface is already installed\n",
      "\u001b[39m"
     ]
    }
   ],
   "source": [
    "input = [0.0]\n",
    "compute_output(small_nnet, input)"
   ]
  },
  {
   "cell_type": "code",
   "execution_count": null,
   "metadata": {
    "scrolled": true
   },
   "outputs": [],
   "source": [
    "# Should return optimal\n",
    "test_model = Model(solver =GLPKSolverMIP())\n",
    "input_lower_bounds = [0.0]\n",
    "input_upper_bounds = [0.0]\n",
    "x_in = add_input_constraints(small_nnet, test_model, input_upper_bounds, input_lower_bounds)\n",
    "output_lower_bounds = [0.0]\n",
    "output_upper_bounds = [54.5]\n",
    "x_out = add_output_constraints(small_nnet, test_model, output_upper_bounds, output_lower_bounds)\n",
    "M = 55.0\n",
    "add_network_constraints(small_nnet, test_model, x_in, x_out, M)\n",
    "status = solve(test_model)\n",
    "println(status)"
   ]
  },
  {
   "cell_type": "code",
   "execution_count": null,
   "metadata": {},
   "outputs": [],
   "source": [
    "# Should return infeasible\n",
    "test_model = Model(solver = GLPKSolverMIP())\n",
    "input_lower_bounds = [0.0]\n",
    "input_upper_bounds = [0.0]\n",
    "x_in = add_input_constraints(small_nnet, test_model, input_upper_bounds, input_lower_bounds)\n",
    "output_lower_bounds = [55.0]\n",
    "output_upper_bounds = [55.0]\n",
    "x_out = add_output_constraints(small_nnet, test_model, output_upper_bounds, output_lower_bounds)\n",
    "M = 55.0\n",
    "add_network_constraints(small_nnet, test_model, x_in, x_out, M)\n",
    "status = solve(test_model)\n",
    "println(status)"
   ]
  },
  {
   "cell_type": "markdown",
   "metadata": {},
   "source": [
    "## IPCP Example\n",
    "* IPCP network has three hidden layers of size 16\n",
    "* Input layer has 4 neurons and output layer has 2 neurons\n",
    "* The following test cases are those described by the Reverify paper\n",
    "* NOTE: validation is pending M values used by Lomuscio et al."
   ]
  },
  {
   "cell_type": "code",
   "execution_count": null,
   "metadata": {},
   "outputs": [],
   "source": [
    "# Read in ipcp_nnet from code provided by Professor Lomuscio\n",
    "ipcp_nnet = read_nnet(\"cartpole_nnet.txt\")\n",
    "layers = ipcp_nnet.layers\n",
    "println(layers[1])"
   ]
  },
  {
   "cell_type": "code",
   "execution_count": null,
   "metadata": {},
   "outputs": [],
   "source": [
    "function add_ipcp_output_constraints(ipcp_model, n)\n",
    "    x_out = @variable(ipcp_model, [1:2])\n",
    "    @constraint(ipcp_model, x_out[1] >= x_out[2] + n)\n",
    "    return x_out\n",
    "end"
   ]
  },
  {
   "cell_type": "code",
   "execution_count": null,
   "metadata": {},
   "outputs": [],
   "source": [
    "# IPCP example one- should return Infeasible\n",
    "ipcp_model = Model(solver = GLPKSolverMIP())\n",
    "input_lower_bounds = [0.0, 0.0, -5.0, 0.0]\n",
    "input_upper_bounds = [0.0, 0.0, -5.0, 0.0]\n",
    "x_in = add_input_constraints(ipcp_nnet, ipcp_model, input_upper_bounds, input_lower_bounds)\n",
    "x_out = add_ipcp_output_constraints(ipcp_model, 100.0)\n",
    "M = 1000.0\n",
    "add_network_constraints(ipcp_nnet, ipcp_model, x_in, x_out, M)\n",
    "status = solve(ipcp_model)\n",
    "println(status)"
   ]
  },
  {
   "cell_type": "code",
   "execution_count": null,
   "metadata": {},
   "outputs": [],
   "source": [
    "# IPCP example two - should return Infeasible\n",
    "ipcp_model = Model(solver = GLPKSolverMIP())\n",
    "input_lower_bounds = [-0.5,-0.2,-5,-0.1]\n",
    "input_upper_bounds = [0.5,0.2,-4.0,-0.1]\n",
    "x_in = add_input_constraints(ipcp_nnet, ipcp_model, input_upper_bounds, input_lower_bounds)\n",
    "x_out = add_ipcp_output_constraints(ipcp_model, 100.0)\n",
    "M = 1000.0\n",
    "add_network_constraints(ipcp_nnet, ipcp_model, x_in, x_out, M)\n",
    "status = solve(ipcp_model)\n",
    "print(status)"
   ]
  },
  {
   "cell_type": "code",
   "execution_count": null,
   "metadata": {},
   "outputs": [],
   "source": [
    "# IPCP example three - should return Infeasible\n",
    "ipcp_model = Model(solver = GLPKSolverMIP())\n",
    "input_lower_bounds = [-2.0,-0.2,-2.0,-0.25]\n",
    "input_upper_bounds = [2.0,0.2,-1.5,0.25]\n",
    "x_in = add_input_constraints(ipcp_nnet, ipcp_model, input_upper_bounds, input_lower_bounds)\n",
    "x_out = add_ipcp_output_constraints(ipcp_model, 10.0)\n",
    "M = 1000.0\n",
    "add_network_constraints(ipcp_nnet, ipcp_model, x_in, x_out, M)\n",
    "status = solve(ipcp_model)\n",
    "println(status)"
   ]
  },
  {
   "cell_type": "code",
   "execution_count": null,
   "metadata": {},
   "outputs": [],
   "source": [
    "# IPCP example four - should return Optimal\n",
    "ipcp_model = Model(solver = GLPKSolverMIP())\n",
    "input_lower_bounds = [-2.0,-0.4,-2.0,0.0]\n",
    "input_upper_bounds = [2.0,0.4,1.0,0.1]\n",
    "x_in = add_input_constraints(ipcp_nnet, ipcp_model, input_upper_bounds, input_lower_bounds)\n",
    "x_out = add_ipcp_output_constraints(ipcp_model, 10.0)\n",
    "M = 1000.0\n",
    "add_network_constraints(ipcp_nnet, ipcp_model, x_in, x_out, M)\n",
    "status = solve(ipcp_model)\n",
    "println(status)"
   ]
  },
  {
   "cell_type": "code",
   "execution_count": null,
   "metadata": {},
   "outputs": [],
   "source": []
  }
 ],
 "metadata": {
  "kernelspec": {
   "display_name": "Julia 0.6.1",
   "language": "julia",
   "name": "julia-0.6"
  },
  "language_info": {
   "file_extension": ".jl",
   "mimetype": "application/julia",
   "name": "julia",
   "version": "0.6.1"
  }
 },
 "nbformat": 4,
 "nbformat_minor": 2
}
