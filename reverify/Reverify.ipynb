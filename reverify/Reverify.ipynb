{
 "cells": [
  {
   "cell_type": "code",
   "execution_count": 1,
   "metadata": {
    "scrolled": true
   },
   "outputs": [
    {
     "name": "stderr",
     "output_type": "stream",
     "text": [
      "\u001b[1m\u001b[36mINFO: \u001b[39m\u001b[22m\u001b[36mUpdating METADATA...\n",
      "\u001b[39m\u001b[1m\u001b[36mINFO: \u001b[39m\u001b[22m\u001b[36mComputing changes...\n",
      "\u001b[39m\u001b[1m\u001b[36mINFO: \u001b[39m\u001b[22m\u001b[36mNo packages to install, update or remove\n",
      "\u001b[39m\u001b[1m\u001b[36mINFO: \u001b[39m\u001b[22m\u001b[36mPackage JuMP is already installed\n",
      "\u001b[39m"
     ]
    }
   ],
   "source": [
    "Pkg.update() \n",
    "Pkg.add(\"JuMP\")\n",
    "Pkg.add(\"GLPKMathProgInterface\")"
   ]
  },
  {
   "cell_type": "code",
   "execution_count": 2,
   "metadata": {},
   "outputs": [
    {
     "name": "stderr",
     "output_type": "stream",
     "text": [
      "\u001b[1m\u001b[36mINFO: \u001b[39m\u001b[22m\u001b[36mPackage GLPKMathProgInterface is already installed\n",
      "\u001b[39m"
     ]
    }
   ],
   "source": [
    "using JuMP\n",
    "using MathProgBase\n",
    "using GLPKMathProgInterface"
   ]
  },
  {
   "cell_type": "code",
   "execution_count": 3,
   "metadata": {},
   "outputs": [],
   "source": [
    "include(\"util.jl\")\n",
    "include(\"network.jl\")"
   ]
  },
  {
   "cell_type": "code",
   "execution_count": 4,
   "metadata": {},
   "outputs": [
    {
     "data": {
      "text/plain": [
       "add_input_constraints (generic function with 2 methods)"
      ]
     },
     "execution_count": 4,
     "metadata": {},
     "output_type": "execute_result"
    }
   ],
   "source": [
    "function add_input_constraints(nnet::Network, m::Model, upperBounds::Vector{Float64}, lowerBounds::Vector{Float64}, \n",
    "                               A::Matrix{Float64} = [eye(length(upperBounds)); -eye(length(lowerBounds))])\n",
    "    n_inputs = size(nnet.layers[1].weights)[2]\n",
    "    b = [upperBounds; -lowerBounds]\n",
    "    x_in = @variable(m, [1:n_inputs])\n",
    "    @constraint(m, A*x_in .<= b)\n",
    "    return x_in\n",
    "end"
   ]
  },
  {
   "cell_type": "code",
   "execution_count": 5,
   "metadata": {},
   "outputs": [
    {
     "data": {
      "text/plain": [
       "add_output_constraints (generic function with 2 methods)"
      ]
     },
     "execution_count": 5,
     "metadata": {},
     "output_type": "execute_result"
    }
   ],
   "source": [
    "function add_output_constraints(nnet::Network, m::Model, upperBounds::Vector{Float64}, lowerBounds::Vector{Float64}, \n",
    "                                A::Matrix{Float64}=[eye(length(upperBounds)); -eye(length(lowerBounds))])\n",
    "    n_outputs = size(nnet.layers[length(nnet.layers)].weights)[1]\n",
    "    b = [upperBounds; -lowerBounds]\n",
    "    x_out = @variable(m, [1:n_outputs])\n",
    "    @constraint(m, A * x_out .<= b)\n",
    "    return x_out\n",
    "end"
   ]
  },
  {
   "cell_type": "code",
   "execution_count": 6,
   "metadata": {},
   "outputs": [
    {
     "data": {
      "text/plain": [
       "add_network_constraints (generic function with 1 method)"
      ]
     },
     "execution_count": 6,
     "metadata": {},
     "output_type": "execute_result"
    }
   ],
   "source": [
    "function add_network_constraints(nnet::Network, m::Model,  x_in::Array{JuMP.Variable,1}, \n",
    "                                 x_out::Array{JuMP.Variable,1}, M::Float64)\n",
    "    layers = nnet.layers\n",
    "    \n",
    "    x_net = @variable(m, [i=1:length(layers) - 1, j=1:length(layers[i].bias)]) \n",
    "    deltas = @variable(m, [i=1:length(layers), j=1:length(layers[i].bias)]) \n",
    "    \n",
    "    for i in 1:length(layers) - 1\n",
    "        weights = layers[i].weights\n",
    "        bias = layers[i].bias\n",
    "        for j in 1:length(bias)\n",
    "            if i == 1\n",
    "                dot_prod = @expression(m, [k=1:size(nnet.layers[1].weights)[2]], sum(weights[j,k] * x_in[k]))\n",
    "            else\n",
    "                dot_prod = @expression(m, [k=1:length(layers[i-1].bias)], sum(weights[j,k] * x_net[i-1,k]))\n",
    "            end\n",
    "            @constraint(m, x_net[i,j] .>= dot_prod + bias[j]) \n",
    "            @constraint(m, x_net[i,j] .<= dot_prod + bias[j] + M*deltas[i,j])\n",
    "            @constraint(m, x_net[i,j] >= 0)\n",
    "            @constraint(m, x_net[i,j] <= M*(1 - deltas[i,j]))\n",
    "        end\n",
    "    end\n",
    "    \n",
    "    i = length(layers)\n",
    "    weights = layers[i].weights\n",
    "    bias = layers[i].bias\n",
    "    for l in 1:length(bias)\n",
    "        k_upper = length(nnet.layers[i-1].bias)\n",
    "        dot_prod = @expression(m, [k=1:length(nnet.layers[i-1].bias)], sum(weights[l,k] * x_net[i-1,k]))\n",
    "        @constraint(m, x_out[l] .>= dot_prod + bias[l])\n",
    "        @constraint(m, x_out[l] .<= dot_prod + bias[l] + M*deltas[i,l])\n",
    "        @constraint(m, x_out[l] >= 0)\n",
    "        @constraint(m, x_out[l] <= M*(1 - deltas[i,l]))\n",
    "    end\n",
    "end"
   ]
  },
  {
   "cell_type": "markdown",
   "metadata": {},
   "source": [
    "## Small Network Example\n",
    "* small network has two hidden layers with 2 neurons and input and output layers with 1 neuron\n",
    "* for input 0.0, small_nnet should produce output 55.0 "
   ]
  },
  {
   "cell_type": "code",
   "execution_count": 7,
   "metadata": {},
   "outputs": [
    {
     "data": {
      "text/plain": [
       "Network(Layer[Layer([1.5, 1.5], [1.0; 1.0]), Layer([2.5, 2.5], [2.0 2.0; 2.0 2.0]), Layer([3.5], [3.0 3.0])])"
      ]
     },
     "execution_count": 7,
     "metadata": {},
     "output_type": "execute_result"
    }
   ],
   "source": [
    "# Read in small_nnet\n",
    "small_nnet = read_nnet(\"small_nnet.txt\")"
   ]
  },
  {
   "cell_type": "code",
   "execution_count": 8,
   "metadata": {},
   "outputs": [],
   "source": [
    "# Should return optimal\n",
    "test_model = Model(solver = GLPKSolverLP())\n",
    "input_lower_bounds = [0.0]\n",
    "input_upper_bounds = [0.0]\n",
    "x_in = add_input_constraints(small_nnet, test_model, input_upper_bounds, input_lower_bounds)\n",
    "output_lower_bounds = [54.5]\n",
    "output_upper_bounds = [54.5]\n",
    "x_out = add_output_constraints(small_nnet, test_model, output_upper_bounds, output_lower_bounds)\n",
    "M = 54.5\n",
    "add_network_constraints(small_nnet, test_model, x_in, x_out, M)\n",
    "status = solve(test_model)\n",
    "println(status)"
   ]
  },
  {
   "cell_type": "code",
   "execution_count": 9,
   "metadata": {},
   "outputs": [
    {
     "name": "stdout",
     "output_type": "stream",
     "text": [
      "Optimal\n"
     ]
    },
    {
     "name": "stderr",
     "output_type": "stream",
     "text": [
      "\u001b[1m\u001b[33mWARNING: \u001b[39m\u001b[22m\u001b[33mNot solved to optimality, status: Infeasible\u001b[39m\n"
     ]
    }
   ],
   "source": [
    "# Should return infeasible\n",
    "test_model = Model(solver = GLPKSolverLP())\n",
    "input_lower_bounds = [0.0]\n",
    "input_upper_bounds = [0.0]\n",
    "x_in = add_input_constraints(small_nnet, test_model, input_upper_bounds, input_lower_bounds)\n",
    "output_lower_bounds = [55.0]\n",
    "output_upper_bounds = [55.0]\n",
    "x_out = add_output_constraints(small_nnet, test_model, output_upper_bounds, output_lower_bounds)\n",
    "M = 54.5\n",
    "add_network_constraints(small_nnet, test_model, x_in, x_out, M)\n",
    "status = solve(test_model)\n",
    "println(status)"
   ]
  },
  {
   "cell_type": "markdown",
   "metadata": {},
   "source": [
    "## IPCP Example\n",
    "* IPCP network has three hidden layers of size 16\n",
    "* Input layer has 4 neurons and output layer has 2 neurons\n",
    "* The following test cases are those described by the Reverify paper\n",
    "* NOTE: validation is pending M values used by Lomuscio et al."
   ]
  },
  {
   "cell_type": "code",
   "execution_count": 17,
   "metadata": {},
   "outputs": [
    {
     "name": "stdout",
     "output_type": "stream",
     "text": [
      "Layer([0.0962748, -0.261606, -0.0531848, 0.562897, 0.675776, -0.359542, -0.140727, 0.71084, 0.425644, -0.519708, 0.41516, -0.000277867, 0.415662, 0.50683, -0.428722, -0.440011], [0.616913 0.616913 -1.95398 1.18387; -0.371722 -0.371722 0.115928 0.984021; 0.340209 0.340209 0.424561 -0.426565; -0.63633 -0.63633 0.376818 0.594047; 0.49665 0.49665 -0.154119 0.00866595; 0.0579559 0.0579559 -0.150432 -0.186608; -0.192933 -0.192933 -0.447528 -0.0608488; 0.17676 0.17676 0.14153 -0.384152; 1.72133 1.72133 2.12235 0.826118; 2.93181 2.93181 -2.66846 0.169463; -0.548813 -0.548813 -1.91904 0.125581; 1.05093 1.05093 -0.435366 -1.29549; 0.434273 0.434273 0.411317 0.00200955; 0.43772 0.43772 -0.436841 -0.11464; 0.0828399 0.0828399 -0.689472 0.00810338; 0.172256 0.172256 -0.258815 -0.430745])\n"
     ]
    }
   ],
   "source": [
    "# Read in ipcp_nnet from code provided by Professor Lomuscio\n",
    "ipcp_nnet = read_nnet(\"cartpole_nnet.txt\")\n",
    "layers = ipcp_nnet.layers\n",
    "println(layers[1])"
   ]
  },
  {
   "cell_type": "code",
   "execution_count": 11,
   "metadata": {},
   "outputs": [
    {
     "data": {
      "text/plain": [
       "add_ipcp_output_constraints (generic function with 1 method)"
      ]
     },
     "execution_count": 11,
     "metadata": {},
     "output_type": "execute_result"
    }
   ],
   "source": [
    "function add_ipcp_output_constraints(ipcp_model, n)\n",
    "    x_out = @variable(ipcp_model, [1:2])\n",
    "    @constraint(ipcp_model, x_out[1] >= x_out[2] + n)\n",
    "    return x_out\n",
    "end"
   ]
  },
  {
   "cell_type": "code",
   "execution_count": 12,
   "metadata": {},
   "outputs": [
    {
     "ename": "LoadError",
     "evalue": "\u001b[91mBoundsError: attempt to access 2-element Array{JuMP.Variable,1} at index [3]\u001b[39m",
     "output_type": "error",
     "traceback": [
      "\u001b[91mBoundsError: attempt to access 2-element Array{JuMP.Variable,1} at index [3]\u001b[39m",
      "",
      "Stacktrace:",
      " [1] \u001b[1mmacro expansion\u001b[22m\u001b[22m at \u001b[1m/home/amelia/anaconda3/share/julia/site/v0.6/JuMP/src/macros.jl:422\u001b[22m\u001b[22m [inlined]",
      " [2] \u001b[1madd_network_constraints\u001b[22m\u001b[22m\u001b[1m(\u001b[22m\u001b[22m::Network, ::JuMP.Model, ::Array{JuMP.Variable,1}, ::Array{JuMP.Variable,1}, ::Float64\u001b[1m)\u001b[22m\u001b[22m at \u001b[1m./In[6]:30\u001b[22m\u001b[22m"
     ]
    },
    {
     "name": "stdout",
     "output_type": "stream",
     "text": [
      "Infeasible\n"
     ]
    }
   ],
   "source": [
    "# IPCP example one - should return Infeasible\n",
    "# Ask Mykel/Lomuscio - what would be an appropriate M here?\n",
    "ipcp_model = Model(solver = GLPKSolverLP())\n",
    "input_lower_bounds = [0.0, 0.0, -5.0, 0.0]\n",
    "input_upper_bounds = [0.0, 0.0, -5.0, 0.0]\n",
    "x_in = add_input_constraints(ipcp_nnet, ipcp_model, input_upper_bounds, input_lower_bounds)\n",
    "x_out = add_ipcp_output_constraints(ipcp_model, 100.0)\n",
    "M = 250.0\n",
    "add_network_constraints(ipcp_nnet, ipcp_model, x_in, x_out, M)\n",
    "status = solve(ipcp_model)\n",
    "println(status)"
   ]
  },
  {
   "cell_type": "code",
   "execution_count": 13,
   "metadata": {},
   "outputs": [
    {
     "ename": "LoadError",
     "evalue": "\u001b[91mBoundsError: attempt to access 2-element Array{JuMP.Variable,1} at index [3]\u001b[39m",
     "output_type": "error",
     "traceback": [
      "\u001b[91mBoundsError: attempt to access 2-element Array{JuMP.Variable,1} at index [3]\u001b[39m",
      "",
      "Stacktrace:",
      " [1] \u001b[1mmacro expansion\u001b[22m\u001b[22m at \u001b[1m/home/amelia/anaconda3/share/julia/site/v0.6/JuMP/src/macros.jl:422\u001b[22m\u001b[22m [inlined]",
      " [2] \u001b[1madd_network_constraints\u001b[22m\u001b[22m\u001b[1m(\u001b[22m\u001b[22m::Network, ::JuMP.Model, ::Array{JuMP.Variable,1}, ::Array{JuMP.Variable,1}, ::Float64\u001b[1m)\u001b[22m\u001b[22m at \u001b[1m./In[6]:30\u001b[22m\u001b[22m"
     ]
    }
   ],
   "source": [
    "# IPCP example two - should return Infeasible\n",
    "ipcp_model = Model(solver = GLPKSolverLP())\n",
    "input_lower_bounds = [-0.5,-0.2,-5,-0.1]\n",
    "input_upper_bounds = [0.5,0.2,-4.0,-0.1]\n",
    "x_in = add_input_constraints(ipcp_nnet, ipcp_model, input_upper_bounds, input_lower_bounds)\n",
    "x_out = add_ipcp_output_constraints(ipcp_model, 100)\n",
    "M = 250.0\n",
    "add_network_constraints(ipcp_nnet, ipcp_model, x_in, x_out, M)\n",
    "status = solve(ipcp_model)\n",
    "print(status)"
   ]
  },
  {
   "cell_type": "code",
   "execution_count": 14,
   "metadata": {},
   "outputs": [
    {
     "ename": "LoadError",
     "evalue": "\u001b[91mBoundsError: attempt to access 2-element Array{JuMP.Variable,1} at index [3]\u001b[39m",
     "output_type": "error",
     "traceback": [
      "\u001b[91mBoundsError: attempt to access 2-element Array{JuMP.Variable,1} at index [3]\u001b[39m",
      "",
      "Stacktrace:",
      " [1] \u001b[1mmacro expansion\u001b[22m\u001b[22m at \u001b[1m/home/amelia/anaconda3/share/julia/site/v0.6/JuMP/src/macros.jl:422\u001b[22m\u001b[22m [inlined]",
      " [2] \u001b[1madd_network_constraints\u001b[22m\u001b[22m\u001b[1m(\u001b[22m\u001b[22m::Network, ::JuMP.Model, ::Array{JuMP.Variable,1}, ::Array{JuMP.Variable,1}, ::Float64\u001b[1m)\u001b[22m\u001b[22m at \u001b[1m./In[6]:30\u001b[22m\u001b[22m"
     ]
    }
   ],
   "source": [
    "# IPCP example three - should return Infeasible\n",
    "ipcp_model = Model(solver = GLPKSolverLP())\n",
    "input_lower_bounds = [-2.0,-0.2,-2.0,-0.25]\n",
    "input_upper_bounds = [2.0,0.2,-1.5,0.25]\n",
    "x_in = add_input_constraints(ipcp_nnet, ipcp_model, input_upper_bounds, input_lower_bounds)\n",
    "x_out = add_ipcp_output_constraints(ipcp_model, 10)\n",
    "M = 25.0\n",
    "add_network_constraints(ipcp_nnet, ipcp_model, x_in, x_out, M)\n",
    "status = solve(ipcp_model)\n",
    "println(status)"
   ]
  },
  {
   "cell_type": "code",
   "execution_count": 15,
   "metadata": {},
   "outputs": [
    {
     "ename": "LoadError",
     "evalue": "\u001b[91mBoundsError: attempt to access 2-element Array{JuMP.Variable,1} at index [3]\u001b[39m",
     "output_type": "error",
     "traceback": [
      "\u001b[91mBoundsError: attempt to access 2-element Array{JuMP.Variable,1} at index [3]\u001b[39m",
      "",
      "Stacktrace:",
      " [1] \u001b[1mmacro expansion\u001b[22m\u001b[22m at \u001b[1m/home/amelia/anaconda3/share/julia/site/v0.6/JuMP/src/macros.jl:422\u001b[22m\u001b[22m [inlined]",
      " [2] \u001b[1madd_network_constraints\u001b[22m\u001b[22m\u001b[1m(\u001b[22m\u001b[22m::Network, ::JuMP.Model, ::Array{JuMP.Variable,1}, ::Array{JuMP.Variable,1}, ::Float64\u001b[1m)\u001b[22m\u001b[22m at \u001b[1m./In[6]:30\u001b[22m\u001b[22m"
     ]
    }
   ],
   "source": [
    "# IPCP example four - should return Optimal\n",
    "ipcp_model = Model(solver = GLPKSolverLP())\n",
    "input_lower_bounds = [-2.0,-0.4,-2.0,0.0]\n",
    "input_upper_bounds = [2.0,0.4,1.0,0.1]\n",
    "x_in = add_input_constraints(ipcp_nnet, ipcp_model, input_upper_bounds, input_lower_bounds)\n",
    "x_out = add_ipcp_output_constraints(ipcp_model, 10)\n",
    "M = 100.0\n",
    "add_network_constraints(ipcp_nnet, ipcp_model, x_in, x_out, M)\n",
    "status = solve(ipcp_model)\n",
    "println(status)"
   ]
  }
 ],
 "metadata": {
  "kernelspec": {
   "display_name": "Julia 0.6.1",
   "language": "julia",
   "name": "julia-0.6"
  },
  "language_info": {
   "file_extension": ".jl",
   "mimetype": "application/julia",
   "name": "julia",
   "version": "0.6.1"
  }
 },
 "nbformat": 4,
 "nbformat_minor": 2
}
