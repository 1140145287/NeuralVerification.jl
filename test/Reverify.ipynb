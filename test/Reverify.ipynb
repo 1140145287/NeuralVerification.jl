{
  "cells": [
    {
      "cell_type": "code",
      "source": [
        "using JuMP\n",
        "using MathProgBase.SolverInterface\n",
        "using GLPKMathProgInterface\n",
        "using LazySets\n",
        "include(\"../src/utils/activation.jl\")\n",
        "include(\"../src/utils/network.jl\")\n",
        "include(\"../src/utils/problem.jl\")\n",
        "include(\"../src/utils/util.jl\")\n",
        "include(\"../src/feasibility/utils/feasibility.jl\")\n",
        "include(\"../src/feasibility/reverify.jl\")"
      ],
      "outputs": [
        {
          "output_type": "execute_result",
          "execution_count": 8,
          "data": {
            "text/plain": [
              "encode (generic function with 1 method)"
            ]
          },
          "metadata": {}
        }
      ],
      "execution_count": 8,
      "metadata": {}
    },
    {
      "cell_type": "code",
      "source": [
        "small_nnet = read_nnet(\"../examples/networks/small_nnet.txt\")\n",
        "A = Array{Float64, 2}(2,1)\n",
        "A[1,1] = 1\n",
        "A[2,1] = -1\n",
        "inputSet = HPolytope(A, [1.0,1.0])\n",
        "outputSet = HPolytope(A[1:1, :],[50.0])\n",
        "problem = Problem(small_nnet, inputSet, outputSet)\n",
        "optimizer = GLPKSolverMIP()\n",
        "solver = Reverify(optimizer, 1000.0)\n",
        "solve(solver, problem)"
      ],
      "outputs": [
        {
          "output_type": "error",
          "ename": "LoadError",
          "evalue": "\u001b[91mFor conic solvers, only quadratic constraints in second-order cone format (x'x <= y^2) or rotated second-order cone format (x'x <= yz) are supported\u001b[39m",
          "traceback": [
            "\u001b[91mFor conic solvers, only quadratic constraints in second-order cone format (x'x <= y^2) or rotated second-order cone format (x'x <= yz) are supported\u001b[39m",
            "",
            "Stacktrace:",
            " [1] \u001b[1maddquadconstr!\u001b[22m\u001b[22m\u001b[1m(\u001b[22m\u001b[22m::MathProgBase.SolverInterface.ConicToLPQPBridge, ::Array{Int32,1}, ::Array{Float64,1}, ::Array{Int32,1}, ::Array{Int32,1}, ::Array{Float64,1}, ::Char, ::Float64\u001b[1m)\u001b[22m\u001b[22m at \u001b[1m/Users/changliuliu/.julia/v0.6/MathProgBase/src/SolverInterface/conic_to_lpqp.jl:44\u001b[22m\u001b[22m",
            " [2] \u001b[1maddQuadratics\u001b[22m\u001b[22m\u001b[1m(\u001b[22m\u001b[22m::JuMP.Model\u001b[1m)\u001b[22m\u001b[22m at \u001b[1m/Users/changliuliu/.julia/v0.6/JuMP/src/solvers.jl:460\u001b[22m\u001b[22m",
            " [3] \u001b[1m#build#119\u001b[22m\u001b[22m\u001b[1m(\u001b[22m\u001b[22m::Bool, ::Bool, ::JuMP.ProblemTraits, ::Function, ::JuMP.Model\u001b[1m)\u001b[22m\u001b[22m at \u001b[1m/Users/changliuliu/.julia/v0.6/JuMP/src/solvers.jl:370\u001b[22m\u001b[22m",
            " [4] \u001b[1m(::JuMP.#kw##build)\u001b[22m\u001b[22m\u001b[1m(\u001b[22m\u001b[22m::Array{Any,1}, ::JuMP.#build, ::JuMP.Model\u001b[1m)\u001b[22m\u001b[22m at \u001b[1m./<missing>:0\u001b[22m\u001b[22m",
            " [5] \u001b[1m#solve#116\u001b[22m\u001b[22m\u001b[1m(\u001b[22m\u001b[22m::Bool, ::Bool, ::Bool, ::Array{Any,1}, ::Function, ::JuMP.Model\u001b[1m)\u001b[22m\u001b[22m at \u001b[1m/Users/changliuliu/.julia/v0.6/JuMP/src/solvers.jl:168\u001b[22m\u001b[22m",
            " [6] \u001b[1msolve\u001b[22m\u001b[22m\u001b[1m(\u001b[22m\u001b[22m::Reverify{SCS.SCSSolver}, ::Problem{LazySets.HPolytope{Float64},LazySets.HPolytope{Float64}}\u001b[1m)\u001b[22m\u001b[22m at \u001b[1m/Users/changliuliu/GitHub/NeuralVerification.jl/src/feasibility/utils/feasibility.jl:9\u001b[22m\u001b[22m",
            " [7] \u001b[1minclude_string\u001b[22m\u001b[22m\u001b[1m(\u001b[22m\u001b[22m::String, ::String\u001b[1m)\u001b[22m\u001b[22m at \u001b[1m./loading.jl:522\u001b[22m\u001b[22m",
            " [8] \u001b[1mexecute_request\u001b[22m\u001b[22m\u001b[1m(\u001b[22m\u001b[22m::ZMQ.Socket, ::IJulia.Msg\u001b[1m)\u001b[22m\u001b[22m at \u001b[1m/Users/changliuliu/.julia/v0.6/IJulia/src/execute_request.jl:193\u001b[22m\u001b[22m",
            " [9] \u001b[1m(::Compat.#inner#14{Array{Any,1},IJulia.#execute_request,Tuple{ZMQ.Socket,IJulia.Msg}})\u001b[22m\u001b[22m\u001b[1m(\u001b[22m\u001b[22m\u001b[1m)\u001b[22m\u001b[22m at \u001b[1m/Users/changliuliu/.julia/v0.6/Compat/src/Compat.jl:332\u001b[22m\u001b[22m",
            " [10] \u001b[1meventloop\u001b[22m\u001b[22m\u001b[1m(\u001b[22m\u001b[22m::ZMQ.Socket\u001b[1m)\u001b[22m\u001b[22m at \u001b[1m/Users/changliuliu/.julia/v0.6/IJulia/src/eventloop.jl:8\u001b[22m\u001b[22m",
            " [11] \u001b[1m(::IJulia.##13#16)\u001b[22m\u001b[22m\u001b[1m(\u001b[22m\u001b[22m\u001b[1m)\u001b[22m\u001b[22m at \u001b[1m./task.jl:335\u001b[22m\u001b[22m"
          ]
        }
      ],
      "execution_count": 9,
      "metadata": {}
    }
  ],
  "metadata": {
    "kernelspec": {
      "name": "julia-0.6",
      "language": "julia",
      "display_name": "Julia 0.6.4"
    },
    "language_info": {
      "file_extension": ".jl",
      "name": "julia",
      "mimetype": "application/julia",
      "version": "0.6.4"
    },
    "kernel_info": {
      "name": "julia-0.6"
    },
    "nteract": {
      "version": "0.11.7"
    }
  },
  "nbformat": 4,
  "nbformat_minor": 2
}