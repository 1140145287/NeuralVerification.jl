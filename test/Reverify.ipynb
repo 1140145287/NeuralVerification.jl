{
 "cells": [
  {
   "cell_type": "code",
   "execution_count": 1,
   "metadata": {},
   "outputs": [
    {
     "name": "stderr",
     "output_type": "stream",
     "text": [
      "WARNING: using Polyhedra.dim in module NeuralVerification conflicts with an existing identifier.\n"
     ]
    }
   ],
   "source": [
    "using Revise\n",
    "using NeuralVerification"
   ]
  },
  {
   "cell_type": "code",
   "execution_count": 2,
   "metadata": {},
   "outputs": [
    {
     "name": "stdout",
     "output_type": "stream",
     "text": [
      "glp_intopt: optimal basis to initial LP relaxation not provided\n"
     ]
    },
    {
     "name": "stderr",
     "output_type": "stream",
     "text": [
      "\u001b[1m\u001b[33mWARNING: \u001b[39m\u001b[22m\u001b[33mNot solved to optimality, status: Infeasible\u001b[39m\n",
      "\u001b[1m\u001b[33mWARNING: \u001b[39m\u001b[22m\u001b[33mInfeasibility ray (Farkas proof) not available\u001b[39m\n"
     ]
    },
    {
     "data": {
      "text/plain": [
       "NeuralVerification.Result(:True, Float64[])"
      ]
     },
     "execution_count": 2,
     "metadata": {},
     "output_type": "execute_result"
    }
   ],
   "source": [
    "small_nnet = read_nnet(\"../examples/networks/small_nnet.txt\")\n",
    "A = Array{Float64, 2}(2,1)\n",
    "A[1,1] = 1\n",
    "A[2,1] = -1\n",
    "inputSet = HPolytope(A, [1.0,1.0])\n",
    "outputSet = HPolytope(A,[1.0,1.0])\n",
    "problem = Problem(small_nnet, inputSet, outputSet)\n",
    "optimizer = GLPKSolverMIP()\n",
    "solver = Reverify(optimizer, 1000.0)\n",
    "solve(solver, problem)"
   ]
  },
  {
   "cell_type": "code",
   "execution_count": null,
   "metadata": {
    "collapsed": true
   },
   "outputs": [],
   "source": []
  }
 ],
 "metadata": {
  "kernel_info": {
   "name": "julia-0.6"
  },
  "kernelspec": {
   "display_name": "Julia 0.6.2",
   "language": "julia",
   "name": "julia-0.6"
  },
  "language_info": {
   "file_extension": ".jl",
   "mimetype": "application/julia",
   "name": "julia",
   "version": "0.6.2"
  },
  "nteract": {
   "version": "0.11.6"
  }
 },
 "nbformat": 4,
 "nbformat_minor": 2
}
