{
 "cells": [
  {
   "cell_type": "code",
   "execution_count": 1,
   "metadata": {},
   "outputs": [
    {
<<<<<<< HEAD
      "cell_type": "code",
      "source": [
        "using JuMP\n",
        "using MathProgBase.SolverInterface\n",
        "using GLPKMathProgInterface\n",
        "using LazySets\n",
        "include(\"../src/utils/activation.jl\")\n",
        "include(\"../src/utils/network.jl\")\n",
        "include(\"../src/utils/problem.jl\")\n",
        "include(\"../src/utils/util.jl\")\n",
        "include(\"../src/feasibility/utils/feasibility.jl\")\n",
        "include(\"../src/feasibility/reverify.jl\")"
      ],
      "outputs": [
        {
          "output_type": "execute_result",
          "execution_count": 8,
          "data": {
            "text/plain": [
              "encode (generic function with 1 method)"
            ]
          },
          "metadata": {}
        }
      ],
      "execution_count": 8,
      "metadata": {}
    },
    {
      "cell_type": "code",
      "source": [
        "small_nnet = read_nnet(\"../examples/networks/small_nnet.txt\")\n",
        "A = Array{Float64, 2}(2,1)\n",
        "A[1,1] = 1\n",
        "A[2,1] = -1\n",
        "inputSet = HPolytope(A, [1.0,1.0])\n",
        "outputSet = HPolytope(A[1:1, :],[50.0])\n",
        "problem = Problem(small_nnet, inputSet, outputSet)\n",
        "optimizer = GLPKSolverMIP()\n",
        "solver = Reverify(optimizer, 1000.0)\n",
        "solve(solver, problem)"
      ],
      "outputs": [
        {
          "output_type": "error",
          "ename": "LoadError",
          "evalue": "\u001b[91mFor conic solvers, only quadratic constraints in second-order cone format (x'x <= y^2) or rotated second-order cone format (x'x <= yz) are supported\u001b[39m",
          "traceback": [
            "\u001b[91mFor conic solvers, only quadratic constraints in second-order cone format (x'x <= y^2) or rotated second-order cone format (x'x <= yz) are supported\u001b[39m",
            "",
            "Stacktrace:",
            " [1] \u001b[1maddquadconstr!\u001b[22m\u001b[22m\u001b[1m(\u001b[22m\u001b[22m::MathProgBase.SolverInterface.ConicToLPQPBridge, ::Array{Int32,1}, ::Array{Float64,1}, ::Array{Int32,1}, ::Array{Int32,1}, ::Array{Float64,1}, ::Char, ::Float64\u001b[1m)\u001b[22m\u001b[22m at \u001b[1m/Users/changliuliu/.julia/v0.6/MathProgBase/src/SolverInterface/conic_to_lpqp.jl:44\u001b[22m\u001b[22m",
            " [2] \u001b[1maddQuadratics\u001b[22m\u001b[22m\u001b[1m(\u001b[22m\u001b[22m::JuMP.Model\u001b[1m)\u001b[22m\u001b[22m at \u001b[1m/Users/changliuliu/.julia/v0.6/JuMP/src/solvers.jl:460\u001b[22m\u001b[22m",
            " [3] \u001b[1m#build#119\u001b[22m\u001b[22m\u001b[1m(\u001b[22m\u001b[22m::Bool, ::Bool, ::JuMP.ProblemTraits, ::Function, ::JuMP.Model\u001b[1m)\u001b[22m\u001b[22m at \u001b[1m/Users/changliuliu/.julia/v0.6/JuMP/src/solvers.jl:370\u001b[22m\u001b[22m",
            " [4] \u001b[1m(::JuMP.#kw##build)\u001b[22m\u001b[22m\u001b[1m(\u001b[22m\u001b[22m::Array{Any,1}, ::JuMP.#build, ::JuMP.Model\u001b[1m)\u001b[22m\u001b[22m at \u001b[1m./<missing>:0\u001b[22m\u001b[22m",
            " [5] \u001b[1m#solve#116\u001b[22m\u001b[22m\u001b[1m(\u001b[22m\u001b[22m::Bool, ::Bool, ::Bool, ::Array{Any,1}, ::Function, ::JuMP.Model\u001b[1m)\u001b[22m\u001b[22m at \u001b[1m/Users/changliuliu/.julia/v0.6/JuMP/src/solvers.jl:168\u001b[22m\u001b[22m",
            " [6] \u001b[1msolve\u001b[22m\u001b[22m\u001b[1m(\u001b[22m\u001b[22m::Reverify{SCS.SCSSolver}, ::Problem{LazySets.HPolytope{Float64},LazySets.HPolytope{Float64}}\u001b[1m)\u001b[22m\u001b[22m at \u001b[1m/Users/changliuliu/GitHub/NeuralVerification.jl/src/feasibility/utils/feasibility.jl:9\u001b[22m\u001b[22m",
            " [7] \u001b[1minclude_string\u001b[22m\u001b[22m\u001b[1m(\u001b[22m\u001b[22m::String, ::String\u001b[1m)\u001b[22m\u001b[22m at \u001b[1m./loading.jl:522\u001b[22m\u001b[22m",
            " [8] \u001b[1mexecute_request\u001b[22m\u001b[22m\u001b[1m(\u001b[22m\u001b[22m::ZMQ.Socket, ::IJulia.Msg\u001b[1m)\u001b[22m\u001b[22m at \u001b[1m/Users/changliuliu/.julia/v0.6/IJulia/src/execute_request.jl:193\u001b[22m\u001b[22m",
            " [9] \u001b[1m(::Compat.#inner#14{Array{Any,1},IJulia.#execute_request,Tuple{ZMQ.Socket,IJulia.Msg}})\u001b[22m\u001b[22m\u001b[1m(\u001b[22m\u001b[22m\u001b[1m)\u001b[22m\u001b[22m at \u001b[1m/Users/changliuliu/.julia/v0.6/Compat/src/Compat.jl:332\u001b[22m\u001b[22m",
            " [10] \u001b[1meventloop\u001b[22m\u001b[22m\u001b[1m(\u001b[22m\u001b[22m::ZMQ.Socket\u001b[1m)\u001b[22m\u001b[22m at \u001b[1m/Users/changliuliu/.julia/v0.6/IJulia/src/eventloop.jl:8\u001b[22m\u001b[22m",
            " [11] \u001b[1m(::IJulia.##13#16)\u001b[22m\u001b[22m\u001b[1m(\u001b[22m\u001b[22m\u001b[1m)\u001b[22m\u001b[22m at \u001b[1m./task.jl:335\u001b[22m\u001b[22m"
          ]
        }
      ],
      "execution_count": 9,
      "metadata": {}
=======
     "name": "stderr",
     "output_type": "stream",
     "text": [
      "WARNING: using Polyhedra.dim in module NeuralVerification conflicts with an existing identifier.\n"
     ]
>>>>>>> 4a427cf4b8973bb7b6ef2f250c3a87034cc730f3
    }
   ],
   "source": [
    "using Revise\n",
    "using NeuralVerification"
   ]
  },
  {
   "cell_type": "code",
   "execution_count": 2,
   "metadata": {},
   "outputs": [
    {
     "name": "stdout",
     "output_type": "stream",
     "text": [
      "glp_intopt: optimal basis to initial LP relaxation not provided\n"
     ]
    },
    {
     "name": "stderr",
     "output_type": "stream",
     "text": [
      "\u001b[1m\u001b[33mWARNING: \u001b[39m\u001b[22m\u001b[33mNot solved to optimality, status: Infeasible\u001b[39m\n",
      "\u001b[1m\u001b[33mWARNING: \u001b[39m\u001b[22m\u001b[33mInfeasibility ray (Farkas proof) not available\u001b[39m\n"
     ]
    },
<<<<<<< HEAD
    "nteract": {
      "version": "0.11.7"
=======
    {
     "data": {
      "text/plain": [
       "NeuralVerification.Result(:True, Float64[])"
      ]
     },
     "execution_count": 2,
     "metadata": {},
     "output_type": "execute_result"
>>>>>>> 4a427cf4b8973bb7b6ef2f250c3a87034cc730f3
    }
   ],
   "source": [
    "small_nnet = read_nnet(\"../examples/networks/small_nnet.txt\")\n",
    "A = Array{Float64, 2}(2,1)\n",
    "A[1,1] = 1\n",
    "A[2,1] = -1\n",
    "inputSet = HPolytope(A, [1.0,1.0])\n",
    "outputSet = HPolytope(A,[1.0,1.0])\n",
    "problem = Problem(small_nnet, inputSet, outputSet)\n",
    "optimizer = GLPKSolverMIP()\n",
    "solver = Reverify(optimizer, 1000.0)\n",
    "solve(solver, problem)"
   ]
  },
  {
   "cell_type": "code",
   "execution_count": null,
   "metadata": {
    "collapsed": true
   },
   "outputs": [],
   "source": []
  }
 ],
 "metadata": {
  "kernel_info": {
   "name": "julia-0.6"
  },
  "kernelspec": {
   "display_name": "Julia 0.6.2",
   "language": "julia",
   "name": "julia-0.6"
  },
  "language_info": {
   "file_extension": ".jl",
   "mimetype": "application/julia",
   "name": "julia",
   "version": "0.6.2"
  },
  "nteract": {
   "version": "0.11.6"
  }
 },
 "nbformat": 4,
 "nbformat_minor": 2
}
