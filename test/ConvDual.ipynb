{
 "cells": [
  {
   "cell_type": "code",
   "execution_count": 1,
   "metadata": {
    "inputHidden": false,
    "outputHidden": false
   },
   "outputs": [
    {
     "name": "stderr",
     "output_type": "stream",
     "text": [
      "WARNING: using Polyhedra.dim in module NeuralVerification conflicts with an existing identifier.\n"
     ]
    }
   ],
   "source": [
    "using Revise\n",
    "using NeuralVerification"
   ]
  },
  {
   "cell_type": "code",
   "execution_count": 35,
   "metadata": {
    "inputHidden": false,
    "outputHidden": false
   },
   "outputs": [
    {
     "name": "stderr",
     "output_type": "stream",
     "text": [
      "WARNING: Method definition get_bounds(NeuralVerification.Network, Array{Float64, 1}, Float64) in module NeuralVerification at /Users/tomer/.julia/v0.6/NeuralVerification.jl/src/feasibility/convDual.jl:54 overwritten at /Users/tomer/.julia/v0.6/NeuralVerification.jl/src/feasibility/convDual.jl:54.\n"
     ]
    },
    {
     "data": {
      "text/plain": [
       "NeuralVerification.Result(:True, Float64[])"
      ]
     },
     "execution_count": 35,
     "metadata": {},
     "output_type": "execute_result"
    }
   ],
   "source": [
    "small_nnet = read_nnet(\"../examples/networks/small_nnet.txt\")\n",
    "solver = ConvDual()\n",
    "inputSet = Hyperrectangle([0.0],[1.0])\n",
    "A = zeros(1,1)\n",
    "A[1,1] = -1.0\n",
    "outputSet = HPolytope(A,[1.0])\n",
    "problem = Problem(small_nnet, inputSet, outputSet)\n",
    "solve(solver, problem)"
   ]
  }
 ],
 "metadata": {
  "kernel_info": {
   "name": "julia-0.6"
  },
  "kernelspec": {
   "display_name": "Julia 0.6.2",
   "language": "julia",
   "name": "julia-0.6"
  },
  "language_info": {
   "file_extension": ".jl",
   "mimetype": "application/julia",
   "name": "julia",
   "version": "0.6.2"
  },
  "nteract": {
   "version": "0.11.6"
  }
 },
 "nbformat": 4,
 "nbformat_minor": 4
}
