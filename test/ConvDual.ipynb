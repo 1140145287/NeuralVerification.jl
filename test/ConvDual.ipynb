{
  "cells": [
    {
      "cell_type": "code",
      "source": [
        "include(\"../src/NeuralVerification.jl\")\n",
        "using Revise\n",
        "using NeuralVerification"
      ],
      "outputs": [],
      "execution_count": null,
      "metadata": {
        "inputHidden": false,
        "outputHidden": false
      }
    },
    {
      "cell_type": "code",
      "source": [
        "small_nnet = read_nnet(\"../examples/networks/small_nnet.txt\")\n",
        "solver = ConvDual()\n",
        "inputSet = Hyperrectangle([0.0],[1.0])\n",
        "A = zeros(1,1)\n",
        "A[1,1] = -1.0\n",
        "outputSet = HPolytope(A,[1.0])\n",
        "problem = Problem(small_nnet, inputSet, outputSet)\n",
        "solve(solver, problem)"
      ],
      "outputs": [],
      "execution_count": null,
      "metadata": {
        "inputHidden": false,
        "outputHidden": false
      }
    }
  ],
  "metadata": {
    "kernel_info": {
      "name": "julia-0.6"
    },
    "kernelspec": {
      "name": "julia-0.6",
      "language": "julia",
      "display_name": "Julia 0.6.4"
    },
    "language_info": {
      "file_extension": ".jl",
      "name": "julia",
      "mimetype": "application/julia",
      "version": "0.6.4"
    },
    "nteract": {
      "version": "0.11.7"
    }
  },
  "nbformat": 4,
  "nbformat_minor": 4
}