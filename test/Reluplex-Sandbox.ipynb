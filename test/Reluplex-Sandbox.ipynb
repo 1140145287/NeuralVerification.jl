{
 "cells": [
  {
   "cell_type": "code",
   "execution_count": 5,
   "metadata": {},
   "outputs": [
    {
     "data": {
      "text/plain": [
       "partition (generic function with 1 method)"
      ]
     },
     "execution_count": 5,
     "metadata": {},
     "output_type": "execute_result"
    }
   ],
   "source": [
    "using JuMP\n",
    "using MathProgBase.SolverInterface\n",
    "using GLPKMathProgInterface\n",
    "using LazySets\n",
    "include(\"../src/utils/activation.jl\")\n",
    "include(\"../src/utils/network.jl\")\n",
    "include(\"../src/utils/problem.jl\")\n",
    "include(\"../src/utils/util.jl\")\n",
    "include(\"../src/feasibility/utils/feasibility.jl\")\n",
    "include(\"../src/feasibility/iLP.jl\")\n",
    "include(\"../src/reachability/maxSens.jl\")"
   ]
  },
  {
   "cell_type": "code",
   "execution_count": 34,
   "metadata": {
    "collapsed": true
   },
   "outputs": [],
   "source": [
    "import JuMP: GenericAffExpr"
   ]
  },
  {
   "cell_type": "code",
   "execution_count": 12,
   "metadata": {},
   "outputs": [
    {
     "data": {
      "text/plain": [
       "Network(Layer[Layer([1.0; 1.0], [1.5, 1.5], ReLU()), Layer([2.0 2.0; 2.0 2.0], [2.5, 2.5], ReLU()), Layer([3.0 3.0], [3.5], ReLU())])"
      ]
     },
     "execution_count": 12,
     "metadata": {},
     "output_type": "execute_result"
    }
   ],
   "source": [
    "small_nnet = read_nnet(\"../examples/networks/small_nnet.txt\")"
   ]
  },
  {
   "cell_type": "code",
   "execution_count": 22,
   "metadata": {},
   "outputs": [
    {
     "data": {
      "text/plain": [
       "Network(Layer[Layer([1.0; 1.0], [1.5, 1.5], ReLU()), Layer([2.0 2.0; 2.0 2.0], [2.5, 2.5], ReLU()), Layer([3.0 3.0], [3.5], ReLU())])"
      ]
     },
     "execution_count": 22,
     "metadata": {},
     "output_type": "execute_result"
    }
   ],
   "source": [
    "small_nnet"
   ]
  },
  {
   "cell_type": "code",
   "execution_count": 407,
   "metadata": {},
   "outputs": [
    {
     "data": {
      "text/plain": [
       "LazySets.HPolytope{Float64}(LazySets.HalfSpace{Float64}[LazySets.HalfSpace{Float64}([1.0], 50.0)])"
      ]
     },
     "execution_count": 407,
     "metadata": {},
     "output_type": "execute_result"
    }
   ],
   "source": [
    "A = Array{Float64, 2}(2,1)\n",
    "A[1,1] = 1\n",
    "A[2,1] = -1\n",
    "inputSet = HPolytope(A, [1.0,1.0])\n",
    "outputSet = HPolytope(A[1:1, :],[50.0])"
   ]
  },
  {
   "cell_type": "code",
   "execution_count": 408,
   "metadata": {},
   "outputs": [
    {
     "data": {
      "text/plain": [
       "GLPKMathProgInterface.GLPKInterfaceMIP.GLPKSolverMIP(false, Any[])"
      ]
     },
     "execution_count": 408,
     "metadata": {},
     "output_type": "execute_result"
    }
   ],
   "source": [
    "\n",
    "problem = Problem(small_nnet, inputSet, outputSet)\n",
    "optimizer = GLPKSolverMIP()\n",
    "#solver = Reverify(optimizer, 1000.0)\n",
    "#solve(solver, problem)"
   ]
  },
  {
   "cell_type": "code",
   "execution_count": null,
   "metadata": {
    "collapsed": true
   },
   "outputs": [],
   "source": []
  },
  {
   "cell_type": "markdown",
   "metadata": {},
   "source": [
    "# Parse the Network"
   ]
  },
  {
   "cell_type": "code",
   "execution_count": null,
   "metadata": {
    "collapsed": true
   },
   "outputs": [],
   "source": [
    "small_nnet = read_nnet(\"../examples/networks/small_nnet.txt\")"
   ]
  },
  {
   "cell_type": "markdown",
   "metadata": {},
   "source": [
    "# Setup the equations and keep track of ReLUs"
   ]
  },
  {
   "cell_type": "code",
   "execution_count": 25,
   "metadata": {},
   "outputs": [
    {
     "data": {
      "text/plain": [
       "Network(Layer[Layer([1.0; 1.0], [1.5, 1.5], ReLU()), Layer([2.0 2.0; 2.0 2.0], [2.5, 2.5], ReLU()), Layer([3.0 3.0], [3.5], ReLU())])"
      ]
     },
     "execution_count": 25,
     "metadata": {},
     "output_type": "execute_result"
    }
   ],
   "source": [
    "network = small_nnet"
   ]
  },
  {
   "cell_type": "code",
   "execution_count": 409,
   "metadata": {},
   "outputs": [
    {
     "data": {
      "text/latex": [
       "$$ \\begin{alignat*}{1}\\min\\quad & 0\\\\\n",
       "\\text{Subject to} \\quad\\end{alignat*}\n",
       " $$"
      ],
      "text/plain": [
       "Feasibility problem with:\n",
       " * 0 linear constraints\n",
       " * 0 variables\n",
       "Solver is GLPKInterfaceMIP"
      ]
     },
     "execution_count": 409,
     "metadata": {},
     "output_type": "execute_result"
    }
   ],
   "source": [
    "#model = JuMP.Model(solver = solver.optimizer)\n",
    "model = JuMP.Model(solver = GLPKSolverMIP())"
   ]
  },
  {
   "cell_type": "code",
   "execution_count": 40,
   "metadata": {
    "collapsed": true
   },
   "outputs": [],
   "source": [
    "layers = network.layers\n",
    "neurons = Vector{Vector{Variable}}(length(layers) + 1) # +1 for input layer\n",
    "input_layer_n = size(first(layers).weights, 2)\n",
    "all_layers_n  = [length(l.bias) for l in layers]\n",
    "insert!(all_layers_n, 1, input_layer_n)\n",
    "\n",
    "#todo encode relus\n",
    "\n",
    "for (i, n) in enumerate(all_layers_n)\n",
    "    neurons[i] = @variable(model, [1:n]) # To do: name the variables\n",
    "    deltas[i]  = @variable(model, [1:n], Bin)\n",
    "end"
   ]
  },
  {
   "cell_type": "code",
   "execution_count": 36,
   "metadata": {},
   "outputs": [
    {
     "data": {
      "text/latex": [
       "$$ \\begin{alignat*}{1}\\min\\quad & 0\\\\\n",
       "\\text{Subject to} \\quad\\end{alignat*}\n",
       " $$"
      ],
      "text/plain": [
       "Feasibility problem with:\n",
       " * 0 linear constraints\n",
       " * 0 variables\n",
       "Solver is GLPKInterfaceLP"
      ]
     },
     "execution_count": 36,
     "metadata": {},
     "output_type": "execute_result"
    }
   ],
   "source": [
    "model = JuMP.Model(solver = GLPKSolverLP(method=:Exact))"
   ]
  },
  {
   "cell_type": "code",
   "execution_count": null,
   "metadata": {
    "collapsed": true
   },
   "outputs": [],
   "source": [
    " neurons, deltas = init_nnet_vars(solver, model, problem.network)"
   ]
  },
  {
   "cell_type": "code",
   "execution_count": 32,
   "metadata": {},
   "outputs": [
    {
     "data": {
      "text/plain": [
       "3-element Array{Int64,1}:\n",
       " 2\n",
       " 2\n",
       " 1"
      ]
     },
     "execution_count": 32,
     "metadata": {},
     "output_type": "execute_result"
    }
   ],
   "source": [
    "all_layers_n"
   ]
  },
  {
   "cell_type": "code",
   "execution_count": 45,
   "metadata": {},
   "outputs": [
    {
     "data": {
      "text/latex": [
       "$$ \\begin{alignat*}{1}\\min\\quad & 0\\\\\n",
       "\\text{Subject to} \\quad & __anon___{i} \\quad\\forall i \\in \\{1\\}\\\\\n",
       " & __anon___{i} \\in \\{0,1\\} \\quad\\forall i \\in \\{1\\}\\\\\n",
       " & __anon___{i} \\quad\\forall i \\in \\{1,2\\}\\\\\n",
       " & __anon___{i} \\in \\{0,1\\} \\quad\\forall i \\in \\{1,2\\}\\\\\n",
       " & __anon___{i} \\quad\\forall i \\in \\{1,2\\}\\\\\n",
       " & __anon___{i} \\in \\{0,1\\} \\quad\\forall i \\in \\{1,2\\}\\\\\n",
       " & __anon___{i} \\quad\\forall i \\in \\{1\\}\\\\\n",
       " & __anon___{i} \\in \\{0,1\\} \\quad\\forall i \\in \\{1\\}\\\\\n",
       "\\end{alignat*}\n",
       " $$"
      ],
      "text/plain": [
       "Feasibility problem with:\n",
       " * 0 linear constraints\n",
       " * 12 variables: 6 binary\n",
       "Solver is GLPKInterfaceMIP"
      ]
     },
     "execution_count": 45,
     "metadata": {},
     "output_type": "execute_result"
    }
   ],
   "source": [
    "model"
   ]
  },
  {
   "cell_type": "code",
   "execution_count": 29,
   "metadata": {},
   "outputs": [
    {
     "data": {
      "text/plain": [
       "4-element Array{Array{JuMP.Variable,1},1}:\n",
       " #undef\n",
       " #undef\n",
       " #undef\n",
       " #undef"
      ]
     },
     "execution_count": 29,
     "metadata": {},
     "output_type": "execute_result"
    }
   ],
   "source": [
    "deltas"
   ]
  },
  {
   "cell_type": "markdown",
   "metadata": {},
   "source": [
    "#### activation assignment search goes here later"
   ]
  },
  {
   "cell_type": "code",
   "execution_count": null,
   "metadata": {
    "collapsed": true
   },
   "outputs": [],
   "source": []
  },
  {
   "cell_type": "markdown",
   "metadata": {},
   "source": [
    "# Solve the associated LP"
   ]
  },
  {
   "cell_type": "code",
   "execution_count": null,
   "metadata": {
    "collapsed": true
   },
   "outputs": [],
   "source": []
  },
  {
   "cell_type": "code",
   "execution_count": 3,
   "metadata": {},
   "outputs": [
    {
     "data": {
      "text/latex": [
       "$$ \\begin{alignat*}{1}\\max\\quad & 15 x1 + 10 x2\\\\\n",
       "\\text{Subject to} \\quad & 0.25 x1 + x2 \\leq 65\\\\\n",
       " & 1.25 x1 + 0.5 x2 \\leq 90\\\\\n",
       " & x1 \\geq 0\\\\\n",
       " & x2 \\geq 0\\\\\n",
       "\\end{alignat*}\n",
       " $$"
      ],
      "text/plain": [
       "Maximization problem with:\n",
       " * 2 linear constraints\n",
       " * 2 variables\n",
       "Solver is GLPKInterfaceLP"
      ]
     },
     "execution_count": 3,
     "metadata": {},
     "output_type": "execute_result"
    }
   ],
   "source": [
    "m = Model(solver = GLPKSolverLP(method=:Exact))\n",
    "\n",
    "@variable(m, x1 >= 0)\n",
    "@variable(m, x2 >= 0)\n",
    "\n",
    "@objective(m, Max, 15*x1 + 10*x2)\n",
    "\n",
    "@constraint(m, .25*x1 + x2 <= 65) # Adds the constraint x + y <= 1\n",
    "@constraint(m, 1.25*x1 + .5*x2 <= 90) # Adds the constraint x + y <= 1\n",
    "\n",
    "m"
   ]
  },
  {
   "cell_type": "code",
   "execution_count": 7,
   "metadata": {},
   "outputs": [
    {
     "data": {
      "text/latex": [
       "$$ JuMP.Variable[x1, x2] $$"
      ],
      "text/plain": [
       "2-element Array{JuMP.Variable,1}:\n",
       " x1\n",
       " x2"
      ]
     },
     "execution_count": 7,
     "metadata": {},
     "output_type": "execute_result"
    }
   ],
   "source": [
    "aux = [x1, x2]"
   ]
  },
  {
   "cell_type": "code",
   "execution_count": 9,
   "metadata": {},
   "outputs": [
    {
     "data": {
      "text/plain": [
       "51.11111111111111"
      ]
     },
     "execution_count": 9,
     "metadata": {},
     "output_type": "execute_result"
    }
   ],
   "source": [
    "getvalue(aux[1])"
   ]
  },
  {
   "cell_type": "code",
   "execution_count": 4,
   "metadata": {},
   "outputs": [
    {
     "data": {
      "text/plain": [
       ":Optimal"
      ]
     },
     "execution_count": 4,
     "metadata": {},
     "output_type": "execute_result"
    },
    {
     "name": "stderr",
     "output_type": "stream",
     "text": [
      "WARNING: both LazySets and JuMP export \"LinearConstraint\"; uses of it in module Main must be qualified\n",
      "WARNING: both SolverInterface and JuMP export \"getdual\"; uses of it in module Main must be qualified\n"
     ]
    }
   ],
   "source": [
    "solve(m)"
   ]
  },
  {
   "cell_type": "code",
   "execution_count": null,
   "metadata": {
    "collapsed": true
   },
   "outputs": [],
   "source": []
  },
  {
   "cell_type": "code",
   "execution_count": 6,
   "metadata": {},
   "outputs": [
    {
     "data": {
      "text/plain": [
       "1288.8888888888887"
      ]
     },
     "execution_count": 6,
     "metadata": {},
     "output_type": "execute_result"
    }
   ],
   "source": [
    "getobjectivevalue(m)"
   ]
  },
  {
   "cell_type": "code",
   "execution_count": null,
   "metadata": {
    "collapsed": true
   },
   "outputs": [],
   "source": []
  },
  {
   "cell_type": "code",
   "execution_count": null,
   "metadata": {
    "collapsed": true
   },
   "outputs": [],
   "source": [
    "include(\"../src/feasibility/utils/feasibility.jl\")\n",
    "#include(\"../src/feasibility/iLP.jl\")\n",
    "small_nnet = read_nnet(\"../examples/networks/small_nnet.txt\")\n",
    "A = Array{Float64, 2}(2,1)\n",
    "A[1,1] = 1\n",
    "A[2,1] = -1\n",
    "inputSet = Hyperrectangle([-20.0], [.5])\n",
    "outputSet = HPolytope(A[1:1, :],[102.5])\n",
    "problem = Problem(small_nnet, inputSet, outputSet)\n",
    "optimizer = GLPKSolverMIP()\n",
    "solver = ILP(optimizer, 1)\n",
    "solve(solver, problem)"
   ]
  },
  {
   "cell_type": "code",
   "execution_count": 32,
   "metadata": {},
   "outputs": [
    {
     "data": {
      "text/latex": [
       "$$ \\begin{alignat*}{1}\\min\\quad & 0\\\\\n",
       "\\text{Subject to} \\quad\\end{alignat*}\n",
       " $$"
      ],
      "text/plain": [
       "Feasibility problem with:\n",
       " * 0 linear constraints\n",
       " * 0 variables\n",
       "Solver is GLPKInterfaceLP"
      ]
     },
     "execution_count": 32,
     "metadata": {},
     "output_type": "execute_result"
    }
   ],
   "source": [
    "small_nnet = read_nnet(\"../examples/networks/small_nnet.txt\")\n",
    "A = Array{Float64, 2}(2,1)\n",
    "A[1,1] = 1\n",
    "A[2,1] = -1\n",
    "inputSet = Hyperrectangle([-20.0], [.5])\n",
    "inputSet = Hyperrectangle([-20.0], [0.0])\n",
    "outputSet = HPolytope(A[1:1, :],[102.5])\n",
    "problem = Problem(small_nnet, inputSet, outputSet)\n",
    "solver = GLPKSolverLP(method=:Exact)\n",
    "m = Model(solver=solver)"
   ]
  },
  {
   "cell_type": "code",
   "execution_count": 16,
   "metadata": {},
   "outputs": [
    {
     "data": {
      "text/plain": [
       "Network(Layer[Layer([1.0; 1.0], [1.5, 1.5], ReLU()), Layer([2.0 2.0; 2.0 2.0], [2.5, 2.5], ReLU()), Layer([3.0 3.0], [3.5], ReLU())])"
      ]
     },
     "execution_count": 16,
     "metadata": {},
     "output_type": "execute_result"
    }
   ],
   "source": [
    "small_nnet"
   ]
  },
  {
   "cell_type": "code",
   "execution_count": 10,
   "metadata": {},
   "outputs": [
    {
     "data": {
      "text/plain": [
       "1-element Array{Float64,1}:\n",
       " 0.5"
      ]
     },
     "execution_count": 10,
     "metadata": {},
     "output_type": "execute_result"
    }
   ],
   "source": [
    "inputSet.radius"
   ]
  },
  {
   "cell_type": "code",
   "execution_count": 19,
   "metadata": {},
   "outputs": [
    {
     "data": {
      "text/plain": [
       "4-element Array{LazySets.Hyperrectangle,1}:\n",
       " LazySets.Hyperrectangle{Float64}([-20.0], [0.0])        \n",
       " LazySets.Hyperrectangle{Float64}([0.0, 0.0], [0.0, 0.0])\n",
       " LazySets.Hyperrectangle{Float64}([2.5, 2.5], [0.0, 0.0])\n",
       " LazySets.Hyperrectangle{Float64}([18.5], [0.0])         "
      ]
     },
     "execution_count": 19,
     "metadata": {},
     "output_type": "execute_result"
    }
   ],
   "source": [
    "bounds = get_bounds(problem)"
   ]
  },
  {
   "cell_type": "code",
   "execution_count": 13,
   "metadata": {},
   "outputs": [
    {
     "data": {
      "text/plain": [
       "LazySets.Hyperrectangle{Float64}([0.5, 1.0, 1.5], [0.5, 1.0, 1.5])"
      ]
     },
     "execution_count": 13,
     "metadata": {},
     "output_type": "execute_result"
    }
   ],
   "source": [
    "Hyperrectangle(low=[0.0, 0.0, 0.0], high=[1.0,2.0,3.0])"
   ]
  },
  {
   "cell_type": "markdown",
   "metadata": {},
   "source": [
    "# Clean functions"
   ]
  },
  {
   "cell_type": "code",
   "execution_count": null,
   "metadata": {
    "collapsed": true
   },
   "outputs": [],
   "source": []
  },
  {
   "cell_type": "code",
   "execution_count": null,
   "metadata": {
    "collapsed": true
   },
   "outputs": [],
   "source": [
    "function encode(solver::ILP, model::Model, problem::Problem, act_pattern::Vector{Vector{Bool}})\n",
    "    neurons, deltas = init_nnet_vars(solver, model, problem.network)\n",
    "    add_complementary_output_constraint(model, problem.output, last(neurons))\n",
    "\n",
    "    for (i, layer) in enumerate(problem.network.layers)\n",
    "        (W, b, act) = (layer.weights, layer.bias, layer.activation)\n",
    "        before_act = W * neurons[i] + b\n",
    "        for j in 1:length(layer.bias) # For evey node\n",
    "            if act_pattern[i][j]\n",
    "                # @constraint(model, before_act[j] >= 0.0)\n",
    "                @constraint(model, neurons[i+1][j] == before_act[j])\n",
    "            else\n",
    "                # @constraint(model, before_act[j] <= 0.0)\n",
    "                @constraint(model, neurons[i+1][j] == 0.0)\n",
    "            end\n",
    "        end\n",
    "    end\n",
    "\n",
    "    # Objective: L∞ norm of the disturbance\n",
    "    J = maximum(symbolic_abs(neurons[1] - problem.input.center))\n",
    "    @objective(model, Min, J)\n",
    "\n",
    "    return neurons[1]\n",
    "end"
   ]
  },
  {
   "cell_type": "code",
   "execution_count": 29,
   "metadata": {},
   "outputs": [
    {
     "data": {
      "text/plain": [
       "GLPKMathProgInterface.GLPKInterfaceLP.GLPKSolverLP(false, :Exact, Any[])"
      ]
     },
     "execution_count": 29,
     "metadata": {},
     "output_type": "execute_result"
    }
   ],
   "source": [
    "solver = GLPKSolverLP(method=:Exact)"
   ]
  },
  {
   "cell_type": "code",
   "execution_count": null,
   "metadata": {
    "collapsed": true
   },
   "outputs": [],
   "source": []
  },
  {
   "cell_type": "markdown",
   "metadata": {},
   "source": [
    "## attempt to programatically name variables"
   ]
  },
  {
   "cell_type": "markdown",
   "metadata": {},
   "source": [
    "### need to investigate how to do this"
   ]
  },
  {
   "cell_type": "code",
   "execution_count": 251,
   "metadata": {},
   "outputs": [
    {
     "data": {
      "text/plain": [
       "string_as_varname (generic function with 1 method)"
      ]
     },
     "execution_count": 251,
     "metadata": {},
     "output_type": "execute_result"
    }
   ],
   "source": [
    "function string_as_varname(s::AbstractString,v::Any)\n",
    "         s=symbol(s)\n",
    "         @eval (($s) = ($v))\n",
    "end"
   ]
  },
  {
   "cell_type": "code",
   "execution_count": 253,
   "metadata": {},
   "outputs": [
    {
     "data": {
      "text/latex": [
       "$$ JuMP.Variable[x1, x2] $$"
      ],
      "text/plain": [
       "2-element Array{JuMP.Variable,1}:\n",
       " x1\n",
       " x2"
      ]
     },
     "execution_count": 253,
     "metadata": {},
     "output_type": "execute_result"
    }
   ],
   "source": [
    "test"
   ]
  },
  {
   "cell_type": "code",
   "execution_count": 259,
   "metadata": {},
   "outputs": [
    {
     "name": "stderr",
     "output_type": "stream",
     "text": [
      "\u001b[1m\u001b[33mWARNING: \u001b[39m\u001b[22m\u001b[33mA variable or constraint named b11 is already attached to this model. If creating variables programmatically, use the anonymous variable syntax x = @variable(m, [1:N], ...).\u001b[39m\n",
      "\u001b[1m\u001b[33mWARNING: \u001b[39m\u001b[22m\u001b[33mA variable or constraint named b21 is already attached to this model. If creating variables programmatically, use the anonymous variable syntax x = @variable(m, [1:N], ...).\u001b[39m\n",
      "\u001b[1m\u001b[33mWARNING: \u001b[39m\u001b[22m\u001b[33mA variable or constraint named b22 is already attached to this model. If creating variables programmatically, use the anonymous variable syntax x = @variable(m, [1:N], ...).\u001b[39m\n"
     ]
    },
    {
     "data": {
      "text/plain": [
       "4-element Array{Array{JuMP.Variable,1},1}:\n",
       " JuMP.Variable[b11]     \n",
       " JuMP.Variable[b21, b22]\n",
       " JuMP.Variable[b31, b32]\n",
       " JuMP.Variable[b41]     "
      ]
     },
     "execution_count": 259,
     "metadata": {},
     "output_type": "execute_result"
    }
   ],
   "source": [
    "testbs = [[@variable(m, b11)],\n",
    "         [@variable(m, b21),@variable(m, b22)],\n",
    "         [@variable(m, b31),@variable(m, b32)],  \n",
    "         [@variable(m, b41)]]\n",
    "\n",
    "testfs = [[@variable(m, f21),@variable(m, f22)],\n",
    "          [@variable(m, f31),@variable(m, f32)]]"
   ]
  },
  {
   "cell_type": "code",
   "execution_count": 255,
   "metadata": {},
   "outputs": [
    {
     "data": {
      "text/latex": [
       "$$ x1 $$"
      ],
      "text/plain": [
       "x1"
      ]
     },
     "execution_count": 255,
     "metadata": {},
     "output_type": "execute_result"
    }
   ],
   "source": [
    "test[1]"
   ]
  },
  {
   "cell_type": "code",
   "execution_count": 254,
   "metadata": {},
   "outputs": [
    {
     "ename": "LoadError",
     "evalue": "\u001b[91mUndefVarError: symbol not defined\u001b[39m",
     "output_type": "error",
     "traceback": [
      "\u001b[91mUndefVarError: symbol not defined\u001b[39m",
      "",
      "Stacktrace:",
      " [1] \u001b[1mstring_as_varname\u001b[22m\u001b[22m\u001b[1m(\u001b[22m\u001b[22m::String, ::JuMP.Variable\u001b[1m)\u001b[22m\u001b[22m at \u001b[1m./In[251]:2\u001b[22m\u001b[22m",
      " [2] \u001b[1minclude_string\u001b[22m\u001b[22m\u001b[1m(\u001b[22m\u001b[22m::String, ::String\u001b[1m)\u001b[22m\u001b[22m at \u001b[1m./loading.jl:522\u001b[22m\u001b[22m",
      " [3] \u001b[1mexecute_request\u001b[22m\u001b[22m\u001b[1m(\u001b[22m\u001b[22m::ZMQ.Socket, ::IJulia.Msg\u001b[1m)\u001b[22m\u001b[22m at \u001b[1m/Users/christopherlazarus/.julia/v0.6/IJulia/src/execute_request.jl:193\u001b[22m\u001b[22m",
      " [4] \u001b[1m(::Compat.#inner#6{Array{Any,1},IJulia.#execute_request,Tuple{ZMQ.Socket,IJulia.Msg}})\u001b[22m\u001b[22m\u001b[1m(\u001b[22m\u001b[22m\u001b[1m)\u001b[22m\u001b[22m at \u001b[1m/Users/christopherlazarus/.julia/v0.6/Compat/src/Compat.jl:189\u001b[22m\u001b[22m",
      " [5] \u001b[1meventloop\u001b[22m\u001b[22m\u001b[1m(\u001b[22m\u001b[22m::ZMQ.Socket\u001b[1m)\u001b[22m\u001b[22m at \u001b[1m/Users/christopherlazarus/.julia/v0.6/IJulia/src/eventloop.jl:8\u001b[22m\u001b[22m",
      " [6] \u001b[1m(::IJulia.##13#16)\u001b[22m\u001b[22m\u001b[1m(\u001b[22m\u001b[22m\u001b[1m)\u001b[22m\u001b[22m at \u001b[1m./task.jl:335\u001b[22m\u001b[22m"
     ]
    }
   ],
   "source": [
    "string_as_varname(\"test\", test[1])"
   ]
  },
  {
   "cell_type": "code",
   "execution_count": 250,
   "metadata": {},
   "outputs": [
    {
     "name": "stderr",
     "output_type": "stream",
     "text": [
      "\u001b[1m\u001b[33mWARNING: \u001b[39m\u001b[22m\u001b[33mExpression x1 should not be used as a variable name. Use the \"anonymous\" syntax x1 = @variable(m, ...) instead.\u001b[39m\n"
     ]
    },
    {
     "ename": "LoadError",
     "evalue": "\u001b[91mIn @variable(m,x1): Expected x1 to be a variable name\u001b[39m",
     "output_type": "error",
     "traceback": [
      "\u001b[91mIn @variable(m,x1): Expected x1 to be a variable name\u001b[39m",
      "",
      "Stacktrace:",
      " [1] \u001b[1minclude_string\u001b[22m\u001b[22m\u001b[1m(\u001b[22m\u001b[22m::String, ::String\u001b[1m)\u001b[22m\u001b[22m at \u001b[1m./loading.jl:522\u001b[22m\u001b[22m",
      " [2] \u001b[1mexecute_request\u001b[22m\u001b[22m\u001b[1m(\u001b[22m\u001b[22m::ZMQ.Socket, ::IJulia.Msg\u001b[1m)\u001b[22m\u001b[22m at \u001b[1m/Users/christopherlazarus/.julia/v0.6/IJulia/src/execute_request.jl:193\u001b[22m\u001b[22m",
      " [3] \u001b[1m(::Compat.#inner#6{Array{Any,1},IJulia.#execute_request,Tuple{ZMQ.Socket,IJulia.Msg}})\u001b[22m\u001b[22m\u001b[1m(\u001b[22m\u001b[22m\u001b[1m)\u001b[22m\u001b[22m at \u001b[1m/Users/christopherlazarus/.julia/v0.6/Compat/src/Compat.jl:189\u001b[22m\u001b[22m",
      " [4] \u001b[1meventloop\u001b[22m\u001b[22m\u001b[1m(\u001b[22m\u001b[22m::ZMQ.Socket\u001b[1m)\u001b[22m\u001b[22m at \u001b[1m/Users/christopherlazarus/.julia/v0.6/IJulia/src/eventloop.jl:8\u001b[22m\u001b[22m",
      " [5] \u001b[1m(::IJulia.##13#16)\u001b[22m\u001b[22m\u001b[1m(\u001b[22m\u001b[22m\u001b[1m)\u001b[22m\u001b[22m at \u001b[1m./task.jl:335\u001b[22m\u001b[22m"
     ]
    }
   ],
   "source": [
    "test = [@variable(m, \"x1\"), @variable(m, x2)]"
   ]
  },
  {
   "cell_type": "code",
   "execution_count": 249,
   "metadata": {},
   "outputs": [
    {
     "data": {
      "text/latex": [
       "$$ JuMP.Variable[x1, x2] $$"
      ],
      "text/plain": [
       "2-element Array{JuMP.Variable,1}:\n",
       " x1\n",
       " x2"
      ]
     },
     "execution_count": 249,
     "metadata": {},
     "output_type": "execute_result"
    }
   ],
   "source": [
    "test"
   ]
  },
  {
   "cell_type": "code",
   "execution_count": 240,
   "metadata": {},
   "outputs": [
    {
     "data": {
      "text/plain": [
       "init_nnet_vars (generic function with 2 methods)"
      ]
     },
     "execution_count": 240,
     "metadata": {},
     "output_type": "execute_result"
    }
   ],
   "source": [
    "function init_nnet_vars(model::Model, network::Network)\n",
    "    layers = network.layers\n",
    "    #input layer and last layer have b_vars because they are unbounded\n",
    "    b_vars = Vector{Vector{Variable}}(length(layers) + 1) # +1 for input layer\n",
    "    #f_vars are always positive and used as front for ReLUs\n",
    "    f_vars = Vector{Vector{Variable}}(length(layers) -1)\n",
    "    \n",
    "    input_layer_n = size(first(layers).weights, 2)\n",
    "    all_layers_n  = [length(l.bias) for l in layers]\n",
    "    insert!(all_layers_n, 1, input_layer_n)\n",
    "\n",
    "    for (i, n) in enumerate(all_layers_n)\n",
    "        b_vars[i] = @variable(model, [1:n]) # To do: name the variables\n",
    "        if 1 < i < length(layers) + 1\n",
    "            f_vars[i-1] = @variable(model, [1:n])\n",
    "        end\n",
    "    end\n",
    "    return b_vars, f_vars\n",
    "end"
   ]
  },
  {
   "cell_type": "code",
   "execution_count": null,
   "metadata": {
    "collapsed": true
   },
   "outputs": [],
   "source": []
  },
  {
   "cell_type": "code",
   "execution_count": 241,
   "metadata": {},
   "outputs": [
    {
     "data": {
      "text/plain": [
       "(Array{JuMP.Variable,1}[__anon__[i] ∀ i ∈ {1}, __anon__[i] ∀ i ∈ {1,2}, __anon__[i] ∀ i ∈ {1,2}, __anon__[i] ∀ i ∈ {1}], Array{JuMP.Variable,1}[__anon__[i] ∀ i ∈ {1,2}, __anon__[i] ∀ i ∈ {1,2}])"
      ]
     },
     "execution_count": 241,
     "metadata": {},
     "output_type": "execute_result"
    }
   ],
   "source": [
    "bs, fs = init_nnet_vars(m, problem.network)"
   ]
  },
  {
   "cell_type": "code",
   "execution_count": 246,
   "metadata": {},
   "outputs": [
    {
     "data": {
      "text/latex": [
       "$$ __anon__ $$"
      ],
      "text/plain": [
       "__anon__"
      ]
     },
     "execution_count": 246,
     "metadata": {},
     "output_type": "execute_result"
    }
   ],
   "source": [
    "test = @variable(m)"
   ]
  },
  {
   "cell_type": "code",
   "execution_count": 247,
   "metadata": {},
   "outputs": [
    {
     "data": {
      "text/latex": [
       "$$ \\begin{alignat*}{1}\\max\\quad & 0\\\\\n",
       "\\text{Subject to} \\quad & -__anon___{1} + __anon___{1} = -1.5\\\\\n",
       " & -__anon___{2} + __anon___{1} = -1.5\\\\\n",
       " & -__anon___{1} + 2 __anon___{1} = -2.5\\\\\n",
       " & -__anon___{1} + 2 __anon___{2} = -2.5\\\\\n",
       " & -__anon___{1} + 2 __anon___{1} = -2.5\\\\\n",
       " & -__anon___{1} + 2 __anon___{2} = -2.5\\\\\n",
       " & -__anon___{2} + 2 __anon___{1} = -2.5\\\\\n",
       " & -__anon___{2} + 2 __anon___{2} = -2.5\\\\\n",
       " & -__anon___{2} + 2 __anon___{1} = -2.5\\\\\n",
       " & -__anon___{2} + 2 __anon___{2} = -2.5\\\\\n",
       " & -__anon___{1} + 3 __anon___{1} = -3.5\\\\\n",
       " & -__anon___{1} + 3 __anon___{2} = -3.5\\\\\n",
       " & -__anon___{1} + 3 __anon___{1} = -3.5\\\\\n",
       " & -__anon___{1} + 3 __anon___{2} = -3.5\\\\\n",
       " & __anon___{i} \\quad\\forall i \\in \\{1\\}\\\\\n",
       " & __anon___{i} \\quad\\forall i \\in \\{1,2\\}\\\\\n",
       " & __anon___{i} \\quad\\forall i \\in \\{1,2\\}\\\\\n",
       " & __anon___{i} \\quad\\forall i \\in \\{1,2\\}\\\\\n",
       " & __anon___{i} \\quad\\forall i \\in \\{1,2\\}\\\\\n",
       " & __anon___{i} \\quad\\forall i \\in \\{1\\}\\\\\n",
       " & __anon___{i} \\quad\\forall i \\in \\{1\\}\\\\\n",
       " & __anon___{i} \\quad\\forall i \\in \\{1,2\\}\\\\\n",
       " & __anon___{i} \\quad\\forall i \\in \\{1,2\\}\\\\\n",
       " & __anon___{i} \\quad\\forall i \\in \\{1,2\\}\\\\\n",
       " & __anon___{i} \\quad\\forall i \\in \\{1,2\\}\\\\\n",
       " & __anon___{i} \\quad\\forall i \\in \\{1\\}\\\\\n",
       " & __anon___{i} \\quad\\forall i \\in \\{1\\}\\\\\n",
       " & __anon___{i} \\quad\\forall i \\in \\{1,2\\}\\\\\n",
       " & __anon___{i} \\quad\\forall i \\in \\{1,2\\}\\\\\n",
       " & __anon___{i} \\quad\\forall i \\in \\{1,2\\}\\\\\n",
       " & __anon___{i} \\quad\\forall i \\in \\{1,2\\}\\\\\n",
       " & __anon___{i} \\quad\\forall i \\in \\{1\\}\\\\\n",
       " & __anon__\\\\\n",
       "\\end{alignat*}\n",
       " $$"
      ],
      "text/plain": [
       "Maximization problem with:\n",
       " * 14 linear constraints\n",
       " * 31 variables\n",
       "Solver is GLPKInterfaceLP"
      ]
     },
     "execution_count": 247,
     "metadata": {},
     "output_type": "execute_result"
    }
   ],
   "source": [
    "test.name"
   ]
  },
  {
   "cell_type": "code",
   "execution_count": 245,
   "metadata": {},
   "outputs": [
    {
     "ename": "LoadError",
     "evalue": "\u001b[91mtype Variable has no field setName\u001b[39m",
     "output_type": "error",
     "traceback": [
      "\u001b[91mtype Variable has no field setName\u001b[39m",
      "",
      "Stacktrace:",
      " [1] \u001b[1mmacro expansion\u001b[22m\u001b[22m at \u001b[1m./In[245]:3\u001b[22m\u001b[22m [inlined]",
      " [2] \u001b[1manonymous\u001b[22m\u001b[22m at \u001b[1m./<missing>:?\u001b[22m\u001b[22m",
      " [3] \u001b[1minclude_string\u001b[22m\u001b[22m\u001b[1m(\u001b[22m\u001b[22m::String, ::String\u001b[1m)\u001b[22m\u001b[22m at \u001b[1m./loading.jl:522\u001b[22m\u001b[22m",
      " [4] \u001b[1mexecute_request\u001b[22m\u001b[22m\u001b[1m(\u001b[22m\u001b[22m::ZMQ.Socket, ::IJulia.Msg\u001b[1m)\u001b[22m\u001b[22m at \u001b[1m/Users/christopherlazarus/.julia/v0.6/IJulia/src/execute_request.jl:193\u001b[22m\u001b[22m",
      " [5] \u001b[1m(::Compat.#inner#6{Array{Any,1},IJulia.#execute_request,Tuple{ZMQ.Socket,IJulia.Msg}})\u001b[22m\u001b[22m\u001b[1m(\u001b[22m\u001b[22m\u001b[1m)\u001b[22m\u001b[22m at \u001b[1m/Users/christopherlazarus/.julia/v0.6/Compat/src/Compat.jl:189\u001b[22m\u001b[22m",
      " [6] \u001b[1meventloop\u001b[22m\u001b[22m\u001b[1m(\u001b[22m\u001b[22m::ZMQ.Socket\u001b[1m)\u001b[22m\u001b[22m at \u001b[1m/Users/christopherlazarus/.julia/v0.6/IJulia/src/eventloop.jl:8\u001b[22m\u001b[22m",
      " [7] \u001b[1m(::IJulia.##13#16)\u001b[22m\u001b[22m\u001b[1m(\u001b[22m\u001b[22m\u001b[1m)\u001b[22m\u001b[22m at \u001b[1m./task.jl:335\u001b[22m\u001b[22m"
     ]
    }
   ],
   "source": [
    "for layer in bs\n",
    "    for var in layer\n",
    "        var.set(\"as\")\n",
    "    end\n",
    "end"
   ]
  },
  {
   "cell_type": "code",
   "execution_count": 136,
   "metadata": {},
   "outputs": [
    {
     "data": {
      "text/plain": [
       "2-element Array{Array{JuMP.Variable,1},1}:\n",
       " __anon__[i] ∀ i ∈ {1,2}\n",
       " __anon__[i] ∀ i ∈ {1,2}"
      ]
     },
     "execution_count": 136,
     "metadata": {},
     "output_type": "execute_result"
    }
   ],
   "source": [
    "fs"
   ]
  },
  {
   "cell_type": "code",
   "execution_count": 137,
   "metadata": {},
   "outputs": [
    {
     "data": {
      "text/plain": [
       "2-element Array{Array{Int64,1},1}:\n",
       " [1, 1]\n",
       " [1, 1]"
      ]
     },
     "execution_count": 137,
     "metadata": {},
     "output_type": "execute_result"
    }
   ],
   "source": [
    "relu_status = [[1,1],[1,1]]"
   ]
  },
  {
   "cell_type": "code",
   "execution_count": 401,
   "metadata": {},
   "outputs": [
    {
     "data": {
      "text/plain": [
       "add_output_constraint (generic function with 1 method)"
      ]
     },
     "execution_count": 401,
     "metadata": {},
     "output_type": "execute_result"
    }
   ],
   "source": [
    "function add_input_constraint(model::Model, input::HPolytope, neuron_vars::Vector{Variable})\n",
    "    in_A,  in_b  = tosimplehrep(input)\n",
    "    @constraint(model,  in_A * neuron_vars .<= in_b)\n",
    "    return nothing\n",
    "end\n",
    "\n",
    "function add_input_constraint(model::Model, input::Hyperrectangle, neuron_vars::Vector{Variable})\n",
    "    @constraint(model,  neuron_vars .<= high(input))\n",
    "    @constraint(model,  neuron_vars .>= low(input))\n",
    "    return nothing\n",
    "end\n",
    "\n",
    "function add_output_constraint(model::Model, output::AbstractPolytope, neuron_vars::Vector{Variable})\n",
    "    out_A, out_b = tosimplehrep(output)\n",
    "    @constraint(model, out_A * neuron_vars .<= out_b)\n",
    "    return nothing\n",
    "end"
   ]
  },
  {
   "cell_type": "code",
   "execution_count": null,
   "metadata": {
    "collapsed": true
   },
   "outputs": [],
   "source": []
  },
  {
   "cell_type": "code",
   "execution_count": 151,
   "metadata": {},
   "outputs": [
    {
     "data": {
      "text/plain": [
       "4-element Array{LazySets.Hyperrectangle,1}:\n",
       " LazySets.Hyperrectangle{Float64}([-20.0], [0.0])        \n",
       " LazySets.Hyperrectangle{Float64}([0.0, 0.0], [0.0, 0.0])\n",
       " LazySets.Hyperrectangle{Float64}([2.5, 2.5], [0.0, 0.0])\n",
       " LazySets.Hyperrectangle{Float64}([18.5], [0.0])         "
      ]
     },
     "execution_count": 151,
     "metadata": {},
     "output_type": "execute_result"
    }
   ],
   "source": [
    "get_bounds(problem)"
   ]
  },
  {
   "cell_type": "code",
   "execution_count": 154,
   "metadata": {},
   "outputs": [
    {
     "data": {
      "text/latex": [
       "$$ __anon___{2} $$"
      ],
      "text/plain": [
       "__anon__[2]"
      ]
     },
     "execution_count": 154,
     "metadata": {},
     "output_type": "execute_result"
    }
   ],
   "source": [
    "bs[2][2]"
   ]
  },
  {
   "cell_type": "code",
   "execution_count": 402,
   "metadata": {},
   "outputs": [
    {
     "data": {
      "text/plain": [
       "encode (generic function with 2 methods)"
      ]
     },
     "execution_count": 402,
     "metadata": {},
     "output_type": "execute_result"
    }
   ],
   "source": [
    "function encode(model::Model, problem::Problem, relustatus::Array{Array{Int64,1},1})\n",
    "    #bs, fs = init_nnet_vars(model, problem.network)\n",
    "    \n",
    "    #TEST\n",
    "    bs = [[@variable(m, b11)],\n",
    "         [@variable(m, b21),@variable(m, b22)],\n",
    "         [@variable(m, b31),@variable(m, b32)],  \n",
    "         [@variable(m, b41)]]\n",
    "\n",
    "    fs = [[@variable(m, f21),@variable(m, f22)],\n",
    "          [@variable(m, f31),@variable(m, f32)]]\n",
    "    \n",
    "    add_input_constraint(model, inputSet, bs[1])\n",
    "    #add_complementary_output_constraint(model, problem.output, last(neurons))\n",
    "\n",
    "    for (i, layer) in enumerate(problem.network.layers)\n",
    "        print(string(\"i: \",i))\n",
    "        (W, b, act) = (layer.weights, layer.bias, layer.activation)\n",
    "        #before_act = W * neurons[i] + b\n",
    "        \n",
    "        #first layer is different\n",
    "        if i == 1\n",
    "            for j in 1:length(layer.bias)\n",
    "               @constraint(model, -bs[2][j] + bs[1][1]*W[j] == -b[j]) \n",
    "            end\n",
    "        elseif 1<i\n",
    "            for j in 1:length(layer.bias) # For evey node\n",
    "                @constraint(model, -bs[i+1][j] + dot(fs[i-1],W[j,:]) == -b[j])\n",
    "            end\n",
    "        end\n",
    "    end\n",
    "\n",
    "    # Objective: L∞ norm of the disturbance\\\n",
    "    @objective(m, Max, 0)\n",
    "end"
   ]
  },
  {
   "cell_type": "code",
   "execution_count": null,
   "metadata": {
    "collapsed": true
   },
   "outputs": [],
   "source": [
    "#modify assignment to "
   ]
  },
  {
   "cell_type": "markdown",
   "metadata": {},
   "source": [
    "# TODO:"
   ]
  },
  {
   "cell_type": "markdown",
   "metadata": {},
   "source": [
    " - debug relu_status\n",
    " - debug fix_relus\n",
    " - debug SMT decision\n",
    " - investigate copy() for JuMP models \n",
    " - refactor into correct design\n",
    " - figure out variable naming (JuMP documentation has been offline almost all weekend)\n",
    " - \n",
    " "
   ]
  },
  {
   "cell_type": "code",
   "execution_count": 410,
   "metadata": {},
   "outputs": [
    {
     "data": {
      "text/latex": [
       "$$ \\begin{alignat*}{1}\\min\\quad & 0\\\\\n",
       "\\text{Subject to} \\quad\\end{alignat*}\n",
       " $$"
      ],
      "text/plain": [
       "Feasibility problem with:\n",
       " * 0 linear constraints\n",
       " * 0 variables\n",
       "Solver is GLPKInterfaceLP"
      ]
     },
     "execution_count": 410,
     "metadata": {},
     "output_type": "execute_result"
    }
   ],
   "source": [
    "m = Model(solver = GLPKSolverLP(method=:Exact))"
   ]
  },
  {
   "cell_type": "code",
   "execution_count": 404,
   "metadata": {},
   "outputs": [
    {
     "name": "stdout",
     "output_type": "stream",
     "text": [
      "i: 1i: 2i: 3"
     ]
    },
    {
     "data": {
      "text/latex": [
       "$$ 0 $$"
      ],
      "text/plain": [
       "0"
      ]
     },
     "execution_count": 404,
     "metadata": {},
     "output_type": "execute_result"
    }
   ],
   "source": [
    "encode(m, problem, [[1,1], [1,1]])"
   ]
  },
  {
   "cell_type": "code",
   "execution_count": 405,
   "metadata": {},
   "outputs": [
    {
     "data": {
      "text/latex": [
       "$$ \\begin{alignat*}{1}\\max\\quad & 0\\\\\n",
       "\\text{Subject to} \\quad & b11 \\leq -20\\\\\n",
       " & b11 \\geq -20\\\\\n",
       " & -b21 + b11 = -1.5\\\\\n",
       " & -b22 + b11 = -1.5\\\\\n",
       " & -b31 + 2 f21 + 2 f22 = -2.5\\\\\n",
       " & -b32 + 2 f21 + 2 f22 = -2.5\\\\\n",
       " & -b41 + 3 f31 + 3 f32 = -3.5\\\\\n",
       " & b11\\\\\n",
       " & b21\\\\\n",
       " & b22\\\\\n",
       " & b31\\\\\n",
       " & b32\\\\\n",
       " & b41\\\\\n",
       " & f21\\\\\n",
       " & f22\\\\\n",
       " & f31\\\\\n",
       " & f32\\\\\n",
       "\\end{alignat*}\n",
       " $$"
      ],
      "text/plain": [
       "Maximization problem with:\n",
       " * 7 linear constraints\n",
       " * 10 variables\n",
       "Solver is GLPKInterfaceLP"
      ]
     },
     "execution_count": 405,
     "metadata": {},
     "output_type": "execute_result"
    }
   ],
   "source": [
    "m"
   ]
  },
  {
   "cell_type": "code",
   "execution_count": 406,
   "metadata": {},
   "outputs": [
    {
     "data": {
      "text/plain": [
       "4-element Array{LazySets.Hyperrectangle,1}:\n",
       " LazySets.Hyperrectangle{Float64}([-20.0], [0.0])        \n",
       " LazySets.Hyperrectangle{Float64}([0.0, 0.0], [0.0, 0.0])\n",
       " LazySets.Hyperrectangle{Float64}([2.5, 2.5], [0.0, 0.0])\n",
       " LazySets.Hyperrectangle{Float64}([18.5], [0.0])         "
      ]
     },
     "execution_count": 406,
     "metadata": {},
     "output_type": "execute_result"
    }
   ],
   "source": [
    "get_bounds(problem)"
   ]
  },
  {
   "cell_type": "code",
   "execution_count": 392,
   "metadata": {},
   "outputs": [
    {
     "data": {
      "text/plain": [
       "4-element Array{LazySets.Hyperrectangle,1}:\n",
       " LazySets.Hyperrectangle{Float64}([-20.0], [0.0])        \n",
       " LazySets.Hyperrectangle{Float64}([0.0, 0.0], [0.0, 0.0])\n",
       " LazySets.Hyperrectangle{Float64}([2.5, 2.5], [0.0, 0.0])\n",
       " LazySets.Hyperrectangle{Float64}([18.5], [0.0])         "
      ]
     },
     "execution_count": 392,
     "metadata": {},
     "output_type": "execute_result"
    }
   ],
   "source": [
    "get_bounds(problem)"
   ]
  },
  {
   "cell_type": "code",
   "execution_count": 393,
   "metadata": {},
   "outputs": [
    {
     "ename": "LoadError",
     "evalue": "\u001b[91mMethodError: no method matching solve(::JuMP.Model)\u001b[0m\nClosest candidates are:\n  solve(\u001b[91m::ILP\u001b[39m, \u001b[91m::Problem\u001b[39m) at /Users/christopherlazarus/Documents/Stanford/Research/clean/NeuralVerification.jl/src/feasibility/iLP.jl:9\n  solve(\u001b[91m::Feasibility\u001b[39m, \u001b[91m::Problem\u001b[39m) at /Users/christopherlazarus/Documents/Stanford/Research/clean/NeuralVerification.jl/src/feasibility/utils/feasibility.jl:7\n  solve(\u001b[91m::MaxSens\u001b[39m, \u001b[91m::Problem\u001b[39m) at /Users/christopherlazarus/Documents/Stanford/Research/clean/NeuralVerification.jl/src/reachability/maxSens.jl:10\u001b[39m",
     "output_type": "error",
     "traceback": [
      "\u001b[91mMethodError: no method matching solve(::JuMP.Model)\u001b[0m\nClosest candidates are:\n  solve(\u001b[91m::ILP\u001b[39m, \u001b[91m::Problem\u001b[39m) at /Users/christopherlazarus/Documents/Stanford/Research/clean/NeuralVerification.jl/src/feasibility/iLP.jl:9\n  solve(\u001b[91m::Feasibility\u001b[39m, \u001b[91m::Problem\u001b[39m) at /Users/christopherlazarus/Documents/Stanford/Research/clean/NeuralVerification.jl/src/feasibility/utils/feasibility.jl:7\n  solve(\u001b[91m::MaxSens\u001b[39m, \u001b[91m::Problem\u001b[39m) at /Users/christopherlazarus/Documents/Stanford/Research/clean/NeuralVerification.jl/src/reachability/maxSens.jl:10\u001b[39m",
      "",
      "Stacktrace:",
      " [1] \u001b[1minclude_string\u001b[22m\u001b[22m\u001b[1m(\u001b[22m\u001b[22m::String, ::String\u001b[1m)\u001b[22m\u001b[22m at \u001b[1m./loading.jl:522\u001b[22m\u001b[22m",
      " [2] \u001b[1mexecute_request\u001b[22m\u001b[22m\u001b[1m(\u001b[22m\u001b[22m::ZMQ.Socket, ::IJulia.Msg\u001b[1m)\u001b[22m\u001b[22m at \u001b[1m/Users/christopherlazarus/.julia/v0.6/IJulia/src/execute_request.jl:193\u001b[22m\u001b[22m",
      " [3] \u001b[1m(::Compat.#inner#6{Array{Any,1},IJulia.#execute_request,Tuple{ZMQ.Socket,IJulia.Msg}})\u001b[22m\u001b[22m\u001b[1m(\u001b[22m\u001b[22m\u001b[1m)\u001b[22m\u001b[22m at \u001b[1m/Users/christopherlazarus/.julia/v0.6/Compat/src/Compat.jl:189\u001b[22m\u001b[22m",
      " [4] \u001b[1meventloop\u001b[22m\u001b[22m\u001b[1m(\u001b[22m\u001b[22m::ZMQ.Socket\u001b[1m)\u001b[22m\u001b[22m at \u001b[1m/Users/christopherlazarus/.julia/v0.6/IJulia/src/eventloop.jl:8\u001b[22m\u001b[22m",
      " [5] \u001b[1m(::IJulia.##13#16)\u001b[22m\u001b[22m\u001b[1m(\u001b[22m\u001b[22m\u001b[1m)\u001b[22m\u001b[22m at \u001b[1m./task.jl:335\u001b[22m\u001b[22m"
     ]
    }
   ],
   "source": [
    "solve(m)"
   ]
  },
  {
   "cell_type": "code",
   "execution_count": 214,
   "metadata": {},
   "outputs": [
    {
     "data": {
      "text/plain": [
       "4-element Array{Array{JuMP.Variable,1},1}:\n",
       " __anon__[i] ∀ i ∈ {1}  \n",
       " __anon__[i] ∀ i ∈ {1,2}\n",
       " __anon__[i] ∀ i ∈ {1,2}\n",
       " __anon__[i] ∀ i ∈ {1}  "
      ]
     },
     "execution_count": 214,
     "metadata": {},
     "output_type": "execute_result"
    }
   ],
   "source": [
    "bs"
   ]
  },
  {
   "cell_type": "code",
   "execution_count": 194,
   "metadata": {},
   "outputs": [
    {
     "data": {
      "text/plain": [
       "2-element Array{Array{JuMP.Variable,1},1}:\n",
       " __anon__[i] ∀ i ∈ {1,2}\n",
       " __anon__[i] ∀ i ∈ {1,2}"
      ]
     },
     "execution_count": 194,
     "metadata": {},
     "output_type": "execute_result"
    }
   ],
   "source": [
    "fs"
   ]
  },
  {
   "cell_type": "code",
   "execution_count": 212,
   "metadata": {},
   "outputs": [
    {
     "data": {
      "text/latex": [
       "$$ __anon___{i} \\quad\\forall i \\in \\{1,2\\} $$"
      ],
      "text/plain": [
       "2-element Array{JuMP.Variable,1}:\n",
       " __anon__[1]\n",
       " __anon__[2]"
      ]
     },
     "execution_count": 212,
     "metadata": {},
     "output_type": "execute_result"
    }
   ],
   "source": [
    "fs[1]"
   ]
  },
  {
   "cell_type": "code",
   "execution_count": 211,
   "metadata": {},
   "outputs": [
    {
     "data": {
      "text/plain": [
       "2-element Array{Float64,1}:\n",
       " 2.0\n",
       " 2.0"
      ]
     },
     "execution_count": 211,
     "metadata": {},
     "output_type": "execute_result"
    }
   ],
   "source": [
    "problem.network.layers[2].weights[1,:]"
   ]
  },
  {
   "cell_type": "code",
   "execution_count": 205,
   "metadata": {},
   "outputs": [
    {
     "data": {
      "text/plain": [
       "2×1 Array{Float64,2}:\n",
       " 1.0\n",
       " 1.0"
      ]
     },
     "execution_count": 205,
     "metadata": {},
     "output_type": "execute_result"
    }
   ],
   "source": [
    "problem.network.layers[1].weights"
   ]
  },
  {
   "cell_type": "code",
   "execution_count": 184,
   "metadata": {},
   "outputs": [
    {
     "data": {
      "text/plain": [
       "4-element Array{Array{JuMP.Variable,1},1}:\n",
       " __anon__[i] ∀ i ∈ {1}  \n",
       " __anon__[i] ∀ i ∈ {1,2}\n",
       " __anon__[i] ∀ i ∈ {1,2}\n",
       " __anon__[i] ∀ i ∈ {1}  "
      ]
     },
     "execution_count": 184,
     "metadata": {},
     "output_type": "execute_result"
    }
   ],
   "source": [
    "bs"
   ]
  },
  {
   "cell_type": "code",
   "execution_count": 178,
   "metadata": {},
   "outputs": [
    {
     "data": {
      "text/latex": [
       "$$ __anon___{i} \\quad\\forall i \\in \\{1,2\\} $$"
      ],
      "text/plain": [
       "2-element Array{JuMP.Variable,1}:\n",
       " __anon__[1]\n",
       " __anon__[2]"
      ]
     },
     "execution_count": 178,
     "metadata": {},
     "output_type": "execute_result"
    }
   ],
   "source": [
    "bs[3]"
   ]
  },
  {
   "cell_type": "code",
   "execution_count": 183,
   "metadata": {},
   "outputs": [
    {
     "name": "stdout",
     "output_type": "stream",
     "text": [
      "123"
     ]
    }
   ],
   "source": [
    "for (i, layer) in enumerate(problem.network.layers)\n",
    "    print(i)\n",
    "end"
   ]
  },
  {
   "cell_type": "code",
   "execution_count": 179,
   "metadata": {},
   "outputs": [
    {
     "data": {
      "text/plain": [
       "2-element Array{Array{JuMP.Variable,1},1}:\n",
       " __anon__[i] ∀ i ∈ {1,2}\n",
       " __anon__[i] ∀ i ∈ {1,2}"
      ]
     },
     "execution_count": 179,
     "metadata": {},
     "output_type": "execute_result"
    }
   ],
   "source": [
    "fs"
   ]
  },
  {
   "cell_type": "code",
   "execution_count": 169,
   "metadata": {},
   "outputs": [
    {
     "data": {
      "text/plain": [
       "2×1 Array{Float64,2}:\n",
       " 1.0\n",
       " 1.0"
      ]
     },
     "execution_count": 169,
     "metadata": {},
     "output_type": "execute_result"
    }
   ],
   "source": [
    "problem.network.layers[1].weights"
   ]
  },
  {
   "cell_type": "code",
   "execution_count": 176,
   "metadata": {},
   "outputs": [
    {
     "data": {
      "text/plain": [
       "4-element Array{Array{JuMP.Variable,1},1}:\n",
       " __anon__[i] ∀ i ∈ {1}  \n",
       " __anon__[i] ∀ i ∈ {1,2}\n",
       " __anon__[i] ∀ i ∈ {1,2}\n",
       " __anon__[i] ∀ i ∈ {1}  "
      ]
     },
     "execution_count": 176,
     "metadata": {},
     "output_type": "execute_result"
    }
   ],
   "source": [
    "bs"
   ]
  },
  {
   "cell_type": "code",
   "execution_count": null,
   "metadata": {
    "collapsed": true
   },
   "outputs": [],
   "source": [
    "fs[]"
   ]
  },
  {
   "cell_type": "code",
   "execution_count": 172,
   "metadata": {},
   "outputs": [
    {
     "data": {
      "text/latex": [
       "$$ __anon___{i} \\quad\\forall i \\in \\{1\\} $$"
      ],
      "text/plain": [
       "1-element Array{JuMP.Variable,1}:\n",
       " __anon__[1]"
      ]
     },
     "execution_count": 172,
     "metadata": {},
     "output_type": "execute_result"
    }
   ],
   "source": [
    "bs[1]"
   ]
  },
  {
   "cell_type": "code",
   "execution_count": 164,
   "metadata": {},
   "outputs": [
    {
     "data": {
      "text/plain": [
       "2-element Array{Array{JuMP.Variable,1},1}:\n",
       " __anon__[i] ∀ i ∈ {1,2}\n",
       " __anon__[i] ∀ i ∈ {1,2}"
      ]
     },
     "execution_count": 164,
     "metadata": {},
     "output_type": "execute_result"
    }
   ],
   "source": [
    "fs"
   ]
  },
  {
   "cell_type": "code",
   "execution_count": 165,
   "metadata": {},
   "outputs": [
    {
     "data": {
      "text/plain": [
       "4-element Array{Array{JuMP.Variable,1},1}:\n",
       " __anon__[i] ∀ i ∈ {1}  \n",
       " __anon__[i] ∀ i ∈ {1,2}\n",
       " __anon__[i] ∀ i ∈ {1,2}\n",
       " __anon__[i] ∀ i ∈ {1}  "
      ]
     },
     "execution_count": 165,
     "metadata": {},
     "output_type": "execute_result"
    }
   ],
   "source": [
    "bs"
   ]
  },
  {
   "cell_type": "code",
   "execution_count": 181,
   "metadata": {},
   "outputs": [
    {
     "data": {
      "text/plain": [
       "2:2"
      ]
     },
     "execution_count": 181,
     "metadata": {},
     "output_type": "execute_result"
    }
   ],
   "source": [
    "2:length(problem.network.layers[1].bias)"
   ]
  },
  {
   "cell_type": "code",
   "execution_count": 160,
   "metadata": {},
   "outputs": [
    {
     "data": {
      "text/plain": [
       "2-element Array{Float64,1}:\n",
       " 1.5\n",
       " 1.5"
      ]
     },
     "execution_count": 160,
     "metadata": {},
     "output_type": "execute_result"
    }
   ],
   "source": [
    "problem.network.layers[1].bias"
   ]
  },
  {
   "cell_type": "code",
   "execution_count": 131,
   "metadata": {},
   "outputs": [
    {
     "data": {
      "text/plain": [
       "(Array{JuMP.Variable,1}[__anon__[i] ∀ i ∈ {1}, __anon__[i] ∀ i ∈ {1,2}, __anon__[i] ∀ i ∈ {1,2}, __anon__[i] ∀ i ∈ {1}], Array{JuMP.Variable,1}[__anon__[i] ∀ i ∈ {1,2}, __anon__[i] ∀ i ∈ {1,2}])"
      ]
     },
     "execution_count": 131,
     "metadata": {},
     "output_type": "execute_result"
    }
   ],
   "source": [
    "bs, fs = init_nnet_vars(m, problem.network)"
   ]
  },
  {
   "cell_type": "code",
   "execution_count": 96,
   "metadata": {},
   "outputs": [
    {
     "data": {
      "text/latex": [
       "$$ __anon___{i} \\quad\\forall i \\in \\{1\\} $$"
      ],
      "text/plain": [
       "1-element Array{JuMP.Variable,1}:\n",
       " __anon__[1]"
      ]
     },
     "execution_count": 96,
     "metadata": {},
     "output_type": "execute_result"
    }
   ],
   "source": [
    "bs[1]"
   ]
  },
  {
   "cell_type": "code",
   "execution_count": 62,
   "metadata": {},
   "outputs": [
    {
     "data": {
      "text/plain": [
       "4-element Array{Array{JuMP.Variable,1},1}:\n",
       " __anon__[i] ∀ i ∈ {1}  \n",
       " __anon__[i] ∀ i ∈ {1,2}\n",
       " __anon__[i] ∀ i ∈ {1,2}\n",
       " __anon__[i] ∀ i ∈ {1}  "
      ]
     },
     "execution_count": 62,
     "metadata": {},
     "output_type": "execute_result"
    }
   ],
   "source": [
    "fs"
   ]
  },
  {
   "cell_type": "code",
   "execution_count": 58,
   "metadata": {},
   "outputs": [
    {
     "data": {
      "text/plain": [
       "4-element Array{Array{JuMP.Variable,1},1}:\n",
       " #undef\n",
       " #undef\n",
       " #undef\n",
       " #undef"
      ]
     },
     "execution_count": 58,
     "metadata": {},
     "output_type": "execute_result"
    }
   ],
   "source": [
    "neurons"
   ]
  },
  {
   "cell_type": "code",
   "execution_count": 56,
   "metadata": {},
   "outputs": [
    {
     "data": {
      "text/plain": [
       "3-element Array{Layer,1}:\n",
       " Layer([1.0; 1.0], [1.5, 1.5], ReLU())        \n",
       " Layer([2.0 2.0; 2.0 2.0], [2.5, 2.5], ReLU())\n",
       " Layer([3.0 3.0], [3.5], ReLU())              "
      ]
     },
     "execution_count": 56,
     "metadata": {},
     "output_type": "execute_result"
    }
   ],
   "source": [
    "problem.network.layers"
   ]
  },
  {
   "cell_type": "code",
   "execution_count": null,
   "metadata": {
    "collapsed": true
   },
   "outputs": [],
   "source": []
  },
  {
   "cell_type": "code",
   "execution_count": 47,
   "metadata": {},
   "outputs": [
    {
     "data": {
      "text/plain": [
       "Network(Layer[Layer([1.0; 1.0], [1.5, 1.5], ReLU()), Layer([2.0 2.0; 2.0 2.0], [2.5, 2.5], ReLU()), Layer([3.0 3.0], [3.5], ReLU())])"
      ]
     },
     "execution_count": 47,
     "metadata": {},
     "output_type": "execute_result"
    }
   ],
   "source": [
    "problem.network"
   ]
  },
  {
   "cell_type": "code",
   "execution_count": 49,
   "metadata": {},
   "outputs": [
    {
     "data": {
      "text/plain": [
       "4-element Array{Array{JuMP.Variable,1},1}:\n",
       " #undef\n",
       " #undef\n",
       " #undef\n",
       " #undef"
      ]
     },
     "execution_count": 49,
     "metadata": {},
     "output_type": "execute_result"
    }
   ],
   "source": [
    "neurons"
   ]
  },
  {
   "cell_type": "code",
   "execution_count": 54,
   "metadata": {},
   "outputs": [
    {
     "data": {
      "text/plain": [
       "3-element Array{Int64,1}:\n",
       " 2\n",
       " 2\n",
       " 1"
      ]
     },
     "execution_count": 54,
     "metadata": {},
     "output_type": "execute_result"
    }
   ],
   "source": [
    "all_layers_n  = [length(l.bias) for l in layers]"
   ]
  },
  {
   "cell_type": "code",
   "execution_count": null,
   "metadata": {
    "collapsed": true
   },
   "outputs": [],
   "source": []
  },
  {
   "cell_type": "code",
   "execution_count": null,
   "metadata": {
    "collapsed": true
   },
   "outputs": [],
   "source": []
  },
  {
   "cell_type": "code",
   "execution_count": 44,
   "metadata": {},
   "outputs": [
    {
     "data": {
      "text/markdown": [
       "No documentation found.\n",
       "\n",
       "`JuMP.@variable` is a macro.\n",
       "\n",
       "```\n",
       "# 1 method for macro \"@variable\":\n",
       "@variable(args...) in JuMP at /Users/christopherlazarus/.julia/v0.6/JuMP/src/macros.jl:871\n",
       "```\n"
      ],
      "text/plain": [
       "No documentation found.\n",
       "\n",
       "`JuMP.@variable` is a macro.\n",
       "\n",
       "```\n",
       "# 1 method for macro \"@variable\":\n",
       "@variable(args...) in JuMP at /Users/christopherlazarus/.julia/v0.6/JuMP/src/macros.jl:871\n",
       "```\n"
      ]
     },
     "execution_count": 44,
     "metadata": {},
     "output_type": "execute_result"
    }
   ],
   "source": [
    "? @variable()"
   ]
  },
  {
   "cell_type": "code",
   "execution_count": 38,
   "metadata": {},
   "outputs": [
    {
     "data": {
      "text/plain": [
       "4-element Array{Array{JuMP.Variable,1},1}:\n",
       " __anon__[i] ∀ i ∈ {1}  \n",
       " __anon__[i] ∀ i ∈ {1,2}\n",
       " __anon__[i] ∀ i ∈ {1,2}\n",
       " __anon__[i] ∀ i ∈ {1}  "
      ]
     },
     "execution_count": 38,
     "metadata": {},
     "output_type": "execute_result"
    }
   ],
   "source": [
    "neurons"
   ]
  },
  {
   "cell_type": "code",
   "execution_count": 40,
   "metadata": {},
   "outputs": [
    {
     "data": {
      "text/plain": [
       "4-element Array{Array{JuMP.Variable,1},1}:\n",
       " __anon__[i] ∈ {0,1} ∀ i ∈ {1}  \n",
       " __anon__[i] ∈ {0,1} ∀ i ∈ {1,2}\n",
       " __anon__[i] ∈ {0,1} ∀ i ∈ {1,2}\n",
       " __anon__[i] ∈ {0,1} ∀ i ∈ {1}  "
      ]
     },
     "execution_count": 40,
     "metadata": {},
     "output_type": "execute_result"
    }
   ],
   "source": [
    "deltas"
   ]
  },
  {
   "cell_type": "code",
   "execution_count": null,
   "metadata": {
    "collapsed": true
   },
   "outputs": [],
   "source": []
  }
 ],
 "metadata": {
  "kernel_info": {
   "name": "julia-0.6"
  },
  "kernelspec": {
   "display_name": "Julia 0.6.2",
   "language": "julia",
   "name": "julia-0.6"
  },
  "language_info": {
   "file_extension": ".jl",
   "mimetype": "application/julia",
   "name": "julia",
   "version": "0.6.2"
  },
  "nteract": {
   "version": "0.11.7"
  }
 },
 "nbformat": 4,
 "nbformat_minor": 2
}
