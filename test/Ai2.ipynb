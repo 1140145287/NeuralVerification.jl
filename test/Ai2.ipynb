{
  "cells": [
    {
      "cell_type": "code",
      "source": [
        "include(\"../src/utils/util.jl\")\n",
        "include(\"../src/utils/network.jl\")\n",
        "include(\"../src/utils/problem.jl\")\n",
        "include(\"../src/utils/activation.jl\")\n",
        "include(\"../src/reachability/utils/reachability.jl\")\n",
        "include(\"../src/reachability/ai2.jl\")\n",
        "using LazySets"
      ],
      "outputs": [],
      "execution_count": null,
      "metadata": {
        "collapsed": false,
        "outputHidden": false,
        "inputHidden": false
      }
    },
    {
      "cell_type": "code",
      "source": [
        "zono = Zonotope([1.5, 1.5], eye(Float64,2,2))\n",
        "zono2 = Zonotope([1.5, 1.5], 2.*eye(Float64,2,2))\n",
        "zono3 = Zonotope([1.5, 1.5], 0.2.*eye(Float64,2,2))\n",
        "simplify(Zonotope[zono, zono2, zono3])"
      ],
      "outputs": [],
      "execution_count": null,
      "metadata": {
        "collapsed": false,
        "outputHidden": false,
        "inputHidden": false
      }
    },
    {
      "cell_type": "code",
      "source": [
        "println(dim(zono), zono)\n",
        "act = ReLU()\n",
        "forward_act(act, zono)\n",
        "forward_linear(zono, eye(Float64,2,2),[1.0, 1.1])\n",
        "check_inclusion(Zonotope[zono], zono2)"
      ],
      "outputs": [],
      "execution_count": null,
      "metadata": {
        "collapsed": false,
        "outputHidden": false,
        "inputHidden": false
      }
    }
  ],
  "metadata": {
    "kernel_info": {
      "name": "julia-0.6"
    },
    "language_info": {
      "file_extension": ".jl",
      "name": "julia",
      "mimetype": "application/julia",
      "version": "0.6.4"
    },
    "kernelspec": {
      "name": "julia-0.6",
      "language": "julia",
      "display_name": "Julia 0.6.4"
    },
    "nteract": {
      "version": "0.11.6"
    }
  },
  "nbformat": 4,
  "nbformat_minor": 4
}