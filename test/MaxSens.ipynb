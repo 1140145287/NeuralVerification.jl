{
  "cells": [
    {
      "cell_type": "code",
      "source": [
        "include(\"../src/utils/util.jl\")\n",
        "include(\"../src/utils/network.jl\")\n",
        "include(\"../src/utils/problem.jl\")\n",
        "include(\"../src/utils/activation.jl\")\n",
        "include(\"../src/reachability/maxSens.jl\")"
      ],
      "outputs": [
        {
          "output_type": "execute_result",
          "execution_count": 1,
          "data": {
            "text/plain": [
              "checkInclusion (generic function with 1 method)"
            ]
          },
          "metadata": {}
        }
      ],
      "execution_count": 1,
      "metadata": {
        "collapsed": false,
        "outputHidden": false,
        "inputHidden": false
      }
    },
    {
      "cell_type": "code",
      "source": [
        "small_nnet = read_nnet(\"../examples/networks/small_nnet.txt\")\n",
        "inputSet = Constraints(Matrix(0,0),[],[1.0],[-1.0])\n",
        "outputSet = Constraints(zeros(1,1),[0],[100.0],[-1.0])\n",
        "resolution = 0.3\n",
        "problem = FeasibilityProblem(small_nnet, inputSet, outputSet)\n",
        "solver = MaxSens(resolution)\n",
        "solve(solver, problem)"
      ],
      "outputs": [
        {
          "output_type": "execute_result",
          "execution_count": 4,
          "data": {
            "text/plain": [
              "true"
            ]
          },
          "metadata": {}
        }
      ],
      "execution_count": 4,
      "metadata": {
        "collapsed": false,
        "outputHidden": false,
        "inputHidden": false
      }
    }
  ],
  "metadata": {
    "kernel_info": {
      "name": "julia-0.6"
    },
    "language_info": {
      "file_extension": ".jl",
      "name": "julia",
      "mimetype": "application/julia",
      "version": "0.6.4"
    },
    "kernelspec": {
      "name": "julia-0.6",
      "language": "julia",
      "display_name": "Julia 0.6.4"
    },
    "nteract": {
      "version": "0.11.6"
    }
  },
  "nbformat": 4,
  "nbformat_minor": 4
}