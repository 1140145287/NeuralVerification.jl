{
  "cells": [
    {
      "cell_type": "code",
      "source": [
        "using JuMP\n",
        "using MathProgBase.SolverInterface\n",
        "using GLPKMathProgInterface\n",
        "using LazySets\n",
        "using SCS\n",
        "include(\"../src/utils/activation.jl\")\n",
        "include(\"../src/utils/network.jl\")\n",
        "include(\"../src/utils/problem.jl\")\n",
        "include(\"../src/utils/util.jl\")\n",
        "include(\"../src/feasibility/utils/feasibility.jl\")\n",
        "include(\"../src/feasibility/certify.jl\")"
      ],
      "outputs": [],
      "execution_count": null,
      "metadata": {
        "collapsed": false,
        "outputHidden": false,
        "inputHidden": false
      }
    },
    {
      "cell_type": "code",
      "source": [
        "include(\"../src/feasibility/certify.jl\")\n",
        "small_nnet = read_nnet(\"../examples/networks/tiny_nnet.txt\")\n",
        "optimizer = SCSSolver()\n",
        "solver = Certify(optimizer)\n",
        "inputSet = Hyperrectangle([1.0],[1.0])\n",
        "A = zeros(1,1)\n",
        "A[1,1] = 1.0\n",
        "outputSet = HPolytope(A,[2.1])\n",
        "problem = Problem(small_nnet, inputSet, outputSet)\n",
        "solve(solver, problem)"
      ],
      "outputs": [],
      "execution_count": null,
      "metadata": {
        "collapsed": false,
        "outputHidden": false,
        "inputHidden": false
      }
    }
  ],
  "metadata": {
    "kernel_info": {
      "name": "julia-0.6"
    },
    "language_info": {
      "file_extension": ".jl",
      "name": "julia",
      "mimetype": "application/julia",
      "version": "0.6.4"
    },
    "kernelspec": {
      "name": "julia-0.6",
      "language": "julia",
      "display_name": "Julia 0.6.4"
    },
    "nteract": {
      "version": "0.11.7"
    }
  },
  "nbformat": 4,
  "nbformat_minor": 4
}