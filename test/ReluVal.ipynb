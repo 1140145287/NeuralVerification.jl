{
  "cells": [
    {
      "cell_type": "code",
      "source": [
        "include(\"../utils/util.jl\")\n",
        "include(\"../utils/network.jl\")\n",
        "include(\"../utils/problem.jl\")\n",
        "include(\"../utils/activation.jl\")"
      ],
      "outputs": [],
      "execution_count": 1,
      "metadata": {
        "collapsed": false,
        "outputHidden": false,
        "inputHidden": false
      }
    },
    {
      "cell_type": "code",
      "source": [
        "using LazySets"
      ],
      "outputs": [],
      "execution_count": 2,
      "metadata": {
        "collapsed": false,
        "outputHidden": false,
        "inputHidden": false
      }
    },
    {
      "cell_type": "code",
      "source": [
        "include(\"ai2.jl\")\n",
        "zono = Zonotope([1.5], eye(Float64,1,1))\n",
        "println(dim(zono), zono)\n",
        "act = ReLU()\n",
        "forward_act(act, zono)\n",
        "forward_linear(zono, eye(Float64,1,1),[1.0])"
      ],
      "outputs": [
        {
          "output_type": "stream",
          "name": "stdout",
          "text": [
            "1LazySets.Zonotope{Float64}([1.0], [1.0])\n",
            "CAT(Case[Case([1, 0]), Case([0, 1])], LazySets.Zonotope"
          ]
        },
        {
          "output_type": "execute_result",
          "execution_count": 9,
          "data": {
            "text/plain": [
              "LazySets.Zonotope{Float64}([2.0], [1.0])"
            ]
          },
          "metadata": {}
        },
        {
          "output_type": "stream",
          "name": "stdout",
          "text": [
            "[LazySets.Zonotope{Float64}([1.0], [1.0]), LazySets.Zonotope{Float64}([0.0], [0.0])])\n"
          ]
        }
      ],
      "execution_count": 9,
      "metadata": {
        "collapsed": false,
        "outputHidden": false,
        "inputHidden": false
      }
    }
  ],
  "metadata": {
    "kernel_info": {
      "name": "julia-0.6"
    },
    "language_info": {
      "file_extension": ".jl",
      "name": "julia",
      "mimetype": "application/julia",
      "version": "0.6.4"
    },
    "kernelspec": {
      "name": "julia-0.6",
      "language": "julia",
      "display_name": "Julia 0.6.4"
    },
    "nteract": {
      "version": "0.11.6"
    }
  },
  "nbformat": 4,
  "nbformat_minor": 4
}