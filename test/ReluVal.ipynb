{
  "cells": [
    {
      "cell_type": "code",
      "source": [
        "include(\"../src/utils/util.jl\")\n",
        "include(\"../src/utils/network.jl\")\n",
        "include(\"../src/utils/problem.jl\")\n",
        "include(\"../src/utils/activation.jl\")\n",
        "include(\"../src/reachability/utils/reachability.jl\")\n",
        "include(\"../src/reachability/reluVal.jl\")\n",
        "using LazySets"
      ],
      "outputs": [],
      "execution_count": null,
      "metadata": {
        "collapsed": false,
        "outputHidden": false,
        "inputHidden": false
      }
    },
    {
      "cell_type": "code",
      "source": [
        "include(\"../src/reachability/reluVal.jl\")\n",
        "small_nnet = read_nnet(\"../examples/networks/small_nnet.txt\")\n",
        "solver = ReluVal(2)\n",
        "inputSet = high_dim_interval([-1.0],[1.0])\n",
        "outputSet = high_dim_interval([-1.0],[60.0])\n",
        "forward_network(solver, small_nnet, inputSet)\n",
        "problem = Problem(small_nnet, inputSet, outputSet)\n",
        "solve(solver, problem)"
      ],
      "outputs": [],
      "execution_count": null,
      "metadata": {
        "collapsed": false,
        "outputHidden": false,
        "inputHidden": false
      }
    }
  ],
  "metadata": {
    "kernel_info": {
      "name": "julia-0.6"
    },
    "language_info": {
      "file_extension": ".jl",
      "name": "julia",
      "mimetype": "application/julia",
      "version": "0.6.4"
    },
    "kernelspec": {
      "name": "julia-0.6",
      "language": "julia",
      "display_name": "Julia 0.6.4"
    },
    "nteract": {
      "version": "0.11.6"
    }
  },
  "nbformat": 4,
  "nbformat_minor": 4
}