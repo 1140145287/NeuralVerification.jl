{
  "cells": [
    {
      "cell_type": "code",
      "source": [
        "include(\"../src/utils/util.jl\")\n",
        "include(\"../src/utils/network.jl\")\n",
        "include(\"../src/utils/problem.jl\")\n",
        "include(\"../src/utils/activation.jl\")"
      ],
      "outputs": [],
      "execution_count": 1,
      "metadata": {
        "collapsed": false,
        "outputHidden": false,
        "inputHidden": false
      }
    },
    {
      "cell_type": "code",
      "source": [
        "using LazySets"
      ],
      "outputs": [],
      "execution_count": 2,
      "metadata": {
        "collapsed": false,
        "outputHidden": false,
        "inputHidden": false
      }
    },
    {
      "cell_type": "code",
      "source": [
        "include(\"../src/reachability/reluVal.jl\")\n",
        "interval = high_dim_interval([1.0, 2.0],[20.0, 3.0])\n",
        "println(interval)\n",
        "forward_linear(interval, eye(Float64,2,2),[1.0, 2.0])"
      ],
      "outputs": [
        {
          "output_type": "stream",
          "name": "stdout",
          "text": [
            "LazySets.Hyperrectangle{Float64}([10.5, 2.5], [9.5, 0.5])\n"
          ]
        },
        {
          "output_type": "execute_result",
          "execution_count": 7,
          "data": {
            "text/plain": [
              "Symbolic_Interval_Mask(Symbolic_Interval([1.0 0.0 1.0; 0.0 1.0 2.0], [1.0 0.0 1.0; 0.0 1.0 2.0], LazySets.Hyperrectangle{Float64}([10.5, 2.5], [9.5, 0.5])), Gradient_Mask[])"
            ]
          },
          "metadata": {}
        }
      ],
      "execution_count": 7,
      "metadata": {
        "collapsed": false,
        "outputHidden": false,
        "inputHidden": false
      }
    },
    {
      "cell_type": "code",
      "source": [
        "include(\"../src/reachability/reluVal.jl\")\n",
        "Low = [1.0 2.0 -30.0; 0.0 0.0 1.0]\n",
        "Up = [1.0 2.0 -10.0; 0.0 0.0 10.0]\n",
        "println(upper_bound(Low[2, :], interval))\n",
        "println(upper_bound(Low[1, :], interval))\n",
        "sym = Symbolic_Interval(Low, Up, interval)\n",
        "mask = Gradient_Mask[]\n",
        "input = Symbolic_Interval_Mask(sym, mask)\n",
        "println(forward_linear(input, eye(Float64,2,2), [1.0, 2.0]))\n",
        "forward_act(input)"
      ],
      "outputs": [
        {
          "output_type": "stream",
          "name": "stdout",
          "text": [
            "1.0\n",
            "-4.0\n",
            "Symbolic_Interval_Mask(Symbolic_Interval([1.0 2.0 -29.0; 0.0 0.0 3.0], [1.0 2.0 -9.0; 0.0 0.0 12.0], LazySets.Hyperrectangle{Float64}([10.5, 2.5], [9.5, 0.5])), Gradient_Mask[])\n"
          ]
        },
        {
          "output_type": "execute_result",
          "execution_count": 12,
          "data": {
            "text/plain": [
              "Symbolic_Interval_Mask(Symbolic_Interval([0.0 0.0 0.0; 0.0 0.0 1.0], [0.0 0.0 16.0; 0.0 0.0 10.0], LazySets.Hyperrectangle{Float64}([10.5, 2.5], [9.5, 0.5])), Gradient_Mask[Gradient_Mask([0, 1], [1, 1])])"
            ]
          },
          "metadata": {}
        },
        {
          "output_type": "stream",
          "name": "stderr",
          "text": [
            "WARNING: both LazySets and JuMP export \"LinearConstraint\"; uses of it in module Main must be qualified\n"
          ]
        }
      ],
      "execution_count": 12,
      "metadata": {
        "collapsed": false,
        "outputHidden": false,
        "inputHidden": false
      }
    },
    {
      "cell_type": "code",
      "source": [
        "include(\"../src/reachability/reluVal.jl\")\n",
        "small_nnet = read_nnet(\"../examples/networks/small_nnet.txt\")\n",
        "solver = ReluVal(1)\n",
        "inputSet = high_dim_interval([-1.0],[1.0])\n",
        "outputSet = high_dim_interval([-1.0],[1.0])\n",
        "forward_network(solver, small_nnet, inputSet)\n",
        "problem = ReachabilityProblem(small_nnet, inputSet, outputSet)\n",
        "solve(solver, problem)"
      ],
      "outputs": [
        {
          "output_type": "stream",
          "name": "stdout",
          "text": [
            "[1.0 1.5; 1.0 1.5]\n",
            "2 2 1\n",
            "[4.0 8.5; 4.0 8.5]\n",
            "1 2 1\n",
            "[1.0 1.5; 1.0 1.5]\n",
            "2 2 1\n",
            "[4.0 8.5; 4.0 8.5]\n",
            "1 2 1\n"
          ]
        },
        {
          "output_type": "execute_result",
          "execution_count": 35,
          "data": {
            "text/plain": [
              "\"undertermined\""
            ]
          },
          "metadata": {}
        }
      ],
      "execution_count": 35,
      "metadata": {
        "collapsed": false,
        "outputHidden": false,
        "inputHidden": false
      }
    }
  ],
  "metadata": {
    "kernel_info": {
      "name": "julia-0.6"
    },
    "language_info": {
      "file_extension": ".jl",
      "name": "julia",
      "mimetype": "application/julia",
      "version": "0.6.4"
    },
    "kernelspec": {
      "name": "julia-0.6",
      "language": "julia",
      "display_name": "Julia 0.6.4"
    },
    "nteract": {
      "version": "0.11.6"
    }
  },
  "nbformat": 4,
  "nbformat_minor": 4
}