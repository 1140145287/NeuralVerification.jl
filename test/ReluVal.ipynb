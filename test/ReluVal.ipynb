{
  "cells": [
    {
      "cell_type": "code",
      "source": [
        "include(\"../src/utils/util.jl\")\n",
        "include(\"../src/utils/network.jl\")\n",
        "include(\"../src/utils/problem.jl\")\n",
        "include(\"../src/utils/activation.jl\")"
      ],
      "outputs": [],
      "execution_count": 2,
      "metadata": {
        "collapsed": false,
        "outputHidden": false,
        "inputHidden": false
      }
    },
    {
      "cell_type": "code",
      "source": [
        "using LazySets"
      ],
      "outputs": [],
      "execution_count": 3,
      "metadata": {
        "collapsed": false,
        "outputHidden": false,
        "inputHidden": false
      }
    },
    {
      "cell_type": "code",
      "source": [
        "include(\"../src/reachability/reluVal.jl\")\n",
        "interval = high_dim_interval([1.0, 2.0],[20.0, 3.0])\n",
        "println(interval)\n",
        "forward_linear(interval, eye(Float64,2,2),[1.0, 2.0])"
      ],
      "outputs": [
        {
          "output_type": "stream",
          "name": "stdout",
          "text": [
            "LazySets.Hyperrectangle{Float64}([10.5, 2.5], [9.5, 0.5])\n"
          ]
        },
        {
          "output_type": "execute_result",
          "execution_count": 4,
          "data": {
            "text/plain": [
              "SymbolicIntervalMask(SymbolicInterval([1.0 0.0 1.0; 0.0 1.0 2.0], [1.0 0.0 1.0; 0.0 1.0 2.0], LazySets.Hyperrectangle{Float64}([10.5, 2.5], [9.5, 0.5])), GradientMask[])"
            ]
          },
          "metadata": {}
        }
      ],
      "execution_count": 4,
      "metadata": {
        "collapsed": false,
        "outputHidden": false,
        "inputHidden": false
      }
    },
    {
      "cell_type": "code",
      "source": [
        "include(\"../src/reachability/reluVal.jl\")\n",
        "Low = [1.0 2.0 -30.0; 0.0 0.0 1.0]\n",
        "Up = [1.0 2.0 -10.0; 0.0 0.0 10.0]\n",
        "println(upper_bound(Low[2, :], interval))\n",
        "println(upper_bound(Low[1, :], interval))\n",
        "sym = SymbolicInterval(Low, Up, interval)\n",
        "mask = GradientMask[]\n",
        "input = SymbolicIntervalMask(sym, mask)\n",
        "println(forward_linear(input, eye(Float64,2,2), [1.0, 2.0]))\n",
        "forward_act(input)"
      ],
      "outputs": [
        {
          "output_type": "stream",
          "name": "stdout",
          "text": [
            "1.0\n",
            "-4.0\n",
            "[1.0 2.0 -30.0; 0.0 0.0 1.0]\n",
            "2 2 2\n",
            "SymbolicIntervalMask(SymbolicInterval([1.0 2.0 -29.0; 0.0 0.0 3.0], [1.0 2.0 -9.0; 0.0 0.0 12.0], LazySets.Hyperrectangle{Float64}([10.5, 2.5], [9.5, 0.5])), GradientMask[])\n"
          ]
        },
        {
          "output_type": "execute_result",
          "execution_count": 7,
          "data": {
            "text/plain": [
              "SymbolicIntervalMask(SymbolicInterval([0.0 0.0 0.0; 0.0 0.0 1.0], [0.0 0.0 16.0; 0.0 0.0 10.0], LazySets.Hyperrectangle{Float64}([10.5, 2.5], [9.5, 0.5])), GradientMask[GradientMask([0, 1], [1, 1])])"
            ]
          },
          "metadata": {}
        }
      ],
      "execution_count": 7,
      "metadata": {
        "collapsed": false,
        "outputHidden": false,
        "inputHidden": false
      }
    },
    {
      "cell_type": "code",
      "source": [
        "include(\"../src/reachability/reluVal.jl\")\n",
        "small_nnet = read_nnet(\"../examples/networks/small_nnet.txt\")\n",
        "solver = ReluVal(2)\n",
        "inputSet = high_dim_interval([-1.0],[1.0])\n",
        "outputSet = high_dim_interval([-1.0],[50.0])\n",
        "forward_network(solver, small_nnet, inputSet)\n",
        "problem = Problem(small_nnet, inputSet, outputSet)\n",
        "solve(solver, problem)"
      ],
      "outputs": [
        {
          "output_type": "stream",
          "name": "stdout",
          "text": [
            "[1.0 1.5; 1.0 1.5]\n",
            "2 2 1\n",
            "[4.0 8.5; 4.0 8.5]\n",
            "1 2 1\n",
            "[1.0 1.5; 1.0 1.5]\n",
            "2 2 1\n",
            "[4.0 8.5; 4.0 8.5]\n",
            "1 2 1\n",
            "LazySets.Hyperrectangle{Float64}([54.5], [24.0])\n",
            "SymbolicIntervalMask(SymbolicInterval([24.0 54.5], [24.0 54.5], LazySets.Hyperrectangle{Float64}([0.0], [1.0])), GradientMask[GradientMask([1, 1], [1, 1]), GradientMask([1, 1], [1, 1]), GradientMask([1], [1])])Result(0, Float64[])\n",
            "[1.0][1.0]\n"
          ]
        },
        {
          "output_type": "error",
          "ename": "LoadError",
          "evalue": "\u001b[91mMethodError: no method matching backward_linear(::Array{Float64,1}, ::Array{Float64,1}, ::Array{Float64,2})\u001b[0m\nClosest candidates are:\n  backward_linear(\u001b[91m::Array{Float64,2}\u001b[39m, \u001b[91m::Array{Float64,2}\u001b[39m, ::Array{Float64,2}) at /Users/changliuliu/GitHub/NeuralVerification.jl/src/reachability/reluVal.jl:220\u001b[39m",
          "traceback": [
            "\u001b[91mMethodError: no method matching backward_linear(::Array{Float64,1}, ::Array{Float64,1}, ::Array{Float64,2})\u001b[0m\nClosest candidates are:\n  backward_linear(\u001b[91m::Array{Float64,2}\u001b[39m, \u001b[91m::Array{Float64,2}\u001b[39m, ::Array{Float64,2}) at /Users/changliuliu/GitHub/NeuralVerification.jl/src/reachability/reluVal.jl:220\u001b[39m",
            "",
            "Stacktrace:",
            " [1] \u001b[1mback_prop\u001b[22m\u001b[22m\u001b[1m(\u001b[22m\u001b[22m::Network, ::Array{GradientMask,1}\u001b[1m)\u001b[22m\u001b[22m at \u001b[1m/Users/changliuliu/GitHub/NeuralVerification.jl/src/reachability/reluVal.jl:212\u001b[22m\u001b[22m",
            " [2] \u001b[1msolve\u001b[22m\u001b[22m\u001b[1m(\u001b[22m\u001b[22m::ReluVal, ::ReachabilityProblem{LazySets.Hyperrectangle{Float64}}\u001b[1m)\u001b[22m\u001b[22m at \u001b[1m/Users/changliuliu/GitHub/NeuralVerification.jl/src/reachability/reluVal.jl:47\u001b[22m\u001b[22m",
            " [3] \u001b[1minclude_string\u001b[22m\u001b[22m\u001b[1m(\u001b[22m\u001b[22m::String, ::String\u001b[1m)\u001b[22m\u001b[22m at \u001b[1m./loading.jl:522\u001b[22m\u001b[22m",
            " [4] \u001b[1mexecute_request\u001b[22m\u001b[22m\u001b[1m(\u001b[22m\u001b[22m::ZMQ.Socket, ::IJulia.Msg\u001b[1m)\u001b[22m\u001b[22m at \u001b[1m/Users/changliuliu/.julia/v0.6/IJulia/src/execute_request.jl:193\u001b[22m\u001b[22m",
            " [5] \u001b[1m(::Compat.#inner#14{Array{Any,1},IJulia.#execute_request,Tuple{ZMQ.Socket,IJulia.Msg}})\u001b[22m\u001b[22m\u001b[1m(\u001b[22m\u001b[22m\u001b[1m)\u001b[22m\u001b[22m at \u001b[1m/Users/changliuliu/.julia/v0.6/Compat/src/Compat.jl:332\u001b[22m\u001b[22m",
            " [6] \u001b[1meventloop\u001b[22m\u001b[22m\u001b[1m(\u001b[22m\u001b[22m::ZMQ.Socket\u001b[1m)\u001b[22m\u001b[22m at \u001b[1m/Users/changliuliu/.julia/v0.6/IJulia/src/eventloop.jl:8\u001b[22m\u001b[22m",
            " [7] \u001b[1m(::IJulia.##13#16)\u001b[22m\u001b[22m\u001b[1m(\u001b[22m\u001b[22m\u001b[1m)\u001b[22m\u001b[22m at \u001b[1m./task.jl:335\u001b[22m\u001b[22m"
          ]
        }
      ],
      "execution_count": 29,
      "metadata": {
        "collapsed": false,
        "outputHidden": false,
        "inputHidden": false
      }
    }
  ],
  "metadata": {
    "kernel_info": {
      "name": "julia-0.6"
    },
    "language_info": {
      "file_extension": ".jl",
      "name": "julia",
      "mimetype": "application/julia",
      "version": "0.6.4"
    },
    "kernelspec": {
      "name": "julia-0.6",
      "language": "julia",
      "display_name": "Julia 0.6.4"
    },
    "nteract": {
      "version": "0.11.6"
    }
  },
  "nbformat": 4,
  "nbformat_minor": 4
}