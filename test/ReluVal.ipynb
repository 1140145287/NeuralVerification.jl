{
  "cells": [
    {
      "cell_type": "code",
      "source": [
        "include(\"../src/utils/util.jl\")\n",
        "include(\"../src/utils/network.jl\")\n",
        "include(\"../src/utils/problem.jl\")\n",
        "include(\"../src/utils/activation.jl\")"
      ],
      "outputs": [],
      "execution_count": null,
      "metadata": {
        "collapsed": false,
        "outputHidden": false,
        "inputHidden": false
      }
    },
    {
      "cell_type": "code",
      "source": [
        "using LazySets"
      ],
      "outputs": [],
      "execution_count": null,
      "metadata": {
        "collapsed": false,
        "outputHidden": false,
        "inputHidden": false
      }
    },
    {
      "cell_type": "code",
      "source": [
        "include(\"../src/reachability/reluVal.jl\")\n",
        "interval = high_dim_interval([1.0, 2.0],[20.0, 3.0])\n",
        "println(interval)\n",
        "forward_linear(interval, eye(Float64,2,2),[1.0, 2.0])"
      ],
      "outputs": [],
      "execution_count": null,
      "metadata": {
        "collapsed": false,
        "outputHidden": false,
        "inputHidden": false
      }
    },
    {
      "cell_type": "code",
      "source": [
        "include(\"../src/reachability/reluVal.jl\")\n",
        "Low = [1.0 2.0 -30.0; 0.0 0.0 1.0]\n",
        "Up = [1.0 2.0 -10.0; 0.0 0.0 10.0]\n",
        "println(upper_bound(Low[2, :], interval))\n",
        "sym = Symbolic_Interval(Low, Up, interval)\n",
        "println(forward_linear(sym, eye(Float64,2,2), [1.0, 2.0]))\n",
        "forward_act(Low, Up, interval)"
      ],
      "outputs": [],
      "execution_count": null,
      "metadata": {
        "collapsed": false,
        "outputHidden": false,
        "inputHidden": false
      }
    }
  ],
  "metadata": {
    "kernel_info": {
      "name": "julia-0.6"
    },
    "language_info": {
      "file_extension": ".jl",
      "name": "julia",
      "mimetype": "application/julia",
      "version": "0.6.4"
    },
    "kernelspec": {
      "name": "julia-0.6",
      "language": "julia",
      "display_name": "Julia 0.6.4"
    },
    "nteract": {
      "version": "0.11.6"
    }
  },
  "nbformat": 4,
  "nbformat_minor": 4
}