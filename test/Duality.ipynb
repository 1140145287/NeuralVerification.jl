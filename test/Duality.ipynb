{
  "cells": [
    {
      "cell_type": "code",
      "source": [
        "using JuMP\n",
        "using MathProgBase.SolverInterface\n",
        "using GLPKMathProgInterface\n",
        "using LazySets\n",
        "include(\"../src/utils/network.jl\")\n",
        "include(\"../src/utils/problem.jl\")\n",
        "include(\"../src/utils/activation.jl\")\n",
        "include(\"../src/utils/util.jl\")\n",
        "include(\"../src/feasibility/utils/feasibility.jl\")\n",
        "include(\"../src/feasibility/duality.jl\")\n",
        "include(\"../src/reachability/maxSens.jl\")"
      ],
      "outputs": [],
      "execution_count": 2,
      "metadata": {
        "collapsed": false,
        "outputHidden": false,
        "inputHidden": false
      }
    },
    {
      "cell_type": "code",
      "source": [
        "include(\"../src/feasibility/duality.jl\")\n",
        "small_nnet = read_nnet(\"../examples/networks/small_nnet.txt\")\n",
        "optimizer = GLPKSolverMIP()\n",
        "solver = Duality(optimizer)\n",
        "inputSet = Hyperrectangle([1.0],[1.0])\n",
        "A = zeros(1,1)\n",
        "A[1,1] = -1.0\n",
        "outputSet = HPolytope(A,[-10.0])\n",
        "problem = Problem(small_nnet, inputSet, outputSet)\n",
        "solve(solver, problem)"
      ],
      "outputs": [
        {
          "output_type": "execute_result",
          "execution_count": 9,
          "data": {
            "text/plain": [
              "Result(:Undertermined, Float64[])"
            ]
          },
          "metadata": {}
        }
      ],
      "execution_count": 9,
      "metadata": {
        "collapsed": false,
        "outputHidden": false,
        "inputHidden": false
      }
    }
  ],
  "metadata": {
    "kernel_info": {
      "name": "julia-0.6"
    },
    "language_info": {
      "file_extension": ".jl",
      "name": "julia",
      "mimetype": "application/julia",
      "version": "0.6.4"
    },
    "kernelspec": {
      "name": "julia-0.6",
      "language": "julia",
      "display_name": "Julia 0.6.4"
    },
    "nteract": {
      "version": "0.11.7"
    }
  },
  "nbformat": 4,
  "nbformat_minor": 4
}