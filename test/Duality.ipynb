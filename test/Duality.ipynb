{
 "cells": [
  {
   "cell_type": "code",
   "execution_count": 1,
   "metadata": {
    "inputHidden": false,
    "outputHidden": false
   },
   "outputs": [
    {
     "name": "stderr",
     "output_type": "stream",
     "text": [
      "\u001b[1m\u001b[36mINFO: \u001b[39m\u001b[22m\u001b[36mRecompiling stale cache file /Users/tomer/.julia/lib/v0.6/LinQuadOptInterface.ji for module LinQuadOptInterface.\n",
      "\u001b[39m\u001b[1m\u001b[36mINFO: \u001b[39m\u001b[22m\u001b[36mRecompiling stale cache file /Users/tomer/.julia/lib/v0.6/GLPKMathProgInterface.ji for module GLPKMathProgInterface.\n",
      "\u001b[39m\u001b[1m\u001b[36mINFO: \u001b[39m\u001b[22m\u001b[36mRecompiling stale cache file /Users/tomer/.julia/lib/v0.6/LazySets.ji for module LazySets.\n",
      "\u001b[39mWARNING: using Polyhedra.dim in module NeuralVerification conflicts with an existing identifier.\n"
     ]
    }
   ],
   "source": [
    "using Revise\n",
    "using NeuralVerification"
   ]
  },
  {
   "cell_type": "code",
   "execution_count": 2,
   "metadata": {
    "inputHidden": false,
    "outputHidden": false,
    "scrolled": true
   },
   "outputs": [
    {
     "ename": "LoadError",
     "evalue": "LoadError: \u001b[91mUndefVarError: Feasibility not defined\u001b[39m\nwhile loading /Users/tomer/.julia/v0.6/NeuralVerification.jl/src/feasibility/duality.jl, in expression starting on line 5",
     "output_type": "error",
     "traceback": [
      "LoadError: \u001b[91mUndefVarError: Feasibility not defined\u001b[39m\nwhile loading /Users/tomer/.julia/v0.6/NeuralVerification.jl/src/feasibility/duality.jl, in expression starting on line 5",
      "",
      "Stacktrace:",
      " [1] \u001b[1minclude_from_node1\u001b[22m\u001b[22m\u001b[1m(\u001b[22m\u001b[22m::String\u001b[1m)\u001b[22m\u001b[22m at \u001b[1m./loading.jl:576\u001b[22m\u001b[22m",
      " [2] \u001b[1minclude\u001b[22m\u001b[22m\u001b[1m(\u001b[22m\u001b[22m::String\u001b[1m)\u001b[22m\u001b[22m at \u001b[1m./sysimg.jl:14\u001b[22m\u001b[22m",
      " [3] \u001b[1minclude_string\u001b[22m\u001b[22m\u001b[1m(\u001b[22m\u001b[22m::String, ::String\u001b[1m)\u001b[22m\u001b[22m at \u001b[1m./loading.jl:522\u001b[22m\u001b[22m",
      " [4] \u001b[1mexecute_request\u001b[22m\u001b[22m\u001b[1m(\u001b[22m\u001b[22m::ZMQ.Socket, ::IJulia.Msg\u001b[1m)\u001b[22m\u001b[22m at \u001b[1m/Users/tomer/.julia/v0.6/IJulia/src/execute_request.jl:193\u001b[22m\u001b[22m",
      " [5] \u001b[1m(::Compat.#inner#14{Array{Any,1},IJulia.#execute_request,Tuple{ZMQ.Socket,IJulia.Msg}})\u001b[22m\u001b[22m\u001b[1m(\u001b[22m\u001b[22m\u001b[1m)\u001b[22m\u001b[22m at \u001b[1m/Users/tomer/.julia/v0.6/Compat/src/Compat.jl:332\u001b[22m\u001b[22m",
      " [6] \u001b[1meventloop\u001b[22m\u001b[22m\u001b[1m(\u001b[22m\u001b[22m::ZMQ.Socket\u001b[1m)\u001b[22m\u001b[22m at \u001b[1m/Users/tomer/.julia/v0.6/IJulia/src/eventloop.jl:8\u001b[22m\u001b[22m",
      " [7] \u001b[1m(::IJulia.##13#16)\u001b[22m\u001b[22m\u001b[1m(\u001b[22m\u001b[22m\u001b[1m)\u001b[22m\u001b[22m at \u001b[1m./task.jl:335\u001b[22m\u001b[22m"
     ]
    }
   ],
   "source": [
    "include(\"../src/feasibility/duality.jl\")\n",
    "small_nnet = read_nnet(\"../examples/networks/small_nnet.txt\")\n",
    "optimizer = GLPKSolverMIP()\n",
    "solver = Duality(optimizer)\n",
    "inputSet = Hyperrectangle([1.0],[1.0])\n",
    "A = zeros(1,1)\n",
    "A[1,1] = -1.0\n",
    "outputSet = HPolytope(A,[-10.0])\n",
    "problem = Problem(small_nnet, inputSet, outputSet)\n",
    "solve(solver, problem)"
   ]
  }
 ],
 "metadata": {
  "kernel_info": {
   "name": "julia-0.6"
  },
  "kernelspec": {
   "display_name": "Julia 0.6.2",
   "language": "julia",
   "name": "julia-0.6"
  },
  "language_info": {
   "file_extension": ".jl",
   "mimetype": "application/julia",
   "name": "julia",
   "version": "0.6.2"
  },
  "nteract": {
   "version": "0.11.7"
  }
 },
 "nbformat": 4,
 "nbformat_minor": 4
}
