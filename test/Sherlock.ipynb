{
  "cells": [
    {
      "cell_type": "code",
      "source": [
        "using JuMP\n",
        "using MathProgBase.SolverInterface\n",
        "using GLPKMathProgInterface\n",
        "using LazySets\n",
        "include(\"../src/utils/activation.jl\")\n",
        "include(\"../src/utils/network.jl\")\n",
        "include(\"../src/utils/problem.jl\")\n",
        "include(\"../src/utils/util.jl\")\n",
        "include(\"../src/adversarial/sherlock.jl\")\n",
        "include(\"../src/feasibility/utils/feasibility.jl\")\n",
        "include(\"../src/feasibility/reverify.jl\")"
      ],
      "outputs": [],
      "execution_count": null,
      "metadata": {}
    },
    {
      "cell_type": "code",
      "source": [
        "include(\"../src/adversarial/sherlock.jl\")\n",
        "small_nnet = read_nnet(\"../examples/networks/small_nnet.txt\")\n",
        "inputSet = Hyperrectangle([2.0], [.5])\n",
        "outputSet = Hyperrectangle([10.0], [10.0])\n",
        "problem = Problem(small_nnet, inputSet, outputSet)\n",
        "optimizer = GLPKSolverMIP()\n",
        "solver = Sherlock(optimizer, 0.1)\n",
        "solve(solver, problem)"
      ],
      "outputs": [],
      "execution_count": null,
      "metadata": {}
    }
  ],
  "metadata": {
    "kernelspec": {
      "name": "julia-0.6",
      "language": "julia",
      "display_name": "Julia 0.6.4"
    },
    "language_info": {
      "file_extension": ".jl",
      "name": "julia",
      "mimetype": "application/julia",
      "version": "0.6.4"
    },
    "kernel_info": {
      "name": "julia-0.6"
    },
    "nteract": {
      "version": "0.11.7"
    }
  },
  "nbformat": 4,
  "nbformat_minor": 2
}