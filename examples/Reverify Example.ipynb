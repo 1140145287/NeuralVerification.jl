{
 "cells": [
  {
   "cell_type": "code",
   "execution_count": 1,
   "metadata": {
    "collapsed": true
   },
   "outputs": [],
   "source": [
    "using JuMP\n",
    "using MathProgBase\n",
    "using GLPKMathProgInterface"
   ]
  },
  {
   "cell_type": "code",
   "execution_count": 10,
   "metadata": {},
   "outputs": [],
   "source": [
    "include(\"../solver/solver.jl\")\n",
    "include(\"../src/utils/activation.jl\")\n",
    "include(\"../src/utils/problem.jl\")\n",
    "include(\"../src/utils/util.jl\")\n",
    "include(\"../src/feasibility/reverify.jl\")"
   ]
  },
  {
   "cell_type": "code",
   "execution_count": 11,
   "metadata": {},
   "outputs": [
    {
     "data": {
      "text/plain": [
       "FeasibilityProblem{LazySets.HPolytope{Float64}}(Network(Layer[Layer([1.0; 1.0], [1.5, 1.5], ReLU()), Layer([2.0 2.0; 2.0 2.0], [2.5, 2.5], ReLU()), Layer([3.0 3.0], [3.5], ReLU())]), LazySets.HPolytope{Float64}(LazySets.HalfSpace{Float64}[LazySets.HalfSpace{Float64}([0.0], 0.0)]), LazySets.HPolytope{Float64}(LazySets.HalfSpace{Float64}[LazySets.HalfSpace{Float64}([0.0], 100.0)]))"
      ]
     },
     "execution_count": 11,
     "metadata": {},
     "output_type": "execute_result"
    }
   ],
   "source": [
    "small_nnet = read_nnet(\"networks/small_nnet.txt\")\n",
    "# input = Constraints(zeros(1,1), zeros(1), [0.0], [0.0])\n",
    "# output = Constraints(zeros(1,1), zeros(1), [100.0], [0.0]) # check this - if one output var should be zeros(1,1)\n",
    "# need to get A[I, -I]x = [upper, -lower] somehow\n",
    "input  = HPolytope(zeros(1,1), [0.0])\n",
    "output = HPolytope(zeros(1,1), [100.0])\n",
    "problem = FeasibilityProblem(small_nnet, input, output)\n",
    "solver = ReverifySolver(1000)\n",
    "solve(solver, problem)"
   ]
  }
 ],
 "metadata": {
  "kernelspec": {
   "display_name": "Julia 0.6.2",
   "language": "julia",
   "name": "julia-0.6"
  },
  "language_info": {
   "file_extension": ".jl",
   "mimetype": "application/julia",
   "name": "julia",
   "version": "0.6.2"
  }
 },
 "nbformat": 4,
 "nbformat_minor": 2
}
