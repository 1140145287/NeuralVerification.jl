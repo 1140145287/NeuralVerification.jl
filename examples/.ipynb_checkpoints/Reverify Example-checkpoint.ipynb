{
 "cells": [
  {
   "cell_type": "code",
   "execution_count": 1,
   "metadata": {},
   "outputs": [
    {
     "name": "stderr",
     "output_type": "stream",
     "text": [
      "\u001b[1m\u001b[36mINFO: \u001b[39m\u001b[22m\u001b[36mUpdating METADATA...\n",
      "\u001b[39m\u001b[1m\u001b[36mINFO: \u001b[39m\u001b[22m\u001b[36mComputing changes...\n",
      "\u001b[39m\u001b[1m\u001b[36mINFO: \u001b[39m\u001b[22m\u001b[36mNo packages to install, update or remove\n",
      "\u001b[39m\u001b[1m\u001b[36mINFO: \u001b[39m\u001b[22m\u001b[36mPackage JuMP is already installed\n",
      "\u001b[39m\u001b[1m\u001b[36mINFO: \u001b[39m\u001b[22m\u001b[36mPackage GLPKMathProgInterface is already installed\n",
      "\u001b[39m"
     ]
    }
   ],
   "source": [
    "Pkg.update() \n",
    "Pkg.add(\"JuMP\")\n",
    "Pkg.add(\"GLPKMathProgInterface\")"
   ]
  },
  {
   "cell_type": "code",
   "execution_count": 2,
   "metadata": {},
   "outputs": [],
   "source": [
    "using JuMP\n",
    "using MathProgBase\n",
    "using GLPKMathProgInterface"
   ]
  },
  {
   "cell_type": "code",
   "execution_count": 3,
   "metadata": {},
   "outputs": [
    {
     "ename": "LoadError",
     "evalue": "\u001b[91mcould not open file /home/amelia/dnn_safety/examples/reverify.jl\u001b[39m",
     "output_type": "error",
     "traceback": [
      "\u001b[91mcould not open file /home/amelia/dnn_safety/examples/reverify.jl\u001b[39m",
      "",
      "Stacktrace:",
      " [1] \u001b[1minclude_from_node1\u001b[22m\u001b[22m\u001b[1m(\u001b[22m\u001b[22m::String\u001b[1m)\u001b[22m\u001b[22m at \u001b[1m./loading.jl:576\u001b[22m\u001b[22m",
      " [2] \u001b[1minclude\u001b[22m\u001b[22m\u001b[1m(\u001b[22m\u001b[22m::String\u001b[1m)\u001b[22m\u001b[22m at \u001b[1m./sysimg.jl:14\u001b[22m\u001b[22m"
     ]
    }
   ],
   "source": [
    "include(\"../utils/util.jl\")\n",
    "include(\"../utils/problem.jl\")\n",
    "include(\"../solver/solver.jl\")\n",
    "include(\"../reverify/reverify.jl\")"
   ]
  },
  {
   "cell_type": "code",
   "execution_count": 4,
   "metadata": {},
   "outputs": [
    {
     "data": {
      "text/plain": [
       "0.0"
      ]
     },
     "execution_count": 4,
     "metadata": {},
     "output_type": "execute_result"
    }
   ],
   "source": [
    "relu = ReLU()\n",
    "x = -5.5\n",
    "f(x, relu)"
   ]
  },
  {
   "cell_type": "code",
   "execution_count": 5,
   "metadata": {},
   "outputs": [
    {
     "ename": "LoadError",
     "evalue": "\u001b[91mSystemError: opening file small_nnet.txt: No such file or directory\u001b[39m",
     "output_type": "error",
     "traceback": [
      "\u001b[91mSystemError: opening file small_nnet.txt: No such file or directory\u001b[39m",
      "",
      "Stacktrace:",
      " [1] \u001b[1m#systemerror#44\u001b[22m\u001b[22m at \u001b[1m./error.jl:64\u001b[22m\u001b[22m [inlined]",
      " [2] \u001b[1msystemerror\u001b[22m\u001b[22m\u001b[1m(\u001b[22m\u001b[22m::String, ::Bool\u001b[1m)\u001b[22m\u001b[22m at \u001b[1m./error.jl:64\u001b[22m\u001b[22m",
      " [3] \u001b[1mopen\u001b[22m\u001b[22m\u001b[1m(\u001b[22m\u001b[22m::String, ::Bool, ::Bool, ::Bool, ::Bool, ::Bool\u001b[1m)\u001b[22m\u001b[22m at \u001b[1m./iostream.jl:104\u001b[22m\u001b[22m",
      " [4] \u001b[1mread_nnet\u001b[22m\u001b[22m\u001b[1m(\u001b[22m\u001b[22m::String\u001b[1m)\u001b[22m\u001b[22m at \u001b[1m/home/amelia/dnn_safety/utils/util.jl:41\u001b[22m\u001b[22m"
     ]
    }
   ],
   "source": [
    "#=\n",
    "Create example problem using small_nnet and the input/output constraitns in Reverify.ipynb\n",
    "=#\n",
    "small_nnet = read_nnet(\"small_nnet.txt\")\n",
    "input = Constraints(zeros(1,1), zeros(1), [0.0], [0.0])\n",
    "output = Constraints(zeros(1,1), zeros(1), [100.0], [0.0]) # check this - if one output var should be zeros(1,1)\n",
    "problem = Problem(small_nnet, input, output)"
   ]
  },
  {
   "cell_type": "code",
   "execution_count": 6,
   "metadata": {},
   "outputs": [
    {
     "ename": "LoadError",
     "evalue": "\u001b[91mUndefVarError: ReverifySolver not defined\u001b[39m",
     "output_type": "error",
     "traceback": [
      "\u001b[91mUndefVarError: ReverifySolver not defined\u001b[39m",
      ""
     ]
    }
   ],
   "source": [
    "model = Model(solver=GLPKSolverMIP())\n",
    "solver = ReverifySolver(model, 1000.0)"
   ]
  },
  {
   "cell_type": "code",
   "execution_count": 7,
   "metadata": {
    "scrolled": true
   },
   "outputs": [
    {
     "ename": "LoadError",
     "evalue": "\u001b[91mUndefVarError: encode not defined\u001b[39m",
     "output_type": "error",
     "traceback": [
      "\u001b[91mUndefVarError: encode not defined\u001b[39m",
      ""
     ]
    }
   ],
   "source": [
    "encode(solver,problem)"
   ]
  },
  {
   "cell_type": "code",
   "execution_count": 8,
   "metadata": {},
   "outputs": [
    {
     "ename": "LoadError",
     "evalue": "\u001b[91mUndefVarError: solveMIP not defined\u001b[39m",
     "output_type": "error",
     "traceback": [
      "\u001b[91mUndefVarError: solveMIP not defined\u001b[39m",
      ""
     ]
    }
   ],
   "source": [
    "solveMIP(solver)"
   ]
  },
  {
   "cell_type": "code",
   "execution_count": null,
   "metadata": {},
   "outputs": [],
   "source": []
  }
 ],
 "metadata": {
  "kernelspec": {
   "display_name": "Julia 0.6.1",
   "language": "julia",
   "name": "julia-0.6"
  },
  "language_info": {
   "file_extension": ".jl",
   "mimetype": "application/julia",
   "name": "julia",
   "version": "0.6.1"
  }
 },
 "nbformat": 4,
 "nbformat_minor": 2
}
