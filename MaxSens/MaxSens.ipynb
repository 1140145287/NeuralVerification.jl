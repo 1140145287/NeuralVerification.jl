{
  "cells": [
    {
      "cell_type": "code",
      "source": [
        "Pkg.update() \n",
        "Pkg.add(\"JuMP\")"
      ],
      "outputs": [
        {
          "output_type": "stream",
          "name": "stderr",
          "text": [
            "\u001b[1m\u001b[36mINFO: \u001b[39m\u001b[22m\u001b[36mUpdating METADATA...\n",
            "\u001b[39m\u001b[1m\u001b[36mINFO: \u001b[39m\u001b[22m\u001b[36mUpdating PGFPlots master...\n",
            "\u001b[39m\u001b[1m\u001b[36mINFO: \u001b[39m\u001b[22m\u001b[36mComputing changes...\n",
            "\u001b[39m\u001b[1m\u001b[36mINFO: \u001b[39m\u001b[22m\u001b[36mNo packages to install, update or remove\n",
            "\u001b[39m"
          ]
        }
      ],
      "execution_count": 1,
      "metadata": {
        "collapsed": false,
        "outputHidden": false,
        "inputHidden": false
      }
    },
    {
      "cell_type": "code",
      "source": [
        "using JuMP"
      ],
      "outputs": [
        {
          "output_type": "stream",
          "name": "stderr",
          "text": [
            "\u001b[1m\u001b[36mINFO: \u001b[39m\u001b[22m\u001b[36mPackage JuMP is already installed\n",
            "\u001b[39m"
          ]
        }
      ],
      "execution_count": 2,
      "metadata": {
        "collapsed": false,
        "outputHidden": false,
        "inputHidden": false
      }
    },
    {
      "cell_type": "code",
      "source": [
        "include(\"../utils/util.jl\")\n",
        "include(\"../utils/network.jl\")\n",
        "include(\"../utils/problem.jl\")\n",
        "include(\"maxSens.jl\")"
      ],
      "outputs": [
        {
          "output_type": "execute_result",
          "execution_count": 17,
          "data": {
            "text/plain": [
              "gridPartition (generic function with 1 method)"
            ]
          },
          "metadata": {}
        }
      ],
      "execution_count": 17,
      "metadata": {
        "collapsed": false,
        "outputHidden": false,
        "inputHidden": false
      }
    },
    {
      "cell_type": "code",
      "source": [
        "small_nnet = read_nnet(\"../reverify/small_nnet.txt\")"
      ],
      "outputs": [
        {
          "output_type": "execute_result",
          "execution_count": 4,
          "data": {
            "text/plain": [
              "Network(Layer[Layer([1.0; 1.0], [1.5, 1.5]), Layer([2.0 2.0; 2.0 2.0], [2.5, 2.5]), Layer([3.0 3.0], [3.5])])"
            ]
          },
          "metadata": {}
        }
      ],
      "execution_count": 4,
      "metadata": {
        "collapsed": false,
        "outputHidden": false,
        "inputHidden": false
      }
    },
    {
      "cell_type": "code",
      "source": [
        "function MaxSens(nnet::Network,x0::Vector{Float64},delta0::Float64,actFunc::Function)\n",
        "    n_layer = length(nnet.layers)\n",
        "    x = Vector{Vector{Float64}}(n_layer+1)\n",
        "    x[1] = x0\n",
        "    delta = Vector{Float64}(n_layer+1)\n",
        "    delta[1] = delta0\n",
        "    for i in 1:n_layer\n",
        "        n_node = size(nnet.layers[i].weights)[1]\n",
        "        gamma = Vector{Float64}(n_node)\n",
        "        input = nnet.layers[i].weights * x[i] + nnet.layers[i].bias\n",
        "        for j in 1:n_node\n",
        "            beta = getBounds(x[i],delta[i],nnet.layers[i].weights[j,:],nnet.layers[i].bias[j])\n",
        "            gamma[j] = getGamma(actFunc, input[j], beta)\n",
        "        end\n",
        "        x[i+1] = actFunc(input)\n",
        "        delta[i+1] = maximum(gamma)\n",
        "    end\n",
        "    return [x[n_layer+1],delta[n_layer+1]]\n",
        "end\n",
        "\n",
        "ff(x) = ReLU(x)\n",
        "x, theta = MaxSens(small_nnet, [1.0], .3, ff)"
      ],
      "outputs": [
        {
          "output_type": "execute_result",
          "execution_count": 5,
          "data": {
            "text/plain": [
              "2-element Array{Any,1}:\n",
              "  [78.5]\n",
              " 7.2    "
            ]
          },
          "metadata": {}
        }
      ],
      "execution_count": 5,
      "metadata": {
        "collapsed": false,
        "outputHidden": false,
        "inputHidden": false
      }
    },
    {
      "cell_type": "code",
      "source": [
        "function OutputReach(nnet::Network, inputSet::Constraints, delta::Float64, actFunc::Function)\n",
        "    x = gridPartition(inputSet, delta)\n",
        "    n_grid = length(x)\n",
        "    y = Vector{Vector{Float64}}(n_grid)\n",
        "    epsilon = Vector{Float64}(n_grid)\n",
        "    for i in 1:n_grid\n",
        "        output = MaxSens(nnet, x[i], delta, ff)\n",
        "        y[i] = output[1]\n",
        "        epsilon[i] = output[2]\n",
        "    end\n",
        "    return [y, epsilon]\n",
        "end\n",
        "\n",
        "inputSet = Constraints(Matrix(0,0),[],[1.0],[-1.0])\n",
        "OutputReach(small_nnet, inputSet, 0.3, ff)"
      ],
      "outputs": [
        {
          "output_type": "execute_result",
          "execution_count": 30,
          "data": {
            "text/plain": [
              "2-element Array{Array{Any,1},1}:\n",
              " Any[[34.1], [41.3], [48.5], [55.7], [62.9], [70.1], [77.3]]\n",
              " Any[7.2, 7.2, 7.2, 7.2, 7.2, 7.2, 7.2]                     "
            ]
          },
          "metadata": {}
        }
      ],
      "execution_count": 30,
      "metadata": {
        "collapsed": false,
        "outputHidden": false,
        "inputHidden": false
      }
    }
  ],
  "metadata": {
    "kernel_info": {
      "name": "julia-0.6"
    },
    "language_info": {
      "file_extension": ".jl",
      "name": "julia",
      "mimetype": "application/julia",
      "version": "0.6.4"
    },
    "kernelspec": {
      "name": "julia-0.6",
      "language": "julia",
      "display_name": "Julia 0.6.4"
    },
    "nteract": {
      "version": "0.11.2"
    }
  },
  "nbformat": 4,
  "nbformat_minor": 4
}