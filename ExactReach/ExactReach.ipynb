{
  "cells": [
    {
      "cell_type": "code",
      "source": [
        "include(\"../utils/util.jl\")\n",
        "include(\"../utils/network.jl\")\n",
        "include(\"../utils/problem.jl\")\n",
        "include(\"exactReach.jl\")\n",
        "using LazySets"
      ],
      "outputs": [],
      "execution_count": 1,
      "metadata": {
        "collapsed": false,
        "outputHidden": false,
        "inputHidden": false
      }
    },
    {
      "cell_type": "code",
      "source": [
        "small_nnet = read_nnet(\"../examples/networks/small_nnet.txt\")\n",
        "inputSet = Constraints(eye(1),[1.0],[1.0],[-1.0])\n",
        "outputSet = Constraints(zeros(1,1),[0],[100.0],[-1.0])\n",
        "problem = FeasibilityProblem(small_nnet, inputSet, outputSet)\n",
        "solver = ExactReach()\n",
        "solve(solver, problem)"
      ],
      "outputs": [
        {
          "output_type": "execute_result",
          "execution_count": 2,
          "data": {
            "text/plain": [
              "true"
            ]
          },
          "metadata": {}
        }
      ],
      "execution_count": 2,
      "metadata": {
        "collapsed": false,
        "outputHidden": false,
        "inputHidden": false
      }
    }
  ],
  "metadata": {
    "kernel_info": {
      "name": "julia-0.6"
    },
    "language_info": {
      "file_extension": ".jl",
      "name": "julia",
      "mimetype": "application/julia",
      "version": "0.6.4"
    },
    "kernelspec": {
      "name": "julia-0.6",
      "language": "julia",
      "display_name": "Julia 0.6.4"
    },
    "nteract": {
      "version": "0.11.6"
    }
  },
  "nbformat": 4,
  "nbformat_minor": 4
}